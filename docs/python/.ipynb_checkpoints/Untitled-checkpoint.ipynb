{
 "cells": [
  {
   "cell_type": "markdown",
   "id": "a5f15195-5b0c-4c4b-8633-587fe0d741e0",
   "metadata": {},
   "source": [
    "# docstring"
   ]
  },
  {
   "cell_type": "markdown",
   "id": "d1853daf-f8de-4fb9-9547-df0438be8427",
   "metadata": {},
   "source": [
    "## docstring 이란\n",
    "* python class, function, attributes에 대한 설명/주석\n",
    "* 아래는 pandas 객체의 read_csv()함수에 대한 docstring 내용임"
   ]
  },
  {
   "cell_type": "code",
   "execution_count": 32,
   "id": "a7b31dcf-ae23-4d40-af6a-418820068c04",
   "metadata": {},
   "outputs": [],
   "source": [
    "import pickle\n",
    "import pandas as pd"
   ]
  },
  {
   "cell_type": "code",
   "execution_count": 34,
   "id": "ef50bdc5-2f68-43ad-9c07-30870551c0d4",
   "metadata": {},
   "outputs": [
    {
     "name": "stdout",
     "output_type": "stream",
     "text": [
      "Create portable serialized representations of Python objects.\n",
      "\n",
      "See module copyreg for a mechanism for registering custom picklers.\n",
      "See module pickletools source for extensive comments.\n",
      "\n",
      "Classes:\n",
      "\n",
      "    Pickler\n",
      "    Unpickler\n",
      "\n",
      "Functions:\n",
      "\n",
      "    dump(object, file)\n",
      "    dumps(object) -> string\n",
      "    load(file) -> object\n",
      "    loads(bytes) -> object\n",
      "\n",
      "Misc variables:\n",
      "\n",
      "    __version__\n",
      "    format_version\n",
      "    compatible_formats\n",
      "\n",
      "\n"
     ]
    }
   ],
   "source": [
    "print(pickle.__doc__)\n",
    "# print(pd.read_csv.__doc__)"
   ]
  },
  {
   "cell_type": "markdown",
   "id": "18a896f7-1873-4758-b19a-5cd08686f6fc",
   "metadata": {},
   "source": [
    "## docstring syntax"
   ]
  },
  {
   "cell_type": "markdown",
   "id": "b85c11e3-28a9-453d-9ea7-c940159ae7bf",
   "metadata": {},
   "source": [
    "### inline docstring"
   ]
  },
  {
   "cell_type": "code",
   "execution_count": 35,
   "id": "6664f5bc-43f1-463a-a78d-037ae73aa651",
   "metadata": {},
   "outputs": [],
   "source": [
    "def square(n):\n",
    "    ''' Takes in a number n, returns the square of n'''\n",
    "    return n**2"
   ]
  },
  {
   "cell_type": "code",
   "execution_count": 36,
   "id": "ccb59da8-71a8-433f-b0b4-179fc1258b35",
   "metadata": {},
   "outputs": [
    {
     "data": {
      "text/markdown": [
       " Takes in a number n, returns the square of n"
      ],
      "text/plain": [
       "<IPython.core.display.Markdown object>"
      ]
     },
     "metadata": {},
     "output_type": "display_data"
    }
   ],
   "source": [
    "display(Markdown(square.__doc__))"
   ]
  },
  {
   "cell_type": "markdown",
   "id": "4de72ba1-baa3-4203-9281-f64fe700eff1",
   "metadata": {},
   "source": [
    "### multline docstring"
   ]
  },
  {
   "cell_type": "code",
   "execution_count": 37,
   "id": "3ceff7ad-2f9e-472c-925d-7bfc82cf22b2",
   "metadata": {},
   "outputs": [],
   "source": [
    "def add_binary(a, b):\n",
    "    '''\n",
    "    Returns the sum of two decimal numbers in binary digits.\n",
    "\n",
    "            Parameters:\n",
    "                    a (int): A decimal integer\n",
    "                    b (int): Another decimal integer\n",
    "\n",
    "            Returns:\n",
    "                    binary_sum (str): Binary string of the sum of a and b\n",
    "    '''\n",
    "    binary_sum = bin(a+b)[2:]\n",
    "    return binary_sum"
   ]
  },
  {
   "cell_type": "code",
   "execution_count": 38,
   "id": "42013c29-5c39-4f81-ae17-8340d727758a",
   "metadata": {},
   "outputs": [
    {
     "name": "stdout",
     "output_type": "stream",
     "text": [
      "\n",
      "    Returns the sum of two decimal numbers in binary digits.\n",
      "\n",
      "            Parameters:\n",
      "                    a (int): A decimal integer\n",
      "                    b (int): Another decimal integer\n",
      "\n",
      "            Returns:\n",
      "                    binary_sum (str): Binary string of the sum of a and b\n",
      "    \n"
     ]
    }
   ],
   "source": [
    "print(add_binary.__doc__)"
   ]
  },
  {
   "cell_type": "markdown",
   "id": "d992f366-c222-478f-b42e-988a500215e5",
   "metadata": {},
   "source": [
    "## jupyter notebook output format 정의\n",
    "* jupyter notebook output을 markdown 형태로 출력"
   ]
  },
  {
   "cell_type": "code",
   "execution_count": 39,
   "id": "c88c1812-bc03-4855-994a-ced098057a4f",
   "metadata": {},
   "outputs": [
    {
     "data": {
      "text/markdown": [
       "**_some_ markdown** and an [internal reference](render/output/markdown)!"
      ],
      "text/plain": [
       "<IPython.core.display.Markdown object>"
      ]
     },
     "metadata": {},
     "output_type": "display_data"
    }
   ],
   "source": [
    "from IPython.display import display, Markdown\n",
    "display(Markdown('**_some_ markdown** and an [internal reference](render/output/markdown)!'))"
   ]
  },
  {
   "cell_type": "code",
   "execution_count": null,
   "id": "6e9ef935-d1ed-478a-9696-674cc436dd95",
   "metadata": {},
   "outputs": [],
   "source": []
  }
 ],
 "metadata": {
  "kernelspec": {
   "display_name": "Python 3 (ipykernel)",
   "language": "python",
   "name": "python3"
  },
  "language_info": {
   "codemirror_mode": {
    "name": "ipython",
    "version": 3
   },
   "file_extension": ".py",
   "mimetype": "text/x-python",
   "name": "python",
   "nbconvert_exporter": "python",
   "pygments_lexer": "ipython3",
   "version": "3.10.6"
  }
 },
 "nbformat": 4,
 "nbformat_minor": 5
}
