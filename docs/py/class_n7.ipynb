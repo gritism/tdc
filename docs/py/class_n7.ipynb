{
 "cells": [
  {
   "cell_type": "markdown",
   "id": "e73f6a5c",
   "metadata": {
    "editable": true,
    "slideshow": {
     "slide_type": ""
    },
    "tags": []
   },
   "source": [
    "# class"
   ]
  },
  {
   "cell_type": "markdown",
   "id": "2fb46380-b315-4a51-a2df-c771ce37bd82",
   "metadata": {
    "editable": true,
    "slideshow": {
     "slide_type": ""
    },
    "tags": []
   },
   "source": [
    "## class 정의"
   ]
  },
  {
   "cell_type": "code",
   "execution_count": 1,
   "id": "14059dec-1ab0-438e-8f9c-ee5279bca17b",
   "metadata": {
    "editable": true,
    "slideshow": {
     "slide_type": ""
    },
    "tags": [
     "linenos"
    ]
   },
   "outputs": [],
   "source": [
    "class MyClass: # class 선언\n",
    "    def __init__(self, a: str = \"initial\"): # __init__ class constructor 역할 수행\n",
    "        self.__a = a # ① double underscore 변수 `__a` python private variable 역할 수행\n",
    "        \n",
    "    def __call__(self): # ② dunder method: class 내부 동작 정의함수\n",
    "        print('class/object invoke')\n",
    "        \n",
    "    @property # ③ getter property 선언\n",
    "    def a(self):\n",
    "        return self.__a\n",
    "    \n",
    "    @a.setter # ③ setter property 선언 형식:{변수명.setter}\n",
    "    def a(self, new_value):\n",
    "        self.__a = new_value\n",
    "    \n",
    "    def melon(self):\n",
    "        print('I would like to eat melon')\n",
    "\n",
    "    def apple(self):\n",
    "        print('I would like to eat apple')\n",
    "\n",
    "    def banna(self):\n",
    "        print('I would like to eat banna')"
   ]
  },
  {
   "cell_type": "markdown",
   "id": "fe16c4d0-e6e9-4fbe-950c-1164fe250c6a",
   "metadata": {},
   "source": [
    "### ① 변수명\n",
    "* 클래스 선언 시 클래스 내부 변수 명에 double underscores을 prefix로 선언하면 obj.변수명으로 접근하는 것 방지\n",
    "### ② Dunder Method\n",
    "* Dunder: double underscore 약어\n",
    "* 클래스 내부 동작을 정의하기 위한 내장 함수 (__init__: 클래스 생성/초기화, __call__: 클래스를 함수처럼 사용 가능하게 하기 위한 함수)\n",
    "* 아래와 같이 클래스에 선언하지는 않았지만 사용가능한 dunder method "
   ]
  },
  {
   "cell_type": "markdown",
   "id": "6fea4f76",
   "metadata": {},
   "source": [
    "### ③ decorator(@property)\n",
    "* 객체 내부 변수 및 함수에 쉽게 접근하게 하기 위한 것\n",
    "* 객체 내부 변수 접근/조작을 하기 위한 별도 함수(def) 선언하지 않고 변수명으로 접근\n",
    "    - obj.a = \"second\""
   ]
  },
  {
   "cell_type": "code",
   "execution_count": 2,
   "id": "3f80c76c",
   "metadata": {},
   "outputs": [
    {
     "name": "stdout",
     "output_type": "stream",
     "text": [
      "['__call__', '__class__', '__delattr__', '__dict__', '__dir__', '__doc__', '__eq__', '__format__', '__ge__', '__getattribute__', '__gt__', '__hash__', '__init__', '__init_subclass__', '__le__', '__lt__', '__module__', '__ne__', '__new__', '__reduce__', '__reduce_ex__', '__repr__', '__setattr__', '__sizeof__', '__str__', '__subclasshook__', '__weakref__', 'a', 'apple', 'banna', 'melon']\n"
     ]
    }
   ],
   "source": [
    "print(dir(MyClass))"
   ]
  },
  {
   "cell_type": "markdown",
   "id": "eacaedfe",
   "metadata": {},
   "source": [
    "### getattr\n",
    "* 객체의 속성값을 리턴하는 함수\n",
    "* 복잡한 코드를 간결하게 만들기 위해 사용함 (변수명으로 관련함수 실행)"
   ]
  },
  {
   "cell_type": "code",
   "execution_count": 3,
   "id": "a430a13c",
   "metadata": {},
   "outputs": [
    {
     "name": "stdout",
     "output_type": "stream",
     "text": [
      "I would like to eat apple\n",
      "I would like to eat banna\n",
      "I would like to eat melon\n"
     ]
    }
   ],
   "source": [
    "obj = MyClass()\n",
    "\n",
    "arr = ['apple', 'banna', 'melon']\n",
    "\n",
    "for fruit in arr:\n",
    "    getattr(obj, f'{fruit}')() #변수명으로 MyClass의 함수 실행"
   ]
  },
  {
   "cell_type": "markdown",
   "id": "0a5f0826-8f72-4780-a0be-730538e95b49",
   "metadata": {
    "editable": true,
    "slideshow": {
     "slide_type": ""
    },
    "tags": []
   },
   "source": [
    "getattr 사용하지 않을 경우 code\n",
    "```\n",
    "for fruit in arr:\n",
    "    if fruit == \"apple\":\n",
    "        obj.apple()\n",
    "    elsif fruit == \"banna\":\n",
    "        obj.banna()\n",
    "    else:\n",
    "        obj.melon()        \n",
    "```"
   ]
  },
  {
   "cell_type": "markdown",
   "id": "42423272",
   "metadata": {
    "editable": true,
    "slideshow": {
     "slide_type": ""
    },
    "tags": []
   },
   "source": [
    "## 객체(Object) 생성(호출)\n",
    "* MyClass()로 객체 생성\n",
    "* 객체 생성 시 '__init__' 함수가 싫행되어 객체 초기화(initialize) 수행"
   ]
  },
  {
   "cell_type": "code",
   "execution_count": 4,
   "id": "1e87c1b0",
   "metadata": {},
   "outputs": [
    {
     "name": "stdout",
     "output_type": "stream",
     "text": [
      "initial\n"
     ]
    }
   ],
   "source": [
    "# 객체 생성 및 객체 변수(a) 출력\n",
    "obj = MyClass()\n",
    "print(obj.a)"
   ]
  },
  {
   "cell_type": "code",
   "execution_count": 5,
   "id": "4e107ea9",
   "metadata": {},
   "outputs": [
    {
     "name": "stdout",
     "output_type": "stream",
     "text": [
      "second\n"
     ]
    }
   ],
   "source": [
    "# 객체 변호(a)에 다른 값 assign 및 출력\n",
    "obj.a = \"second\"\n",
    "print(obj.a)"
   ]
  },
  {
   "cell_type": "code",
   "execution_count": 8,
   "id": "0f84b379",
   "metadata": {
    "editable": true,
    "slideshow": {
     "slide_type": ""
    },
    "tags": []
   },
   "outputs": [
    {
     "ename": "AttributeError",
     "evalue": "'MyClass' object has no attribute '__a'",
     "output_type": "error",
     "traceback": [
      "\u001b[0;31m---------------------------------------------------------------------------\u001b[0m",
      "\u001b[0;31mAttributeError\u001b[0m                            Traceback (most recent call last)",
      "Cell \u001b[0;32mIn[8], line 2\u001b[0m\n\u001b[1;32m      1\u001b[0m \u001b[38;5;66;03m# 객체 내부 변수를 아래와 같이 호출 시 에러 발생\u001b[39;00m\n\u001b[0;32m----> 2\u001b[0m \u001b[38;5;28mprint\u001b[39m(\u001b[43mobj\u001b[49m\u001b[38;5;241;43m.\u001b[39;49m\u001b[43m__a\u001b[49m)\n",
      "\u001b[0;31mAttributeError\u001b[0m: 'MyClass' object has no attribute '__a'"
     ]
    }
   ],
   "source": [
    "# 객체 내부 변수를 아래와 같이 호출 시 에러 발생\n",
    "print(obj.__a)"
   ]
  },
  {
   "cell_type": "code",
   "execution_count": null,
   "id": "ffff2a2b",
   "metadata": {},
   "outputs": [],
   "source": []
  }
 ],
 "metadata": {
  "celltoolbar": "Tags",
  "kernelspec": {
   "display_name": "Python 3 (ipykernel)",
   "language": "python",
   "name": "python3"
  },
  "language_info": {
   "codemirror_mode": {
    "name": "ipython",
    "version": 3
   },
   "file_extension": ".py",
   "mimetype": "text/x-python",
   "name": "python",
   "nbconvert_exporter": "python",
   "pygments_lexer": "ipython3",
   "version": "3.10.6"
  }
 },
 "nbformat": 4,
 "nbformat_minor": 5
}
