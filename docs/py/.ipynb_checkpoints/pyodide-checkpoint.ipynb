{
 "cells": [
  {
   "cell_type": "markdown",
   "id": "ca675622",
   "metadata": {},
   "source": [
    "# pyodide\n",
    "* python distribution for the **browser**\n",
    "    * install and run python packages with `micropip`\n",
    "* comes with **javascript** \n",
    "* based on **WebAssembly**\n",
    "  * [^WebAssembly]: ~~"
   ]
  },
  {
   "cell_type": "markdown",
   "id": "8bfb178a",
   "metadata": {},
   "source": [
    "## try repl"
   ]
  },
  {
   "cell_type": "markdown",
   "id": "63f103ff",
   "metadata": {},
   "source": [
    "[repl](https://pyodide.org/en/stable/console.html)"
   ]
  },
  {
   "cell_type": "markdown",
   "id": "fe00646e",
   "metadata": {},
   "source": [
    "## start"
   ]
  },
  {
   "cell_type": "markdown",
   "id": "eb94f285",
   "metadata": {},
   "source": [
    "````{tab}\n",
    "```{tab-item} option 1\n",
    "* using hosted distribution\n",
    "```\n",
    "```{tab-item} option 2\n",
    "* serve it with a web server (self hosting)\n",
    "```\n",
    "```{tab-item} option 3\n",
    "* build pyodide from source\n",
    "```\n",
    "````"
   ]
  },
  {
   "cell_type": "markdown",
   "id": "2f59d764",
   "metadata": {},
   "source": [
    "## using pyodide distribution (option 1)"
   ]
  },
  {
   "cell_type": "markdown",
   "id": "8d66e3ca",
   "metadata": {},
   "source": [
    "### 1. setup"
   ]
  },
  {
   "cell_type": "markdown",
   "id": "8a1e71cf",
   "metadata": {},
   "source": [
    "```\n",
    "https://cdn.jsdelivr.net/pyodide/v0.23.3/full/pyodide.js\n",
    "```"
   ]
  },
  {
   "cell_type": "markdown",
   "id": "16a352f4",
   "metadata": {},
   "source": [
    "### 2. running"
   ]
  },
  {
   "cell_type": "markdown",
   "id": "a91d6bf5",
   "metadata": {},
   "source": [
    "```{code-block}\n",
    "\n",
    "pyodide.runPython(`\n",
    "  import sys\n",
    "  sys.version\n",
    "`);\n",
    "\n",
    "```"
   ]
  },
  {
   "cell_type": "markdown",
   "id": "16544be6",
   "metadata": {},
   "source": [
    "### 3. example"
   ]
  },
  {
   "cell_type": "markdown",
   "id": "5b23fdd9",
   "metadata": {},
   "source": [
    "```{code-block}\n",
    "\n",
    "<!doctype html>\n",
    "<html>\n",
    "  <head>\n",
    "    <script src=\"https://cdn.jsdelivr.net/pyodide/v0.23.3/full/pyodide.js\"></script>\n",
    "  </head>\n",
    "\n",
    "  <body>\n",
    "    <p>\n",
    "      You can execute any Python code. Just enter something in the box below and\n",
    "      click the button.\n",
    "    </p>\n",
    "    <input id=\"code\" value=\"sum([1, 2, 3, 4, 5])\" />\n",
    "    <button onclick=\"evaluatePython()\">Run</button>\n",
    "    <br />\n",
    "    <br />\n",
    "    <div>Output:</div>\n",
    "    <textarea id=\"output\" style=\"width: 100%;\" rows=\"6\" disabled></textarea>\n",
    "\n",
    "    <script>\n",
    "      const output = document.getElementById(\"output\");\n",
    "      const code = document.getElementById(\"code\");\n",
    "\n",
    "      function addToOutput(s) {\n",
    "        output.value += \">>>\" + code.value + \"\\n\" + s + \"\\n\";\n",
    "      }\n",
    "\n",
    "      output.value = \"Initializing...\\n\";\n",
    "      // init Pyodide\n",
    "      async function main() {\n",
    "        let pyodide = await loadPyodide();\n",
    "        output.value += \"Ready!\\n\";\n",
    "        return pyodide;\n",
    "      }\n",
    "      let pyodideReadyPromise = main();\n",
    "\n",
    "      async function evaluatePython() {\n",
    "        let pyodide = await pyodideReadyPromise;\n",
    "        try {\n",
    "          let output = pyodide.runPython(code.value);\n",
    "          addToOutput(output);\n",
    "        } catch (err) {\n",
    "          addToOutput(err);\n",
    "        }\n",
    "      }\n",
    "    </script>\n",
    "  </body>\n",
    "</html>\n",
    "```"
   ]
  },
  {
   "cell_type": "code",
   "execution_count": 4,
   "id": "ed06bc6f",
   "metadata": {},
   "outputs": [
    {
     "data": {
      "text/html": [
       "<!doctype html>\n",
       "<html>\n",
       "  <head>\n",
       "    <script src=\"https://cdn.jsdelivr.net/pyodide/v0.23.3/full/pyodide.js\"></script>\n",
       "  </head>\n",
       "\n",
       "  <body>\n",
       "    <p>\n",
       "      You can execute any Python code. Just enter something in the box below and\n",
       "      click the button.\n",
       "    </p>\n",
       "    <input id=\"code\" value=\"sum([1, 2, 3, 4, 5])\" />\n",
       "    <button onclick=\"evaluatePython()\">Run</button>\n",
       "    <br />\n",
       "    <br />\n",
       "    <div>Output:</div>\n",
       "    <textarea id=\"output\" style=\"width: 100%;\" rows=\"6\" disabled></textarea>\n",
       "\n",
       "    <script>\n",
       "      const output = document.getElementById(\"output\");\n",
       "      const code = document.getElementById(\"code\");\n",
       "\n",
       "      function addToOutput(s) {\n",
       "        output.value += \">>>\" + code.value + \"\\n\" + s + \"\\n\";\n",
       "      }\n",
       "\n",
       "      output.value = \"Initializing...\\n\";\n",
       "      // init Pyodide\n",
       "      async function main() {\n",
       "        let pyodide = await loadPyodide();\n",
       "        output.value += \"Ready!\\n\";\n",
       "        return pyodide;\n",
       "      }\n",
       "      let pyodideReadyPromise = main();\n",
       "\n",
       "      async function evaluatePython() {\n",
       "        let pyodide = await pyodideReadyPromise;\n",
       "        try {\n",
       "          let output = pyodide.runPython(code.value);\n",
       "          addToOutput(output);\n",
       "        } catch (err) {\n",
       "          addToOutput(err);\n",
       "        }\n",
       "      }\n",
       "    </script>\n",
       "  </body>\n",
       "</html>"
      ],
      "text/plain": [
       "<IPython.core.display.HTML object>"
      ]
     },
     "metadata": {},
     "output_type": "display_data"
    }
   ],
   "source": [
    "from IPython.display import display, HTML\n",
    "chart = HTML('../we/pyo.html')\n",
    "# or chart = charts.plot(...)\n",
    "display(chart)"
   ]
  }
 ],
 "metadata": {
  "jupytext": {
   "cell_metadata_filter": "-all",
   "main_language": "python",
   "notebook_metadata_filter": "-all"
  },
  "kernelspec": {
   "display_name": "Python 3 (ipykernel)",
   "language": "python",
   "name": "python3"
  },
  "language_info": {
   "codemirror_mode": {
    "name": "ipython",
    "version": 3
   },
   "file_extension": ".py",
   "mimetype": "text/x-python",
   "name": "python",
   "nbconvert_exporter": "python",
   "pygments_lexer": "ipython3",
   "version": "3.10.6"
  }
 },
 "nbformat": 4,
 "nbformat_minor": 5
}
