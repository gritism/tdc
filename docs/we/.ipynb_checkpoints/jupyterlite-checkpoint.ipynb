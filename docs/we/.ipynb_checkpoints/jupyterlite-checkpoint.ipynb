{
 "cells": [
  {
   "cell_type": "markdown",
   "id": "ec5cbd62",
   "metadata": {},
   "source": [
    "# jupyterlite"
   ]
  },
  {
   "cell_type": "markdown",
   "id": "9722e5a4",
   "metadata": {},
   "source": [
    "## overview"
   ]
  },
  {
   "cell_type": "markdown",
   "id": "735a3a2c",
   "metadata": {},
   "source": [
    "**browser-based interactive computing**\n",
    "\n",
    "* execute jupyter notebook/labs **without jupyter notebook/abs server install**\n",
    "* It might be developing the simple web/app easily\n",
    "\n",
    "```{list-table} comparision\n",
    "* - category\n",
    "  - jupyterlite\n",
    "  - jupyter notebook\n",
    "* - OS\n",
    "  - no\n",
    "  - linux/window/mac etc\n",
    "* - python\n",
    "  - **pyodide**\n",
    "  - install python in those OS\n",
    "* - server\n",
    "  - no (**browser's `IndexDB` or `localStorage`**)\n",
    "  - install jupyter notebook/labs\n",
    "* - UI\n",
    "  - cover main function of jupyter notebook (currently not full coverage)\n",
    "  - full utilized function of jupyter notebook\n",
    "```"
   ]
  },
  {
   "cell_type": "markdown",
   "id": "ca4d4d24",
   "metadata": {},
   "source": [
    "## setup with github"
   ]
  },
  {
   "cell_type": "markdown",
   "id": "4369ee29",
   "metadata": {},
   "source": [
    "1. access [jupyterlite demo repository](https://github.com/jupyterlite/demo)\n",
    "2. create repo. with `use this template`\n",
    "3. update github action in my repo created\n",
    "    * check permission: \n",
    "4. access my jupyterlite site: https://{userid}.github.io/{repo_name}"
   ]
  },
  {
   "cell_type": "markdown",
   "id": "e75be92a",
   "metadata": {},
   "source": [
    "### access my jupyterlite site on github"
   ]
  },
  {
   "cell_type": "code",
   "execution_count": 2,
   "id": "e19179d5",
   "metadata": {
    "tags": [
     "hide-input"
    ]
   },
   "outputs": [
    {
     "data": {
      "text/html": [
       "\n",
       "        <iframe\n",
       "            width=\"700\"\n",
       "            height=\"400\"\n",
       "            src=\"https://gritism.github.io/jupyterlite\"\n",
       "            frameborder=\"0\"\n",
       "            allowfullscreen\n",
       "            \n",
       "        ></iframe>\n",
       "        "
      ],
      "text/plain": [
       "<IPython.lib.display.IFrame at 0x7fb64aa71f30>"
      ]
     },
     "execution_count": 2,
     "metadata": {},
     "output_type": "execute_result"
    }
   ],
   "source": [
    "from IPython.display import IFrame\n",
    "IFrame(src='https://gritism.github.io/jupyterlite', width=700, height=400)"
   ]
  },
  {
   "cell_type": "markdown",
   "id": "b891249f",
   "metadata": {},
   "source": [
    "## to-do\n",
    "\n",
    "### jupyterlite-sphinx\n",
    "### "
   ]
  },
  {
   "cell_type": "code",
   "execution_count": null,
   "id": "e1817349",
   "metadata": {},
   "outputs": [],
   "source": []
  }
 ],
 "metadata": {
  "celltoolbar": "Tags",
  "kernelspec": {
   "display_name": "Python 3 (ipykernel)",
   "language": "python",
   "name": "python3"
  },
  "language_info": {
   "codemirror_mode": {
    "name": "ipython",
    "version": 3
   },
   "file_extension": ".py",
   "mimetype": "text/x-python",
   "name": "python",
   "nbconvert_exporter": "python",
   "pygments_lexer": "ipython3",
   "version": "3.10.6"
  }
 },
 "nbformat": 4,
 "nbformat_minor": 5
}
