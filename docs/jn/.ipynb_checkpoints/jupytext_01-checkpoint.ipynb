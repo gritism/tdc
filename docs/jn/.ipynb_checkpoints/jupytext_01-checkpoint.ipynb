{
 "cells": [
  {
   "cell_type": "markdown",
   "id": "5ed87b36",
   "metadata": {},
   "source": [
    "(file-types:jupytext_01)=\n",
    "\n",
    "# jupytext"
   ]
  },
  {
   "cell_type": "markdown",
   "id": "df566cf1",
   "metadata": {},
   "source": [
    "## why\n",
    "\n",
    "* jupyter notebook(**.ipynb**) 파일은 버전 관리가 어려움\n",
    "* **jupytext는 ipynb 파일을 .py, .md 등 plain text 형태 파일로 전환해주는 것임.**\n",
    "* .py, .md 파일을 github를 통해 버전관리를 할 수 있음"
   ]
  },
  {
   "cell_type": "markdown",
   "id": "65f9df78",
   "metadata": {},
   "source": [
    "## install"
   ]
  },
  {
   "cell_type": "code",
   "execution_count": 4,
   "id": "0be38a57",
   "metadata": {},
   "outputs": [],
   "source": [
    "#!pdm add jupytext"
   ]
  },
  {
   "cell_type": "code",
   "execution_count": 5,
   "id": "f4b4dc4e",
   "metadata": {},
   "outputs": [
    {
     "name": "stdout",
     "output_type": "stream",
     "text": [
      "\u001b[36mName\u001b[0m:                  jupytext                                                 \r\n",
      "\u001b[36mLatest version\u001b[0m:        1.14.6                                                   \r\n",
      "\u001b[36mLatest stable version\u001b[0m: 1.14.6                                                   \r\n",
      "\u001b[36mInstalled version\u001b[0m:     1.14.6                                                   \r\n",
      "\u001b[36mSummary\u001b[0m:               Jupyter notebooks as Markdown documents, Julia, Python or\r\n",
      "                       R scripts                                                \r\n",
      "\u001b[36mRequires Python:\u001b[0m       ~=3.6                                                    \r\n",
      "\u001b[36mAuthor\u001b[0m:                Marc Wouts                                               \r\n",
      "\u001b[36mAuthor email\u001b[0m:          marc.wouts@gmail.com                                     \r\n",
      "\u001b[36mLicense\u001b[0m:               MIT                                                      \r\n",
      "\u001b[36mHomepage\u001b[0m:              https://github.com/mwouts/jupytext                       \r\n",
      "\u001b[36mProject URLs\u001b[0m:                                                                   \r\n",
      "\u001b[36mPlatform\u001b[0m:                                                                       \r\n",
      "\u001b[36mKeywords\u001b[0m:                                                                       \r\n"
     ]
    }
   ],
   "source": [
    "!pdm show jupytext"
   ]
  },
  {
   "cell_type": "markdown",
   "id": "eddd0763",
   "metadata": {},
   "source": [
    "## config\n",
    "\n",
    "```{warning}\n",
    "    jupytext는 notebook > 7 버전과 아직 호환되지 않음. (23.6월 기준) notebook <= 6 이하 버전 설치해야 함\n",
    "```"
   ]
  },
  {
   "cell_type": "markdown",
   "id": "e52ff8b1",
   "metadata": {},
   "source": [
    "1. jupytext config 파일 위치 가능한 디렉토리 목록\n",
    "    * 아래 디렉토리 리스트에 jupytext config 파일 생성 가능 "
   ]
  },
  {
   "cell_type": "code",
   "execution_count": 1,
   "id": "1c41a24b",
   "metadata": {},
   "outputs": [
    {
     "data": {
      "text/plain": [
       "['/home/yblee/.config/jupytext',\n",
       " '/home/yblee/.config',\n",
       " '/home/yblee/jupytext',\n",
       " '/home/yblee',\n",
       " '/usr/local/share/jupytext',\n",
       " '/usr/local/share/',\n",
       " '/usr/share/jupytext',\n",
       " '/usr/share/']"
      ]
     },
     "execution_count": 1,
     "metadata": {},
     "output_type": "execute_result"
    }
   ],
   "source": [
    "from jupytext.config import global_jupytext_configuration_directories\n",
    "list(global_jupytext_configuration_directories())"
   ]
  },
  {
   "cell_type": "markdown",
   "id": "2aa2a160",
   "metadata": {},
   "source": [
    "2. `jupytext.yml` 파일에 아래 내용 작성  \n",
    "    {octicon}`report;1em;sd-text-info` 기본적으로 jupytext는 ipynb, md 파일을 동일 디렉토리에 생성/저장\n",
    "    저장 경로를 다르게 하기 위한 config 파일 구성임.\n",
    "    ```\n",
    "        formats: \"ipynb, scripts//.md\"\n",
    "    ```"
   ]
  },
  {
   "cell_type": "markdown",
   "id": "53822976",
   "metadata": {},
   "source": [
    "3. jupytext.yml 파일 인식여부 확인"
   ]
  },
  {
   "cell_type": "code",
   "execution_count": 2,
   "id": "071383bf",
   "metadata": {},
   "outputs": [
    {
     "data": {
      "text/plain": [
       "'/home/yblee/.config/jupytext/jupytext.yml'"
      ]
     },
     "execution_count": 2,
     "metadata": {},
     "output_type": "execute_result"
    }
   ],
   "source": [
    "from jupytext.config import find_jupytext_configuration_file\n",
    "find_jupytext_configuration_file('.')"
   ]
  },
  {
   "cell_type": "markdown",
   "id": "d024929b",
   "metadata": {},
   "source": [
    "4. jupyter notebook 실행  \n",
    "{octicon}`alert-fill;1em;sd-text-info` 기존 작성된 ipynb 파일은 오류 발생하는 경우가 존재함."
   ]
  },
  {
   "cell_type": "markdown",
   "id": "232ffe2c",
   "metadata": {},
   "source": [
    "## execute"
   ]
  },
  {
   "cell_type": "markdown",
   "id": "4eceb801",
   "metadata": {},
   "source": [
    "1. notebook 실행 후 ipynb 파일 생성\n",
    "2. pairing: `file > jupytext > Pair Notebook with Markdown` 메뉴 선택\n",
    "3. save: jupytext_01.ipynb 파일 저장하면 동시에 scripts 폴더 내 `jupytext_01.md` 파일 저장"
   ]
  },
  {
   "cell_type": "code",
   "execution_count": 28,
   "id": "9c9769a0",
   "metadata": {},
   "outputs": [
    {
     "name": "stdout",
     "output_type": "stream",
     "text": [
      "\u001b[01;34m scripts\u001b[0m\r\n",
      "└── jupytext_01.md\r\n",
      "\r\n",
      "0 directories, 1 file\r\n"
     ]
    }
   ],
   "source": [
    "!tree ' scripts'"
   ]
  },
  {
   "cell_type": "code",
   "execution_count": null,
   "id": "0479f9fe",
   "metadata": {},
   "outputs": [],
   "source": []
  }
 ],
 "metadata": {
  "kernelspec": {
   "display_name": "Python 3 (ipykernel)",
   "language": "python",
   "name": "python3"
  },
  "language_info": {
   "codemirror_mode": {
    "name": "ipython",
    "version": 3
   },
   "file_extension": ".py",
   "mimetype": "text/x-python",
   "name": "python",
   "nbconvert_exporter": "python",
   "pygments_lexer": "ipython3",
   "version": "3.10.6"
  }
 },
 "nbformat": 4,
 "nbformat_minor": 5
}
