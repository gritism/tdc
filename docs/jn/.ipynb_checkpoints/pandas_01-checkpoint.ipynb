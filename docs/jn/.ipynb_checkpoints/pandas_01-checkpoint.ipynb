{
 "cells": [
  {
   "cell_type": "markdown",
   "id": "1f32432e",
   "metadata": {},
   "source": [
    "(file-types:pandas_01)=\n",
    "\n",
    "# pandas_01"
   ]
  },
  {
   "cell_type": "markdown",
   "id": "44e6f669",
   "metadata": {},
   "source": [
    "## 데이터셋 다운로드를 위한 패키지 설치"
   ]
  },
  {
   "cell_type": "code",
   "execution_count": 2,
   "id": "9b587d9f",
   "metadata": {},
   "outputs": [
    {
     "name": "stdout",
     "output_type": "stream",
     "text": [
      "Adding packages to \u001b[36mdefault\u001b[0m dependencies: \u001b[1;32mopendata-kr\u001b[0m\n",
      "\u001b[2K\u001b[36m⠴\u001b[0m Fetching hashes for resolved packages...0m \u001b[33m1.2.0\u001b[0m4\u001b[0m[0m[0m.5\u001b[0m\n",
      "\u001b[1A\u001b[2K🔒 Lock successful\n",
      "Changes are written to \u001b[32mpyproject.toml\u001b[0m.\n",
      "\u001b[2K\u001b[36m⠦\u001b[0m Fetching hashes for resolved packages...\n",
      "\u001b[1A\u001b[2KAll packages are synced to date, nothing to do.\n",
      "\u001b[2KInstalling the project as an editable package...\n",
      "\u001b[2K  \u001b[32m✔\u001b[0m Update \u001b[1;32mjb\u001b[0m \u001b[33m0.1.0+editable\u001b[0m -> \u001b[33m0.1.0\u001b[0m successful\n",
      "\u001b[2K36m⠴\u001b[0m Updating \u001b[1;32mjb\u001b[0m \u001b[33m0.1.0+editable\u001b[0m -> \u001b[33m0.1.0\u001b[0m...\n",
      "🎉 All complete!\n",
      "\u001b[2K36m⠴\u001b[0m Updating \u001b[1;32mjb\u001b[0m \u001b[33m0.1.0+editable\u001b[0m -> \u001b[33m0.1.0\u001b[0m...\n",
      "\u001b[?25h\n",
      "\u001b[34mPDM \u001b[0m\u001b[1;36m2.6\u001b[0m\u001b[36m.\u001b[0m\u001b[1;36m1\u001b[0m\u001b[34m is installed, while \u001b[0m\u001b[1;36m2.7\u001b[0m\u001b[36m.\u001b[0m\u001b[1;36m2\u001b[0m\u001b[34m is available.\u001b[0m\n",
      "\u001b[34mPlease run \u001b[0m\u001b[1;32m`pdm self update`\u001b[0m\u001b[34m to upgrade.\u001b[0m\n",
      "\u001b[34mRun \u001b[0m\u001b[1;32m`pdm config check_update false`\u001b[0m\u001b[34m to disable the check.\u001b[0m\n"
     ]
    }
   ],
   "source": [
    "#!pdm add opendata-kr"
   ]
  },
  {
   "cell_type": "markdown",
   "id": "fda1f185",
   "metadata": {},
   "source": [
    "## 데이터 다운로드"
   ]
  },
  {
   "cell_type": "code",
   "execution_count": 8,
   "id": "014b0f1e",
   "metadata": {},
   "outputs": [],
   "source": [
    "from opendata import dataset"
   ]
  },
  {
   "cell_type": "code",
   "execution_count": 10,
   "id": "dd647852",
   "metadata": {},
   "outputs": [
    {
     "name": "stdout",
     "output_type": "stream",
     "text": [
      "======= 다운로드 시작 =======\n",
      "\n",
      "data/서울시대중교통/seoul_transportation.xlsx\n"
     ]
    },
    {
     "data": {
      "application/vnd.jupyter.widget-view+json": {
       "model_id": "6c9d451b8e4447839aaa56ca358cb947",
       "version_major": 2,
       "version_minor": 0
      },
      "text/plain": [
       "  0%|          | 0.00/26.2k [00:00<?, ?B/s]"
      ]
     },
     "metadata": {},
     "output_type": "display_data"
    },
    {
     "name": "stdout",
     "output_type": "stream",
     "text": [
      "\n",
      "======= 다운로드 완료 =======\n"
     ]
    }
   ],
   "source": [
    "dataset.download('서울시대중교통')"
   ]
  },
  {
   "cell_type": "markdown",
   "id": "5f612a67",
   "metadata": {},
   "source": [
    "## 파일 읽기\n",
    "\n",
    "* pandas는 아래와 같은 형태의 파일을 읽어 올 수 있음.\n",
    "    * excel: `pd.read_excel()`\n",
    "    * csv: `pd.read_csv()`\n",
    "    * pickle: `pd.read_pickle()`\n",
    "    * json: `pd.read_json()`\n",
    "* 엑셀 읽기 위해 openpyxl 라이브러리 설치: `pdm add openpyxl`\n",
    "* 엑셀 읽기: `pd.read_excel('경로/파일명', sheet_name='', engine='openpyxl')`\n",
    "    ```{tip}\n",
    "    sheet_name 입력하지 않을 경우 전체 시트를 가져옴\n",
    "    ```"
   ]
  },
  {
   "cell_type": "code",
   "execution_count": 15,
   "id": "d7075c2a",
   "metadata": {},
   "outputs": [
    {
     "name": "stdout",
     "output_type": "stream",
     "text": [
      "Adding packages to \u001b[36mdefault\u001b[0m dependencies: \u001b[1;32mopenpyxl\u001b[0m\n",
      "\u001b[2K\u001b[36m⠋\u001b[0m Fetching hashes for resolved packages...0m \u001b[33m1.2.0\u001b[0m4\u001b[0m[0m[0m.5\u001b[0m\n",
      "\u001b[1A\u001b[2K🔒 Lock successful\n",
      "Changes are written to \u001b[32mpyproject.toml\u001b[0m.\n",
      "\u001b[2K\u001b[36m⠙\u001b[0m Fetching hashes for resolved packages...\n",
      "\u001b[1A\u001b[2K\u001b[1mSynchronizing working set with lock file\u001b[0m: \u001b[32m2\u001b[0m to add, \u001b[33m0\u001b[0m to update, \u001b[31m0\u001b[0m to remove\n",
      "\n",
      "\u001b[2K  \u001b[36m⠋\u001b[0m Installing \u001b[1;32met-xmlfile\u001b[0m \u001b[33m1.1.0\u001b[0m...\n",
      "\u001b[2K\u001b[1A\u001b[2K  \u001b[32m✔\u001b[0m Install \u001b[1;32met-xmlfile\u001b[0m \u001b[33m1.1.0\u001b[0m successful\n",
      "  \u001b[36m⠋\u001b[0m Installing \u001b[1;32met-xmlfile\u001b[0m \u001b[33m1.1.0\u001b[0m...\n",
      "\u001b[2K  \u001b[32m✔\u001b[0m Install \u001b[1;32mopenpyxl\u001b[0m \u001b[33m3.1.2\u001b[0m successful...\n",
      "\u001b[2KInstalling the project as an editable package....2\u001b[0m...\n",
      "\u001b[2K  \u001b[32m✔\u001b[0m Update \u001b[1;32mjb\u001b[0m \u001b[33m0.1.0+editable\u001b[0m -> \u001b[33m0.1.0\u001b[0m successful\n",
      "\u001b[2K36m⠼\u001b[0m Updating \u001b[1;32mjb\u001b[0m \u001b[33m0.1.0+editable\u001b[0m -> \u001b[33m0.1.0\u001b[0m...\n",
      "🎉 All complete!\n",
      "\u001b[2K36m⠼\u001b[0m Updating \u001b[1;32mjb\u001b[0m \u001b[33m0.1.0+editable\u001b[0m -> \u001b[33m0.1.0\u001b[0m...\n",
      "\u001b[?25h\n",
      "\u001b[34mPDM \u001b[0m\u001b[1;36m2.6\u001b[0m\u001b[36m.\u001b[0m\u001b[1;36m1\u001b[0m\u001b[34m is installed, while \u001b[0m\u001b[1;36m2.7\u001b[0m\u001b[36m.\u001b[0m\u001b[1;36m2\u001b[0m\u001b[34m is available.\u001b[0m\n",
      "\u001b[34mPlease run \u001b[0m\u001b[1;32m`pdm self update`\u001b[0m\u001b[34m to upgrade.\u001b[0m\n",
      "\u001b[34mRun \u001b[0m\u001b[1;32m`pdm config check_update false`\u001b[0m\u001b[34m to disable the check.\u001b[0m\n"
     ]
    }
   ],
   "source": [
    "#!pdm add openpyxl"
   ]
  },
  {
   "cell_type": "code",
   "execution_count": 79,
   "id": "a28d5dc9",
   "metadata": {},
   "outputs": [],
   "source": [
    "import pandas as pd\n",
    "\n",
    "pd.options.display.float_format = '{:.2f}'.format"
   ]
  },
  {
   "cell_type": "code",
   "execution_count": 168,
   "id": "97c71544",
   "metadata": {},
   "outputs": [],
   "source": [
    "df = pd.read_excel('./data/서울시대중교통/seoul_transportation.xlsx', engine='openpyxl')"
   ]
  },
  {
   "cell_type": "markdown",
   "id": "e4422297",
   "metadata": {},
   "source": [
    "## 데이터 처리\n",
    "\n",
    "* info: `df.info()`\n",
    "* index: `df.index`\n",
    "* columns: `df.columns`\n",
    "* sort: `df.sort_values(by=['컬럼명'], ascending=True/False)`\n",
    "    * ascending=False 이면 내림차순 정렬\n",
    "* slicing\n",
    "    * loc: 행,열을 기준으로 데이터 값 추출 `df.loc[:5, '컬럼명']`\n",
    "    * iloc: 인덱스를 기준으로 슬라이싱 `df.iloc[1, 3]`"
   ]
  },
  {
   "cell_type": "code",
   "execution_count": 50,
   "id": "b813c97a",
   "metadata": {},
   "outputs": [
    {
     "name": "stdout",
     "output_type": "stream",
     "text": [
      "<class 'pandas.core.frame.DataFrame'>\n",
      "RangeIndex: 601 entries, 0 to 600\n",
      "Data columns (total 4 columns):\n",
      " #   Column  Non-Null Count  Dtype \n",
      "---  ------  --------------  ----- \n",
      " 0   대중교통구분  601 non-null    object\n",
      " 1   노선명     601 non-null    object\n",
      " 2   년월      601 non-null    int64 \n",
      " 3   승차총승객수  601 non-null    int64 \n",
      "dtypes: int64(2), object(2)\n",
      "memory usage: 18.9+ KB\n"
     ]
    }
   ],
   "source": [
    "df.info()"
   ]
  },
  {
   "cell_type": "markdown",
   "id": "6625c26e",
   "metadata": {},
   "source": [
    "> * Dtype: Object(문자형을 포함한 객체 타입), int64(정수형), float64(실수형)\n",
    "> * RangeIdex: 601 -> 숫자형태로 인덱스가 지정되어 있으며 전체 데이터 개수 601개임"
   ]
  },
  {
   "cell_type": "code",
   "execution_count": 52,
   "id": "5ac21f65",
   "metadata": {},
   "outputs": [
    {
     "data": {
      "text/plain": [
       "Index(['대중교통구분', '노선명', '년월', '승차총승객수'], dtype='object')"
      ]
     },
     "execution_count": 52,
     "metadata": {},
     "output_type": "execute_result"
    }
   ],
   "source": [
    "df.columns"
   ]
  },
  {
   "cell_type": "markdown",
   "id": "27de57e4",
   "metadata": {},
   "source": [
    "> * 컬럼은 4개 '대중교통구분', '노선명', '년월', '승차총승객수'\n",
    "```{tip}\n",
    "    * df.columns, df.value_counts()\n",
    "    * ()가 있는 것은 데이터 프레임의 함수를 호출하는 것이고, ()가 없는 것은 속성값을 가져오는 것임\n",
    "```"
   ]
  },
  {
   "cell_type": "code",
   "execution_count": 54,
   "id": "75145be7",
   "metadata": {},
   "outputs": [
    {
     "data": {
      "text/html": [
       "<div>\n",
       "<style scoped>\n",
       "    .dataframe tbody tr th:only-of-type {\n",
       "        vertical-align: middle;\n",
       "    }\n",
       "\n",
       "    .dataframe tbody tr th {\n",
       "        vertical-align: top;\n",
       "    }\n",
       "\n",
       "    .dataframe thead th {\n",
       "        text-align: right;\n",
       "    }\n",
       "</style>\n",
       "<table border=\"1\" class=\"dataframe\">\n",
       "  <thead>\n",
       "    <tr style=\"text-align: right;\">\n",
       "      <th></th>\n",
       "      <th>대중교통구분</th>\n",
       "      <th>노선명</th>\n",
       "      <th>년월</th>\n",
       "      <th>승차총승객수</th>\n",
       "    </tr>\n",
       "  </thead>\n",
       "  <tbody>\n",
       "    <tr>\n",
       "      <th>37</th>\n",
       "      <td>지하철</td>\n",
       "      <td>2호선</td>\n",
       "      <td>201905</td>\n",
       "      <td>49356486</td>\n",
       "    </tr>\n",
       "    <tr>\n",
       "      <th>23</th>\n",
       "      <td>지하철</td>\n",
       "      <td>2호선</td>\n",
       "      <td>201803</td>\n",
       "      <td>49033111</td>\n",
       "    </tr>\n",
       "    <tr>\n",
       "      <th>30</th>\n",
       "      <td>지하철</td>\n",
       "      <td>2호선</td>\n",
       "      <td>201810</td>\n",
       "      <td>48343358</td>\n",
       "    </tr>\n",
       "    <tr>\n",
       "      <th>31</th>\n",
       "      <td>지하철</td>\n",
       "      <td>2호선</td>\n",
       "      <td>201811</td>\n",
       "      <td>48332253</td>\n",
       "    </tr>\n",
       "    <tr>\n",
       "      <th>20</th>\n",
       "      <td>지하철</td>\n",
       "      <td>2호선</td>\n",
       "      <td>201712</td>\n",
       "      <td>48288516</td>\n",
       "    </tr>\n",
       "  </tbody>\n",
       "</table>\n",
       "</div>"
      ],
      "text/plain": [
       "   대중교통구분  노선명      년월    승차총승객수\n",
       "37    지하철  2호선  201905  49356486\n",
       "23    지하철  2호선  201803  49033111\n",
       "30    지하철  2호선  201810  48343358\n",
       "31    지하철  2호선  201811  48332253\n",
       "20    지하철  2호선  201712  48288516"
      ]
     },
     "execution_count": 54,
     "metadata": {},
     "output_type": "execute_result"
    }
   ],
   "source": [
    "df.sort_values(by=['승차총승객수'], ascending=False).head()"
   ]
  },
  {
   "cell_type": "markdown",
   "id": "3169c5ec",
   "metadata": {},
   "source": [
    "> * 승차총승객수로 내림차순 정렬, 가장 많은 승객수는 2019년 5월 2호선"
   ]
  },
  {
   "cell_type": "code",
   "execution_count": 60,
   "id": "de2bcdcc",
   "metadata": {},
   "outputs": [
    {
     "data": {
      "text/html": [
       "<div>\n",
       "<style scoped>\n",
       "    .dataframe tbody tr th:only-of-type {\n",
       "        vertical-align: middle;\n",
       "    }\n",
       "\n",
       "    .dataframe tbody tr th {\n",
       "        vertical-align: top;\n",
       "    }\n",
       "\n",
       "    .dataframe thead th {\n",
       "        text-align: right;\n",
       "    }\n",
       "</style>\n",
       "<table border=\"1\" class=\"dataframe\">\n",
       "  <thead>\n",
       "    <tr style=\"text-align: right;\">\n",
       "      <th></th>\n",
       "      <th>대중교통구분</th>\n",
       "      <th>노선명</th>\n",
       "    </tr>\n",
       "  </thead>\n",
       "  <tbody>\n",
       "    <tr>\n",
       "      <th>0</th>\n",
       "      <td>지하철</td>\n",
       "      <td>1호선</td>\n",
       "    </tr>\n",
       "    <tr>\n",
       "      <th>1</th>\n",
       "      <td>지하철</td>\n",
       "      <td>1호선</td>\n",
       "    </tr>\n",
       "    <tr>\n",
       "      <th>2</th>\n",
       "      <td>지하철</td>\n",
       "      <td>1호선</td>\n",
       "    </tr>\n",
       "    <tr>\n",
       "      <th>3</th>\n",
       "      <td>지하철</td>\n",
       "      <td>1호선</td>\n",
       "    </tr>\n",
       "    <tr>\n",
       "      <th>4</th>\n",
       "      <td>지하철</td>\n",
       "      <td>1호선</td>\n",
       "    </tr>\n",
       "    <tr>\n",
       "      <th>5</th>\n",
       "      <td>지하철</td>\n",
       "      <td>1호선</td>\n",
       "    </tr>\n",
       "  </tbody>\n",
       "</table>\n",
       "</div>"
      ],
      "text/plain": [
       "  대중교통구분  노선명\n",
       "0    지하철  1호선\n",
       "1    지하철  1호선\n",
       "2    지하철  1호선\n",
       "3    지하철  1호선\n",
       "4    지하철  1호선\n",
       "5    지하철  1호선"
      ]
     },
     "execution_count": 60,
     "metadata": {},
     "output_type": "execute_result"
    }
   ],
   "source": [
    "df.loc[:5, ['대중교통구분', '노선명']]"
   ]
  },
  {
   "cell_type": "markdown",
   "id": "9209c19d",
   "metadata": {},
   "source": [
    "> * df.loc[행, 열]\n",
    "> * 행 'start:end;step' 형태로 지정\n",
    "    > :10은 0부터 10번째 행을 가져오라는 의미\n",
    "> * 열 '컬럼명'을 명시하거나 '컬럼명':'컬럼명'으로 지정"
   ]
  },
  {
   "cell_type": "markdown",
   "id": "1db0c899",
   "metadata": {},
   "source": [
    "## 통계\n",
    "\n",
    "* `df.describe()`\n",
    "    * 데이터프레임의 주요 통계량 정보 조회\n",
    "    * `df.count()`, `df.mean()`, `df.max()`, `df.quantile()`\n",
    "* `df.agg(['min', 'max', 'count'])`\n",
    "    * 개별 통계 조회가 아닌 필요한 내용을 한번에 조회하는 방법\n",
    "* `df.unique()`\n",
    "    * 데이터 중 유니크 개수"
   ]
  },
  {
   "cell_type": "code",
   "execution_count": 80,
   "id": "43e312c2",
   "metadata": {},
   "outputs": [
    {
     "data": {
      "text/html": [
       "<div>\n",
       "<style scoped>\n",
       "    .dataframe tbody tr th:only-of-type {\n",
       "        vertical-align: middle;\n",
       "    }\n",
       "\n",
       "    .dataframe tbody tr th {\n",
       "        vertical-align: top;\n",
       "    }\n",
       "\n",
       "    .dataframe thead th {\n",
       "        text-align: right;\n",
       "    }\n",
       "</style>\n",
       "<table border=\"1\" class=\"dataframe\">\n",
       "  <thead>\n",
       "    <tr style=\"text-align: right;\">\n",
       "      <th></th>\n",
       "      <th>년월</th>\n",
       "      <th>승차총승객수</th>\n",
       "    </tr>\n",
       "  </thead>\n",
       "  <tbody>\n",
       "    <tr>\n",
       "      <th>count</th>\n",
       "      <td>601.00</td>\n",
       "      <td>601.00</td>\n",
       "    </tr>\n",
       "    <tr>\n",
       "      <th>mean</th>\n",
       "      <td>201822.42</td>\n",
       "      <td>7542216.74</td>\n",
       "    </tr>\n",
       "    <tr>\n",
       "      <th>std</th>\n",
       "      <td>56.30</td>\n",
       "      <td>9225438.09</td>\n",
       "    </tr>\n",
       "    <tr>\n",
       "      <th>min</th>\n",
       "      <td>201711.00</td>\n",
       "      <td>343785.00</td>\n",
       "    </tr>\n",
       "    <tr>\n",
       "      <th>25%</th>\n",
       "      <td>201803.00</td>\n",
       "      <td>1403115.00</td>\n",
       "    </tr>\n",
       "    <tr>\n",
       "      <th>50%</th>\n",
       "      <td>201808.00</td>\n",
       "      <td>3537142.00</td>\n",
       "    </tr>\n",
       "    <tr>\n",
       "      <th>75%</th>\n",
       "      <td>201901.00</td>\n",
       "      <td>10346038.00</td>\n",
       "    </tr>\n",
       "    <tr>\n",
       "      <th>max</th>\n",
       "      <td>201905.00</td>\n",
       "      <td>49356486.00</td>\n",
       "    </tr>\n",
       "  </tbody>\n",
       "</table>\n",
       "</div>"
      ],
      "text/plain": [
       "             년월      승차총승객수\n",
       "count    601.00      601.00\n",
       "mean  201822.42  7542216.74\n",
       "std       56.30  9225438.09\n",
       "min   201711.00   343785.00\n",
       "25%   201803.00  1403115.00\n",
       "50%   201808.00  3537142.00\n",
       "75%   201901.00 10346038.00\n",
       "max   201905.00 49356486.00"
      ]
     },
     "execution_count": 80,
     "metadata": {},
     "output_type": "execute_result"
    }
   ],
   "source": [
    "df.describe()"
   ]
  },
  {
   "cell_type": "code",
   "execution_count": 67,
   "id": "081b2bac",
   "metadata": {},
   "outputs": [
    {
     "data": {
      "text/plain": [
       "min           343785.0\n",
       "max         49356486.0\n",
       "quantile     3537142.0\n",
       "Name: 승차총승객수, dtype: float64"
      ]
     },
     "execution_count": 67,
     "metadata": {},
     "output_type": "execute_result"
    }
   ],
   "source": [
    "df['승차총승객수'].agg(['min', 'max', 'quantile'])"
   ]
  },
  {
   "cell_type": "markdown",
   "id": "6e7d4ffe",
   "metadata": {},
   "source": [
    "> * '서울시대중교통' 데이터셋에는 '승차총승객수'만 통계량 산출이 가능한 상황\n",
    "> * df['승차총승객수'] 의미는 '승차총승객수' 컬럼만 가져온다는 의미임"
   ]
  },
  {
   "cell_type": "code",
   "execution_count": 72,
   "id": "3d36b58a",
   "metadata": {},
   "outputs": [
    {
     "data": {
      "text/plain": [
       "array(['1호선', '2호선', '3호선', '4호선', '경부선', '경인선', '경원선', '안산선', '과천선',\n",
       "       '분당선', '일산선', '중앙선', '장항선', '경의선', '경춘선', '수인선', '경강선', '서해선',\n",
       "       '5호선', '6호선', '7호선', '8호선', '인천1호선', '인천2호선', '9호선', '공항철도 1호선',\n",
       "       '신분당선', '9호선2~3단계', '용인에버라인', '의정부경전철', '경기철도', '우이신설선'],\n",
       "      dtype=object)"
      ]
     },
     "execution_count": 72,
     "metadata": {},
     "output_type": "execute_result"
    }
   ],
   "source": [
    " df['노선명'].unique()"
   ]
  },
  {
   "cell_type": "markdown",
   "id": "9df6253c",
   "metadata": {},
   "source": [
    "> * `df.unique()` 하면 error 발생\n",
    "> * unique() 함수는 특정 컬럼별 조회"
   ]
  },
  {
   "cell_type": "code",
   "execution_count": 78,
   "id": "0e8b62b8",
   "metadata": {},
   "outputs": [
    {
     "data": {
      "text/plain": [
       "대중교통구분      1\n",
       "노선명        32\n",
       "년월         19\n",
       "승차총승객수    601\n",
       "dtype: int64"
      ]
     },
     "execution_count": 78,
     "metadata": {},
     "output_type": "execute_result"
    }
   ],
   "source": [
    " df.nunique() # 전체 컬럼별 유니크한 값 개수 조회"
   ]
  },
  {
   "cell_type": "markdown",
   "id": "5011282e",
   "metadata": {},
   "source": [
    "## data visualization with bokeh\n",
    "\n",
    "> * bokeh는 python data visualization tool 중 하나\n",
    "> * 다른 툴보다 자유도가 높은 것이 장점이나, seaborn과 같이 쉽지 않은 것이 단점"
   ]
  },
  {
   "cell_type": "markdown",
   "id": "05e2aa46",
   "metadata": {},
   "source": [
    "### bokeh library import\n",
    "\n",
    "* bokeh 설치 `pdm add bokeh`\n",
    "* library import\n",
    "    * ColumnDataSource: bokeh는 dictionary 형태의 데이터를 이용하여 차트를 생성함.\n",
    "    * dataframe 형태의 데이터를 dictionary형으로 전환해 주어야 함. `df.to_dict('list')` 함수 이용\n",
    "* 출력\n",
    "    * 브라우저, html, notebook 등 다양한 형태로 차트를 출력함\n",
    "    * jupyter notebook을 출력 매체로 사용할 경우 **bokeh.io import 및 output_notebook()** 호출 필요"
   ]
  },
  {
   "cell_type": "code",
   "execution_count": 96,
   "id": "2f958c8a",
   "metadata": {},
   "outputs": [
    {
     "data": {
      "text/html": [
       "<style>\n",
       "        .bk-notebook-logo {\n",
       "            display: block;\n",
       "            width: 20px;\n",
       "            height: 20px;\n",
       "            background-image: url(data:image/png;base64,iVBORw0KGgoAAAANSUhEUgAAABQAAAAUCAYAAACNiR0NAAAABHNCSVQICAgIfAhkiAAAAAlwSFlzAAALEgAACxIB0t1+/AAAABx0RVh0U29mdHdhcmUAQWRvYmUgRmlyZXdvcmtzIENTNui8sowAAAOkSURBVDiNjZRtaJVlGMd/1/08zzln5zjP1LWcU9N0NkN8m2CYjpgQYQXqSs0I84OLIC0hkEKoPtiH3gmKoiJDU7QpLgoLjLIQCpEsNJ1vqUOdO7ppbuec5+V+rj4ctwzd8IIbbi6u+8f1539dt3A78eXC7QizUF7gyV1fD1Yqg4JWz84yffhm0qkFqBogB9rM8tZdtwVsPUhWhGcFJngGeWrPzHm5oaMmkfEg1usvLFyc8jLRqDOMru7AyC8saQr7GG7f5fvDeH7Ej8CM66nIF+8yngt6HWaKh7k49Soy9nXurCi1o3qUbS3zWfrYeQDTB/Qj6kX6Ybhw4B+bOYoLKCC9H3Nu/leUTZ1JdRWkkn2ldcCamzrcf47KKXdAJllSlxAOkRgyHsGC/zRday5Qld9DyoM4/q/rUoy/CXh3jzOu3bHUVZeU+DEn8FInkPBFlu3+nW3Nw0mk6vCDiWg8CeJaxEwuHS3+z5RgY+YBR6V1Z1nxSOfoaPa4LASWxxdNp+VWTk7+4vzaou8v8PN+xo+KY2xsw6une2frhw05CTYOmQvsEhjhWjn0bmXPjpE1+kplmmkP3suftwTubK9Vq22qKmrBhpY4jvd5afdRA3wGjFAgcnTK2s4hY0/GPNIb0nErGMCRxWOOX64Z8RAC4oCXdklmEvcL8o0BfkNK4lUg9HTl+oPlQxdNo3Mg4Nv175e/1LDGzZen30MEjRUtmXSfiTVu1kK8W4txyV6BMKlbgk3lMwYCiusNy9fVfvvwMxv8Ynl6vxoByANLTWplvuj/nF9m2+PDtt1eiHPBr1oIfhCChQMBw6Aw0UulqTKZdfVvfG7VcfIqLG9bcldL/+pdWTLxLUy8Qq38heUIjh4XlzZxzQm19lLFlr8vdQ97rjZVOLf8nclzckbcD4wxXMidpX30sFd37Fv/GtwwhzhxGVAprjbg0gCAEeIgwCZyTV2Z1REEW8O4py0wsjeloKoMr6iCY6dP92H6Vw/oTyICIthibxjm/DfN9lVz8IqtqKYLUXfoKVMVQVVJOElGjrnnUt9T9wbgp8AyYKaGlqingHZU/uG2NTZSVqwHQTWkx9hxjkpWDaCg6Ckj5qebgBVbT3V3NNXMSiWSDdGV3hrtzla7J+duwPOToIg42ChPQOQjspnSlp1V+Gjdged7+8UN5CRAV7a5EdFNwCjEaBR27b3W890TE7g24NAP/mMDXRWrGoFPQI9ls/MWO2dWFAar/xcOIImbbpA3zgAAAABJRU5ErkJggg==);\n",
       "        }\n",
       "    </style>\n",
       "    <div>\n",
       "        <a href=\"https://bokeh.org\" target=\"_blank\" class=\"bk-notebook-logo\"></a>\n",
       "        <span id=\"f7c8d199-e84d-4698-83f7-0a181d80bf74\">Loading BokehJS ...</span>\n",
       "    </div>\n"
      ]
     },
     "metadata": {},
     "output_type": "display_data"
    },
    {
     "data": {
      "application/javascript": [
       "(function(root) {\n",
       "  function now() {\n",
       "    return new Date();\n",
       "  }\n",
       "\n",
       "  const force = true;\n",
       "\n",
       "  if (typeof root._bokeh_onload_callbacks === \"undefined\" || force === true) {\n",
       "    root._bokeh_onload_callbacks = [];\n",
       "    root._bokeh_is_loading = undefined;\n",
       "  }\n",
       "\n",
       "const JS_MIME_TYPE = 'application/javascript';\n",
       "  const HTML_MIME_TYPE = 'text/html';\n",
       "  const EXEC_MIME_TYPE = 'application/vnd.bokehjs_exec.v0+json';\n",
       "  const CLASS_NAME = 'output_bokeh rendered_html';\n",
       "\n",
       "  /**\n",
       "   * Render data to the DOM node\n",
       "   */\n",
       "  function render(props, node) {\n",
       "    const script = document.createElement(\"script\");\n",
       "    node.appendChild(script);\n",
       "  }\n",
       "\n",
       "  /**\n",
       "   * Handle when an output is cleared or removed\n",
       "   */\n",
       "  function handleClearOutput(event, handle) {\n",
       "    const cell = handle.cell;\n",
       "\n",
       "    const id = cell.output_area._bokeh_element_id;\n",
       "    const server_id = cell.output_area._bokeh_server_id;\n",
       "    // Clean up Bokeh references\n",
       "    if (id != null && id in Bokeh.index) {\n",
       "      Bokeh.index[id].model.document.clear();\n",
       "      delete Bokeh.index[id];\n",
       "    }\n",
       "\n",
       "    if (server_id !== undefined) {\n",
       "      // Clean up Bokeh references\n",
       "      const cmd_clean = \"from bokeh.io.state import curstate; print(curstate().uuid_to_server['\" + server_id + \"'].get_sessions()[0].document.roots[0]._id)\";\n",
       "      cell.notebook.kernel.execute(cmd_clean, {\n",
       "        iopub: {\n",
       "          output: function(msg) {\n",
       "            const id = msg.content.text.trim();\n",
       "            if (id in Bokeh.index) {\n",
       "              Bokeh.index[id].model.document.clear();\n",
       "              delete Bokeh.index[id];\n",
       "            }\n",
       "          }\n",
       "        }\n",
       "      });\n",
       "      // Destroy server and session\n",
       "      const cmd_destroy = \"import bokeh.io.notebook as ion; ion.destroy_server('\" + server_id + \"')\";\n",
       "      cell.notebook.kernel.execute(cmd_destroy);\n",
       "    }\n",
       "  }\n",
       "\n",
       "  /**\n",
       "   * Handle when a new output is added\n",
       "   */\n",
       "  function handleAddOutput(event, handle) {\n",
       "    const output_area = handle.output_area;\n",
       "    const output = handle.output;\n",
       "\n",
       "    // limit handleAddOutput to display_data with EXEC_MIME_TYPE content only\n",
       "    if ((output.output_type != \"display_data\") || (!Object.prototype.hasOwnProperty.call(output.data, EXEC_MIME_TYPE))) {\n",
       "      return\n",
       "    }\n",
       "\n",
       "    const toinsert = output_area.element.find(\".\" + CLASS_NAME.split(' ')[0]);\n",
       "\n",
       "    if (output.metadata[EXEC_MIME_TYPE][\"id\"] !== undefined) {\n",
       "      toinsert[toinsert.length - 1].firstChild.textContent = output.data[JS_MIME_TYPE];\n",
       "      // store reference to embed id on output_area\n",
       "      output_area._bokeh_element_id = output.metadata[EXEC_MIME_TYPE][\"id\"];\n",
       "    }\n",
       "    if (output.metadata[EXEC_MIME_TYPE][\"server_id\"] !== undefined) {\n",
       "      const bk_div = document.createElement(\"div\");\n",
       "      bk_div.innerHTML = output.data[HTML_MIME_TYPE];\n",
       "      const script_attrs = bk_div.children[0].attributes;\n",
       "      for (let i = 0; i < script_attrs.length; i++) {\n",
       "        toinsert[toinsert.length - 1].firstChild.setAttribute(script_attrs[i].name, script_attrs[i].value);\n",
       "        toinsert[toinsert.length - 1].firstChild.textContent = bk_div.children[0].textContent\n",
       "      }\n",
       "      // store reference to server id on output_area\n",
       "      output_area._bokeh_server_id = output.metadata[EXEC_MIME_TYPE][\"server_id\"];\n",
       "    }\n",
       "  }\n",
       "\n",
       "  function register_renderer(events, OutputArea) {\n",
       "\n",
       "    function append_mime(data, metadata, element) {\n",
       "      // create a DOM node to render to\n",
       "      const toinsert = this.create_output_subarea(\n",
       "        metadata,\n",
       "        CLASS_NAME,\n",
       "        EXEC_MIME_TYPE\n",
       "      );\n",
       "      this.keyboard_manager.register_events(toinsert);\n",
       "      // Render to node\n",
       "      const props = {data: data, metadata: metadata[EXEC_MIME_TYPE]};\n",
       "      render(props, toinsert[toinsert.length - 1]);\n",
       "      element.append(toinsert);\n",
       "      return toinsert\n",
       "    }\n",
       "\n",
       "    /* Handle when an output is cleared or removed */\n",
       "    events.on('clear_output.CodeCell', handleClearOutput);\n",
       "    events.on('delete.Cell', handleClearOutput);\n",
       "\n",
       "    /* Handle when a new output is added */\n",
       "    events.on('output_added.OutputArea', handleAddOutput);\n",
       "\n",
       "    /**\n",
       "     * Register the mime type and append_mime function with output_area\n",
       "     */\n",
       "    OutputArea.prototype.register_mime_type(EXEC_MIME_TYPE, append_mime, {\n",
       "      /* Is output safe? */\n",
       "      safe: true,\n",
       "      /* Index of renderer in `output_area.display_order` */\n",
       "      index: 0\n",
       "    });\n",
       "  }\n",
       "\n",
       "  // register the mime type if in Jupyter Notebook environment and previously unregistered\n",
       "  if (root.Jupyter !== undefined) {\n",
       "    const events = require('base/js/events');\n",
       "    const OutputArea = require('notebook/js/outputarea').OutputArea;\n",
       "\n",
       "    if (OutputArea.prototype.mime_types().indexOf(EXEC_MIME_TYPE) == -1) {\n",
       "      register_renderer(events, OutputArea);\n",
       "    }\n",
       "  }\n",
       "  if (typeof (root._bokeh_timeout) === \"undefined\" || force === true) {\n",
       "    root._bokeh_timeout = Date.now() + 5000;\n",
       "    root._bokeh_failed_load = false;\n",
       "  }\n",
       "\n",
       "  const NB_LOAD_WARNING = {'data': {'text/html':\n",
       "     \"<div style='background-color: #fdd'>\\n\"+\n",
       "     \"<p>\\n\"+\n",
       "     \"BokehJS does not appear to have successfully loaded. If loading BokehJS from CDN, this \\n\"+\n",
       "     \"may be due to a slow or bad network connection. Possible fixes:\\n\"+\n",
       "     \"</p>\\n\"+\n",
       "     \"<ul>\\n\"+\n",
       "     \"<li>re-rerun `output_notebook()` to attempt to load from CDN again, or</li>\\n\"+\n",
       "     \"<li>use INLINE resources instead, as so:</li>\\n\"+\n",
       "     \"</ul>\\n\"+\n",
       "     \"<code>\\n\"+\n",
       "     \"from bokeh.resources import INLINE\\n\"+\n",
       "     \"output_notebook(resources=INLINE)\\n\"+\n",
       "     \"</code>\\n\"+\n",
       "     \"</div>\"}};\n",
       "\n",
       "  function display_loaded() {\n",
       "    const el = document.getElementById(\"f7c8d199-e84d-4698-83f7-0a181d80bf74\");\n",
       "    if (el != null) {\n",
       "      el.textContent = \"BokehJS is loading...\";\n",
       "    }\n",
       "    if (root.Bokeh !== undefined) {\n",
       "      if (el != null) {\n",
       "        el.textContent = \"BokehJS \" + root.Bokeh.version + \" successfully loaded.\";\n",
       "      }\n",
       "    } else if (Date.now() < root._bokeh_timeout) {\n",
       "      setTimeout(display_loaded, 100)\n",
       "    }\n",
       "  }\n",
       "\n",
       "  function run_callbacks() {\n",
       "    try {\n",
       "      root._bokeh_onload_callbacks.forEach(function(callback) {\n",
       "        if (callback != null)\n",
       "          callback();\n",
       "      });\n",
       "    } finally {\n",
       "      delete root._bokeh_onload_callbacks\n",
       "    }\n",
       "    console.debug(\"Bokeh: all callbacks have finished\");\n",
       "  }\n",
       "\n",
       "  function load_libs(css_urls, js_urls, callback) {\n",
       "    if (css_urls == null) css_urls = [];\n",
       "    if (js_urls == null) js_urls = [];\n",
       "\n",
       "    root._bokeh_onload_callbacks.push(callback);\n",
       "    if (root._bokeh_is_loading > 0) {\n",
       "      console.debug(\"Bokeh: BokehJS is being loaded, scheduling callback at\", now());\n",
       "      return null;\n",
       "    }\n",
       "    if (js_urls == null || js_urls.length === 0) {\n",
       "      run_callbacks();\n",
       "      return null;\n",
       "    }\n",
       "    console.debug(\"Bokeh: BokehJS not loaded, scheduling load and callback at\", now());\n",
       "    root._bokeh_is_loading = css_urls.length + js_urls.length;\n",
       "\n",
       "    function on_load() {\n",
       "      root._bokeh_is_loading--;\n",
       "      if (root._bokeh_is_loading === 0) {\n",
       "        console.debug(\"Bokeh: all BokehJS libraries/stylesheets loaded\");\n",
       "        run_callbacks()\n",
       "      }\n",
       "    }\n",
       "\n",
       "    function on_error(url) {\n",
       "      console.error(\"failed to load \" + url);\n",
       "    }\n",
       "\n",
       "    for (let i = 0; i < css_urls.length; i++) {\n",
       "      const url = css_urls[i];\n",
       "      const element = document.createElement(\"link\");\n",
       "      element.onload = on_load;\n",
       "      element.onerror = on_error.bind(null, url);\n",
       "      element.rel = \"stylesheet\";\n",
       "      element.type = \"text/css\";\n",
       "      element.href = url;\n",
       "      console.debug(\"Bokeh: injecting link tag for BokehJS stylesheet: \", url);\n",
       "      document.body.appendChild(element);\n",
       "    }\n",
       "\n",
       "    for (let i = 0; i < js_urls.length; i++) {\n",
       "      const url = js_urls[i];\n",
       "      const element = document.createElement('script');\n",
       "      element.onload = on_load;\n",
       "      element.onerror = on_error.bind(null, url);\n",
       "      element.async = false;\n",
       "      element.src = url;\n",
       "      console.debug(\"Bokeh: injecting script tag for BokehJS library: \", url);\n",
       "      document.head.appendChild(element);\n",
       "    }\n",
       "  };\n",
       "\n",
       "  function inject_raw_css(css) {\n",
       "    const element = document.createElement(\"style\");\n",
       "    element.appendChild(document.createTextNode(css));\n",
       "    document.body.appendChild(element);\n",
       "  }\n",
       "\n",
       "  const js_urls = [\"https://cdn.bokeh.org/bokeh/release/bokeh-3.1.1.min.js\", \"https://cdn.bokeh.org/bokeh/release/bokeh-gl-3.1.1.min.js\", \"https://cdn.bokeh.org/bokeh/release/bokeh-widgets-3.1.1.min.js\", \"https://cdn.bokeh.org/bokeh/release/bokeh-tables-3.1.1.min.js\", \"https://cdn.bokeh.org/bokeh/release/bokeh-mathjax-3.1.1.min.js\"];\n",
       "  const css_urls = [];\n",
       "\n",
       "  const inline_js = [    function(Bokeh) {\n",
       "      Bokeh.set_log_level(\"info\");\n",
       "    },\n",
       "function(Bokeh) {\n",
       "    }\n",
       "  ];\n",
       "\n",
       "  function run_inline_js() {\n",
       "    if (root.Bokeh !== undefined || force === true) {\n",
       "          for (let i = 0; i < inline_js.length; i++) {\n",
       "      inline_js[i].call(root, root.Bokeh);\n",
       "    }\n",
       "if (force === true) {\n",
       "        display_loaded();\n",
       "      }} else if (Date.now() < root._bokeh_timeout) {\n",
       "      setTimeout(run_inline_js, 100);\n",
       "    } else if (!root._bokeh_failed_load) {\n",
       "      console.log(\"Bokeh: BokehJS failed to load within specified timeout.\");\n",
       "      root._bokeh_failed_load = true;\n",
       "    } else if (force !== true) {\n",
       "      const cell = $(document.getElementById(\"f7c8d199-e84d-4698-83f7-0a181d80bf74\")).parents('.cell').data().cell;\n",
       "      cell.output_area.append_execute_result(NB_LOAD_WARNING)\n",
       "    }\n",
       "  }\n",
       "\n",
       "  if (root._bokeh_is_loading === 0) {\n",
       "    console.debug(\"Bokeh: BokehJS loaded, going straight to plotting\");\n",
       "    run_inline_js();\n",
       "  } else {\n",
       "    load_libs(css_urls, js_urls, function() {\n",
       "      console.debug(\"Bokeh: BokehJS plotting callback run at\", now());\n",
       "      run_inline_js();\n",
       "    });\n",
       "  }\n",
       "}(window));"
      ],
      "application/vnd.bokehjs_load.v0+json": "(function(root) {\n  function now() {\n    return new Date();\n  }\n\n  const force = true;\n\n  if (typeof root._bokeh_onload_callbacks === \"undefined\" || force === true) {\n    root._bokeh_onload_callbacks = [];\n    root._bokeh_is_loading = undefined;\n  }\n\n\n  if (typeof (root._bokeh_timeout) === \"undefined\" || force === true) {\n    root._bokeh_timeout = Date.now() + 5000;\n    root._bokeh_failed_load = false;\n  }\n\n  const NB_LOAD_WARNING = {'data': {'text/html':\n     \"<div style='background-color: #fdd'>\\n\"+\n     \"<p>\\n\"+\n     \"BokehJS does not appear to have successfully loaded. If loading BokehJS from CDN, this \\n\"+\n     \"may be due to a slow or bad network connection. Possible fixes:\\n\"+\n     \"</p>\\n\"+\n     \"<ul>\\n\"+\n     \"<li>re-rerun `output_notebook()` to attempt to load from CDN again, or</li>\\n\"+\n     \"<li>use INLINE resources instead, as so:</li>\\n\"+\n     \"</ul>\\n\"+\n     \"<code>\\n\"+\n     \"from bokeh.resources import INLINE\\n\"+\n     \"output_notebook(resources=INLINE)\\n\"+\n     \"</code>\\n\"+\n     \"</div>\"}};\n\n  function display_loaded() {\n    const el = document.getElementById(\"f7c8d199-e84d-4698-83f7-0a181d80bf74\");\n    if (el != null) {\n      el.textContent = \"BokehJS is loading...\";\n    }\n    if (root.Bokeh !== undefined) {\n      if (el != null) {\n        el.textContent = \"BokehJS \" + root.Bokeh.version + \" successfully loaded.\";\n      }\n    } else if (Date.now() < root._bokeh_timeout) {\n      setTimeout(display_loaded, 100)\n    }\n  }\n\n  function run_callbacks() {\n    try {\n      root._bokeh_onload_callbacks.forEach(function(callback) {\n        if (callback != null)\n          callback();\n      });\n    } finally {\n      delete root._bokeh_onload_callbacks\n    }\n    console.debug(\"Bokeh: all callbacks have finished\");\n  }\n\n  function load_libs(css_urls, js_urls, callback) {\n    if (css_urls == null) css_urls = [];\n    if (js_urls == null) js_urls = [];\n\n    root._bokeh_onload_callbacks.push(callback);\n    if (root._bokeh_is_loading > 0) {\n      console.debug(\"Bokeh: BokehJS is being loaded, scheduling callback at\", now());\n      return null;\n    }\n    if (js_urls == null || js_urls.length === 0) {\n      run_callbacks();\n      return null;\n    }\n    console.debug(\"Bokeh: BokehJS not loaded, scheduling load and callback at\", now());\n    root._bokeh_is_loading = css_urls.length + js_urls.length;\n\n    function on_load() {\n      root._bokeh_is_loading--;\n      if (root._bokeh_is_loading === 0) {\n        console.debug(\"Bokeh: all BokehJS libraries/stylesheets loaded\");\n        run_callbacks()\n      }\n    }\n\n    function on_error(url) {\n      console.error(\"failed to load \" + url);\n    }\n\n    for (let i = 0; i < css_urls.length; i++) {\n      const url = css_urls[i];\n      const element = document.createElement(\"link\");\n      element.onload = on_load;\n      element.onerror = on_error.bind(null, url);\n      element.rel = \"stylesheet\";\n      element.type = \"text/css\";\n      element.href = url;\n      console.debug(\"Bokeh: injecting link tag for BokehJS stylesheet: \", url);\n      document.body.appendChild(element);\n    }\n\n    for (let i = 0; i < js_urls.length; i++) {\n      const url = js_urls[i];\n      const element = document.createElement('script');\n      element.onload = on_load;\n      element.onerror = on_error.bind(null, url);\n      element.async = false;\n      element.src = url;\n      console.debug(\"Bokeh: injecting script tag for BokehJS library: \", url);\n      document.head.appendChild(element);\n    }\n  };\n\n  function inject_raw_css(css) {\n    const element = document.createElement(\"style\");\n    element.appendChild(document.createTextNode(css));\n    document.body.appendChild(element);\n  }\n\n  const js_urls = [\"https://cdn.bokeh.org/bokeh/release/bokeh-3.1.1.min.js\", \"https://cdn.bokeh.org/bokeh/release/bokeh-gl-3.1.1.min.js\", \"https://cdn.bokeh.org/bokeh/release/bokeh-widgets-3.1.1.min.js\", \"https://cdn.bokeh.org/bokeh/release/bokeh-tables-3.1.1.min.js\", \"https://cdn.bokeh.org/bokeh/release/bokeh-mathjax-3.1.1.min.js\"];\n  const css_urls = [];\n\n  const inline_js = [    function(Bokeh) {\n      Bokeh.set_log_level(\"info\");\n    },\nfunction(Bokeh) {\n    }\n  ];\n\n  function run_inline_js() {\n    if (root.Bokeh !== undefined || force === true) {\n          for (let i = 0; i < inline_js.length; i++) {\n      inline_js[i].call(root, root.Bokeh);\n    }\nif (force === true) {\n        display_loaded();\n      }} else if (Date.now() < root._bokeh_timeout) {\n      setTimeout(run_inline_js, 100);\n    } else if (!root._bokeh_failed_load) {\n      console.log(\"Bokeh: BokehJS failed to load within specified timeout.\");\n      root._bokeh_failed_load = true;\n    } else if (force !== true) {\n      const cell = $(document.getElementById(\"f7c8d199-e84d-4698-83f7-0a181d80bf74\")).parents('.cell').data().cell;\n      cell.output_area.append_execute_result(NB_LOAD_WARNING)\n    }\n  }\n\n  if (root._bokeh_is_loading === 0) {\n    console.debug(\"Bokeh: BokehJS loaded, going straight to plotting\");\n    run_inline_js();\n  } else {\n    load_libs(css_urls, js_urls, function() {\n      console.debug(\"Bokeh: BokehJS plotting callback run at\", now());\n      run_inline_js();\n    });\n  }\n}(window));"
     },
     "metadata": {},
     "output_type": "display_data"
    }
   ],
   "source": [
    "from bokeh.plotting import figure, show\n",
    "from bokeh.models import ColumnDataSource\n",
    "from bokeh.io import output_notebook\n",
    "output_notebook()"
   ]
  },
  {
   "cell_type": "markdown",
   "id": "312feefd",
   "metadata": {},
   "source": [
    "### df 데이터 전처리\n",
    "\n",
    "1. chart를 위해 월 평균 이용 고객수 산출하여 데이터 정제\n",
    "2. df['년월'] 데이터는 '201801' 6자리 문자열로 되어 있기 때문에 이를 datatime 형식으로 변경\n",
    "    * `pd.to_datetime()` 함수 이용"
   ]
  },
  {
   "cell_type": "code",
   "execution_count": 174,
   "id": "f2369f04",
   "metadata": {},
   "outputs": [
    {
     "data": {
      "text/plain": [
       "년월        datetime64[ns]\n",
       "승차총승객수           float64\n",
       "dtype: object"
      ]
     },
     "execution_count": 174,
     "metadata": {},
     "output_type": "execute_result"
    }
   ],
   "source": [
    "new = df.groupby(['년월'])['승차총승객수'].mean().reset_index()\n",
    "new['년월'] = pd.to_datetime(df['년월'],format='%Y%m')\n",
    "new.dtypes"
   ]
  },
  {
   "cell_type": "markdown",
   "id": "62f852bc",
   "metadata": {},
   "source": [
    "### bokeh chart\n",
    "\n",
    "* new dataset을 dictionay 형태로 데이터 전환 `df.to_dict('list')` 함수 이용"
   ]
  },
  {
   "cell_type": "code",
   "execution_count": 172,
   "id": "a2f3adfb",
   "metadata": {},
   "outputs": [],
   "source": [
    "data = new.to_dict('list')\n",
    "source = ColumnDataSource(data)"
   ]
  },
  {
   "cell_type": "code",
   "execution_count": 176,
   "id": "47979cb4",
   "metadata": {},
   "outputs": [
    {
     "data": {
      "text/html": [
       "\n",
       "  <div id=\"dc43f7e5-bdcf-48c1-a97b-4e839e19948a\" data-root-id=\"p18131\" style=\"display: contents;\"></div>\n"
      ]
     },
     "metadata": {},
     "output_type": "display_data"
    },
    {
     "data": {
      "application/javascript": [
       "(function(root) {\n",
       "  function embed_document(root) {\n",
       "  const docs_json = {\"9d0ca629-096f-4164-bc82-0804ecf5f5c6\":{\"version\":\"3.1.1\",\"title\":\"Bokeh Application\",\"defs\":[],\"roots\":[{\"type\":\"object\",\"name\":\"Figure\",\"id\":\"p18131\",\"attributes\":{\"width\":700,\"height\":300,\"x_range\":{\"type\":\"object\",\"name\":\"DataRange1d\",\"id\":\"p18132\"},\"y_range\":{\"type\":\"object\",\"name\":\"DataRange1d\",\"id\":\"p18133\"},\"x_scale\":{\"type\":\"object\",\"name\":\"LinearScale\",\"id\":\"p18145\"},\"y_scale\":{\"type\":\"object\",\"name\":\"LinearScale\",\"id\":\"p18147\"},\"title\":{\"type\":\"object\",\"name\":\"Title\",\"id\":\"p18134\",\"attributes\":{\"text\":\"\\uc6d4 \\ud3c9\\uade0 \\uc9c0\\ud558\\ucca0 \\uc774\\uc6a9 \\uc2b9\\uac1d\\uc218\"}},\"renderers\":[{\"type\":\"object\",\"name\":\"GlyphRenderer\",\"id\":\"p18220\",\"attributes\":{\"data_source\":{\"type\":\"object\",\"name\":\"ColumnDataSource\",\"id\":\"p16009\",\"attributes\":{\"selected\":{\"type\":\"object\",\"name\":\"Selection\",\"id\":\"p16011\",\"attributes\":{\"indices\":[],\"line_indices\":[]}},\"selection_policy\":{\"type\":\"object\",\"name\":\"UnionRenderers\",\"id\":\"p16010\"},\"data\":{\"type\":\"map\",\"entries\":[[\"\\ub144\\uc6d4\",[1509494400000.0,1512086400000.0,1514764800000.0,1517443200000.0,1519862400000.0,1522540800000.0,1525132800000.0,1527811200000.0,1530403200000.0,1533081600000.0,1535760000000.0,1538352000000.0,1541030400000.0,1543622400000.0,1546300800000.0,1548979200000.0,1551398400000.0,1554076800000.0,1556668800000.0]],[\"\\uc2b9\\ucc28\\ucd1d\\uc2b9\\uac1d\\uc218\",[7824046.354838709,7835355.225806451,7326306.806451613,6486137.451612903,8074678.806451613,7860905.387096774,8090671.387096774,7325202.21875,7406768.28125,7153949.09375,6975990.96875,7885627.625,7793026.5625,7616263.8125,7420875.5625,6369240.3125,7823512.5625,7902812.625,8152702.8125]]]}}},\"view\":{\"type\":\"object\",\"name\":\"CDSView\",\"id\":\"p18221\",\"attributes\":{\"filter\":{\"type\":\"object\",\"name\":\"AllIndices\",\"id\":\"p18222\"}}},\"glyph\":{\"type\":\"object\",\"name\":\"Line\",\"id\":\"p18217\",\"attributes\":{\"x\":{\"type\":\"field\",\"field\":\"\\ub144\\uc6d4\"},\"y\":{\"type\":\"field\",\"field\":\"\\uc2b9\\ucc28\\ucd1d\\uc2b9\\uac1d\\uc218\"},\"line_color\":\"#1f77b4\"}},\"nonselection_glyph\":{\"type\":\"object\",\"name\":\"Line\",\"id\":\"p18218\",\"attributes\":{\"x\":{\"type\":\"field\",\"field\":\"\\ub144\\uc6d4\"},\"y\":{\"type\":\"field\",\"field\":\"\\uc2b9\\ucc28\\ucd1d\\uc2b9\\uac1d\\uc218\"},\"line_color\":\"#1f77b4\",\"line_alpha\":0.1}},\"muted_glyph\":{\"type\":\"object\",\"name\":\"Line\",\"id\":\"p18219\",\"attributes\":{\"x\":{\"type\":\"field\",\"field\":\"\\ub144\\uc6d4\"},\"y\":{\"type\":\"field\",\"field\":\"\\uc2b9\\ucc28\\ucd1d\\uc2b9\\uac1d\\uc218\"},\"line_color\":\"#1f77b4\",\"line_alpha\":0.2}}}}],\"toolbar\":{\"type\":\"object\",\"name\":\"Toolbar\",\"id\":\"p18137\",\"attributes\":{\"tools\":[{\"type\":\"object\",\"name\":\"PanTool\",\"id\":\"p18199\"},{\"type\":\"object\",\"name\":\"WheelZoomTool\",\"id\":\"p18200\"},{\"type\":\"object\",\"name\":\"BoxZoomTool\",\"id\":\"p18201\",\"attributes\":{\"overlay\":{\"type\":\"object\",\"name\":\"BoxAnnotation\",\"id\":\"p18202\",\"attributes\":{\"syncable\":false,\"level\":\"overlay\",\"visible\":false,\"left_units\":\"canvas\",\"right_units\":\"canvas\",\"bottom_units\":\"canvas\",\"top_units\":\"canvas\",\"line_color\":\"black\",\"line_alpha\":1.0,\"line_width\":2,\"line_dash\":[4,4],\"fill_color\":\"lightgrey\",\"fill_alpha\":0.5}}}},{\"type\":\"object\",\"name\":\"SaveTool\",\"id\":\"p18203\"},{\"type\":\"object\",\"name\":\"ResetTool\",\"id\":\"p18204\"},{\"type\":\"object\",\"name\":\"HelpTool\",\"id\":\"p18205\"}]}},\"left\":[{\"type\":\"object\",\"name\":\"LinearAxis\",\"id\":\"p18192\",\"attributes\":{\"ticker\":{\"type\":\"object\",\"name\":\"BasicTicker\",\"id\":\"p18193\",\"attributes\":{\"mantissas\":[1,2,5]}},\"formatter\":{\"type\":\"object\",\"name\":\"BasicTickFormatter\",\"id\":\"p18194\"},\"axis_label\":\"\\uc2b9\\ucc28\\ucd1d\\uc2b9\\uac1d\\uc218\",\"major_label_policy\":{\"type\":\"object\",\"name\":\"AllLabels\",\"id\":\"p18195\"}}}],\"below\":[{\"type\":\"object\",\"name\":\"DatetimeAxis\",\"id\":\"p18149\",\"attributes\":{\"ticker\":{\"type\":\"object\",\"name\":\"DatetimeTicker\",\"id\":\"p18150\",\"attributes\":{\"num_minor_ticks\":5,\"tickers\":[{\"type\":\"object\",\"name\":\"AdaptiveTicker\",\"id\":\"p18151\",\"attributes\":{\"num_minor_ticks\":0,\"mantissas\":[1,2,5],\"max_interval\":500.0}},{\"type\":\"object\",\"name\":\"AdaptiveTicker\",\"id\":\"p18152\",\"attributes\":{\"num_minor_ticks\":0,\"base\":60,\"mantissas\":[1,2,5,10,15,20,30],\"min_interval\":1000.0,\"max_interval\":1800000.0}},{\"type\":\"object\",\"name\":\"AdaptiveTicker\",\"id\":\"p18153\",\"attributes\":{\"num_minor_ticks\":0,\"base\":24,\"mantissas\":[1,2,4,6,8,12],\"min_interval\":3600000.0,\"max_interval\":43200000.0}},{\"type\":\"object\",\"name\":\"DaysTicker\",\"id\":\"p18154\",\"attributes\":{\"days\":[1,2,3,4,5,6,7,8,9,10,11,12,13,14,15,16,17,18,19,20,21,22,23,24,25,26,27,28,29,30,31]}},{\"type\":\"object\",\"name\":\"DaysTicker\",\"id\":\"p18155\",\"attributes\":{\"days\":[1,4,7,10,13,16,19,22,25,28]}},{\"type\":\"object\",\"name\":\"DaysTicker\",\"id\":\"p18156\",\"attributes\":{\"days\":[1,8,15,22]}},{\"type\":\"object\",\"name\":\"DaysTicker\",\"id\":\"p18157\",\"attributes\":{\"days\":[1,15]}},{\"type\":\"object\",\"name\":\"MonthsTicker\",\"id\":\"p18158\",\"attributes\":{\"months\":[0,1,2,3,4,5,6,7,8,9,10,11]}},{\"type\":\"object\",\"name\":\"MonthsTicker\",\"id\":\"p18159\",\"attributes\":{\"months\":[0,2,4,6,8,10]}},{\"type\":\"object\",\"name\":\"MonthsTicker\",\"id\":\"p18160\",\"attributes\":{\"months\":[0,4,8]}},{\"type\":\"object\",\"name\":\"MonthsTicker\",\"id\":\"p18161\",\"attributes\":{\"months\":[0,6]}},{\"type\":\"object\",\"name\":\"YearsTicker\",\"id\":\"p18162\"}]}},\"formatter\":{\"type\":\"object\",\"name\":\"DatetimeTickFormatter\",\"id\":\"p18163\"},\"axis_label\":\"\\ub144\\uc6d4\",\"major_label_policy\":{\"type\":\"object\",\"name\":\"AllLabels\",\"id\":\"p18164\"}}}],\"center\":[{\"type\":\"object\",\"name\":\"Grid\",\"id\":\"p18191\",\"attributes\":{\"axis\":{\"id\":\"p18149\"}}},{\"type\":\"object\",\"name\":\"Grid\",\"id\":\"p18198\",\"attributes\":{\"dimension\":1,\"axis\":{\"id\":\"p18192\"}}}]}}],\"callbacks\":{\"type\":\"map\"}}};\n",
       "  const render_items = [{\"docid\":\"9d0ca629-096f-4164-bc82-0804ecf5f5c6\",\"roots\":{\"p18131\":\"dc43f7e5-bdcf-48c1-a97b-4e839e19948a\"},\"root_ids\":[\"p18131\"]}];\n",
       "  root.Bokeh.embed.embed_items_notebook(docs_json, render_items);\n",
       "  }\n",
       "  if (root.Bokeh !== undefined) {\n",
       "    embed_document(root);\n",
       "  } else {\n",
       "    let attempts = 0;\n",
       "    const timer = setInterval(function(root) {\n",
       "      if (root.Bokeh !== undefined) {\n",
       "        clearInterval(timer);\n",
       "        embed_document(root);\n",
       "      } else {\n",
       "        attempts++;\n",
       "        if (attempts > 100) {\n",
       "          clearInterval(timer);\n",
       "          console.log(\"Bokeh: ERROR: Unable to run BokehJS code because BokehJS library is missing\");\n",
       "        }\n",
       "      }\n",
       "    }, 10, root)\n",
       "  }\n",
       "})(window);"
      ],
      "application/vnd.bokehjs_exec.v0+json": ""
     },
     "metadata": {
      "application/vnd.bokehjs_exec.v0+json": {
       "id": "p18131"
      }
     },
     "output_type": "display_data"
    }
   ],
   "source": [
    "p = figure(title='월 평균 지하철 이용 승객수', \n",
    "           x_axis_label='년월', \n",
    "           y_axis_label='승차총승객수',\n",
    "           x_axis_type='datetime', \n",
    "           width = 700,\n",
    "           height = 300\n",
    "           )\n",
    "p.line(x='년월', y='승차총승객수', source=source)\n",
    "show(p)"
   ]
  },
  {
   "cell_type": "code",
   "execution_count": null,
   "id": "0fb706e9",
   "metadata": {},
   "outputs": [],
   "source": []
  },
  {
   "cell_type": "code",
   "execution_count": null,
   "id": "fdccccc2",
   "metadata": {},
   "outputs": [],
   "source": []
  }
 ],
 "metadata": {
  "kernelspec": {
   "display_name": "Python 3 (ipykernel)",
   "language": "python",
   "name": "python3"
  },
  "language_info": {
   "codemirror_mode": {
    "name": "ipython",
    "version": 3
   },
   "file_extension": ".py",
   "mimetype": "text/x-python",
   "name": "python",
   "nbconvert_exporter": "python",
   "pygments_lexer": "ipython3",
   "version": "3.10.6"
  }
 },
 "nbformat": 4,
 "nbformat_minor": 5
}
