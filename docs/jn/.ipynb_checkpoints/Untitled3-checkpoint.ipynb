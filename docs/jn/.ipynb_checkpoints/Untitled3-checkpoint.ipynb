{
 "cells": [
  {
   "cell_type": "markdown",
   "id": "5ed87b36",
   "metadata": {},
   "source": [
    "(file-types:pandas_01)=\n",
    "\n",
    "# jupytext test"
   ]
  },
  {
   "cell_type": "markdown",
   "id": "65f9df78",
   "metadata": {},
   "source": [
    "## install"
   ]
  },
  {
   "cell_type": "code",
   "execution_count": 4,
   "id": "0be38a57",
   "metadata": {},
   "outputs": [],
   "source": [
    "#!pdm add jupytext"
   ]
  },
  {
   "cell_type": "code",
   "execution_count": 5,
   "id": "f4b4dc4e",
   "metadata": {},
   "outputs": [
    {
     "name": "stdout",
     "output_type": "stream",
     "text": [
      "\u001b[36mName\u001b[0m:                  jupytext                                                 \r\n",
      "\u001b[36mLatest version\u001b[0m:        1.14.6                                                   \r\n",
      "\u001b[36mLatest stable version\u001b[0m: 1.14.6                                                   \r\n",
      "\u001b[36mInstalled version\u001b[0m:     1.14.6                                                   \r\n",
      "\u001b[36mSummary\u001b[0m:               Jupyter notebooks as Markdown documents, Julia, Python or\r\n",
      "                       R scripts                                                \r\n",
      "\u001b[36mRequires Python:\u001b[0m       ~=3.6                                                    \r\n",
      "\u001b[36mAuthor\u001b[0m:                Marc Wouts                                               \r\n",
      "\u001b[36mAuthor email\u001b[0m:          marc.wouts@gmail.com                                     \r\n",
      "\u001b[36mLicense\u001b[0m:               MIT                                                      \r\n",
      "\u001b[36mHomepage\u001b[0m:              https://github.com/mwouts/jupytext                       \r\n",
      "\u001b[36mProject URLs\u001b[0m:                                                                   \r\n",
      "\u001b[36mPlatform\u001b[0m:                                                                       \r\n",
      "\u001b[36mKeywords\u001b[0m:                                                                       \r\n"
     ]
    }
   ],
   "source": [
    "!pdm show jupytext"
   ]
  },
  {
   "cell_type": "code",
   "execution_count": null,
   "id": "9261e700",
   "metadata": {},
   "outputs": [],
   "source": []
  }
 ],
 "metadata": {
  "kernelspec": {
   "display_name": "Python 3 (ipykernel)",
   "language": "python",
   "name": "python3"
  },
  "language_info": {
   "codemirror_mode": {
    "name": "ipython",
    "version": 3
   },
   "file_extension": ".py",
   "mimetype": "text/x-python",
   "name": "python",
   "nbconvert_exporter": "python",
   "pygments_lexer": "ipython3",
   "version": "3.10.6"
  }
 },
 "nbformat": 4,
 "nbformat_minor": 5
}
