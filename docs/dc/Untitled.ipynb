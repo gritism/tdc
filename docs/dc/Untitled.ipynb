{
 "cells": [
  {
   "cell_type": "code",
   "execution_count": 1,
   "id": "ab60b588-64c0-4fa2-8eef-f23e2467eca3",
   "metadata": {
    "lines_to_next_cell": 0
   },
   "outputs": [],
   "source": [
    "import numpy as np\n",
    "array = np.arange(4)"
   ]
  },
  {
   "cell_type": "markdown",
   "id": "69ebe71c-ce4e-453b-b4d1-fee23c34f094",
   "metadata": {},
   "source": [
    "\n"
   ]
  },
  {
   "cell_type": "code",
   "execution_count": 2,
   "id": "9f50c887-c4da-478e-8264-88d8908aa9f1",
   "metadata": {},
   "outputs": [
    {
     "name": "stdout",
     "output_type": "stream",
     "text": [
      "hello\n"
     ]
    }
   ],
   "source": [
    "print('hello')"
   ]
  },
  {
   "cell_type": "markdown",
   "id": "8e169bf3-7bfc-450d-9add-95d185036ea8",
   "metadata": {},
   "source": [
    "Let's consider the following array: {eval}`array`.\n",
    "\n",
    "We can compute the total: {eval}`array.sum()` and the maximum value is {eval}`array.max()`."
   ]
  },
  {
   "cell_type": "markdown",
   "id": "3ced3743",
   "metadata": {},
   "source": [
    "```{code-cell} ipython3\n",
    "a = \"This is some\"\n",
    "b = \"Python code!\"\n",
    "print(f\"{a} {b}\")\n",
    "```"
   ]
  },
  {
   "cell_type": "code",
   "execution_count": null,
   "id": "a0b409e7",
   "metadata": {},
   "outputs": [],
   "source": []
  }
 ],
 "metadata": {
  "kernelspec": {
   "display_name": "Python 3 (ipykernel)",
   "language": "python",
   "name": "python3"
  },
  "language_info": {
   "codemirror_mode": {
    "name": "ipython",
    "version": 3
   },
   "file_extension": ".py",
   "mimetype": "text/x-python",
   "name": "python",
   "nbconvert_exporter": "python",
   "pygments_lexer": "ipython3",
   "version": "3.10.6"
  }
 },
 "nbformat": 4,
 "nbformat_minor": 5
}
