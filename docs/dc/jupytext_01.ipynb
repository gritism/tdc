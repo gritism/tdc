{
 "cells": [
  {
   "cell_type": "markdown",
   "id": "5ed87b36",
   "metadata": {},
   "source": [
    "(file-types:jupytext_01)=\n",
    "\n",
    "# jupytext"
   ]
  },
  {
   "cell_type": "markdown",
   "id": "b6312cac",
   "metadata": {},
   "source": [
    "```{admonition} Objective\n",
    "\n",
    "* jupyter notebook(**.ipynb**) 파일은 binary로 버전 관리가 어려움.\n",
    "* **jupytext는 ipynb 파일을 .py, .md 등 plain text 형태 파일로 전환해주는 것임.**\n",
    "* .py, .md 파일 형태로 github를 통해 버전관리를 할 수 있음\n",
    "```"
   ]
  },
  {
   "cell_type": "markdown",
   "id": "65f9df78",
   "metadata": {},
   "source": [
    "## 1. install"
   ]
  },
  {
   "cell_type": "code",
   "execution_count": 1,
   "id": "0be38a57",
   "metadata": {
    "tags": [
     "hide-output"
    ]
   },
   "outputs": [],
   "source": [
    "#!pdm add jupytext"
   ]
  },
  {
   "cell_type": "code",
   "execution_count": 2,
   "id": "f4b4dc4e",
   "metadata": {},
   "outputs": [
    {
     "name": "stdout",
     "output_type": "stream",
     "text": [
      "\u001b[36mName\u001b[0m:                  jupytext                                                 \r\n",
      "\u001b[36mLatest version\u001b[0m:        1.14.6                                                   \r\n",
      "\u001b[36mLatest stable version\u001b[0m: 1.14.6                                                   \r\n",
      "\u001b[36mInstalled version\u001b[0m:     1.14.6                                                   \r\n",
      "\u001b[36mSummary\u001b[0m:               Jupyter notebooks as Markdown documents, Julia, Python or\r\n",
      "                       R scripts                                                \r\n",
      "\u001b[36mRequires Python:\u001b[0m       ~=3.6                                                    \r\n",
      "\u001b[36mAuthor\u001b[0m:                Marc Wouts                                               \r\n",
      "\u001b[36mAuthor email\u001b[0m:          marc.wouts@gmail.com                                     \r\n",
      "\u001b[36mLicense\u001b[0m:               MIT                                                      \r\n",
      "\u001b[36mHomepage\u001b[0m:              https://github.com/mwouts/jupytext                       \r\n",
      "\u001b[36mProject URLs\u001b[0m:                                                                   \r\n",
      "\u001b[36mPlatform\u001b[0m:                                                                       \r\n",
      "\u001b[36mKeywords\u001b[0m:                                                                       \r\n",
      "\r\n",
      "\u001b[34mPDM \u001b[0m\u001b[1;36m2.7\u001b[0m\u001b[36m.\u001b[0m\u001b[1;36m2\u001b[0m\u001b[34m is installed, while \u001b[0m\u001b[1;36m2.7\u001b[0m\u001b[36m.\u001b[0m\u001b[1;36m4\u001b[0m\u001b[34m is available.\u001b[0m\r\n",
      "\u001b[34mPlease run \u001b[0m\u001b[1;32m`pdm self update`\u001b[0m\u001b[34m to upgrade.\u001b[0m\r\n",
      "\u001b[34mRun \u001b[0m\u001b[1;32m`pdm config check_update false`\u001b[0m\u001b[34m to disable the check.\u001b[0m\r\n"
     ]
    }
   ],
   "source": [
    "!pdm show jupytext"
   ]
  },
  {
   "cell_type": "markdown",
   "id": "eddd0763",
   "metadata": {},
   "source": [
    "## 2. config\n",
    "\n",
    "```{warning}\n",
    "    jupytext는 notebook > 7 버전과 아직 호환되지 않음. (23.6월 기준) notebook <= 6 이하 버전 설치해야 함\n",
    "```"
   ]
  },
  {
   "cell_type": "markdown",
   "id": "77c632bf",
   "metadata": {},
   "source": [
    "### 2.1. jupytext config 디렉토리\n",
    "    * 아래 디렉토리 리스트에 jupytext config 파일 생성 가능 "
   ]
  },
  {
   "cell_type": "code",
   "execution_count": 3,
   "id": "1c41a24b",
   "metadata": {},
   "outputs": [
    {
     "data": {
      "text/plain": [
       "['/home/yblee/.config/jupytext',\n",
       " '/home/yblee/.config',\n",
       " '/home/yblee/jupytext',\n",
       " '/home/yblee',\n",
       " '/usr/local/share/jupytext',\n",
       " '/usr/local/share/',\n",
       " '/usr/share/jupytext',\n",
       " '/usr/share/']"
      ]
     },
     "execution_count": 3,
     "metadata": {},
     "output_type": "execute_result"
    }
   ],
   "source": [
    "from jupytext.config import global_jupytext_configuration_directories\n",
    "list(global_jupytext_configuration_directories())"
   ]
  },
  {
   "cell_type": "markdown",
   "id": "c6b6d6d5",
   "metadata": {},
   "source": [
    "### 2.2. comfig 파일 생성 \n",
    "\n",
    "* jupytext.yml (yml파일 혁식)\n",
    "    * 위치: 위 디렉토리 중 선택  \n",
    "    {octicon}`report;1em;sd-text-info` 기본적으로 jupytext는 ipynb, md 파일을 동일 디렉토리에 생성/저장\n",
    "    저장 경로를 다르게 하기 위한 config 파일 구성임.  \n",
    "    formats: \"경로/prefix/확장자, 경로/prefix/확장자\"\n",
    "    ```\n",
    "        formats: \"ipynb, _md//.md\"\n",
    "    ```\n",
    "\n",
    "* pyproject.toml 파일에 기록 (pdm, poetry 등 python package 관리 툴 사용하는 경우)\n",
    "    * 위치: {프로젝트 폴더}/.pyproject.toml\n",
    "    * 작성\n",
    "    ```\n",
    "    [tool.jupytext]\n",
    "    formats = \"ipynb, _md/_/.md\"\n",
    "    ```"
   ]
  },
  {
   "cell_type": "markdown",
   "id": "b8322bfa",
   "metadata": {},
   "source": [
    "### 2.3. jupytext.yml 파일 인식여부 확인"
   ]
  },
  {
   "cell_type": "code",
   "execution_count": 4,
   "id": "071383bf",
   "metadata": {},
   "outputs": [
    {
     "data": {
      "text/plain": [
       "'/home/yblee/.config/jupytext/jupytext.yml'"
      ]
     },
     "execution_count": 4,
     "metadata": {},
     "output_type": "execute_result"
    }
   ],
   "source": [
    "from jupytext.config import find_jupytext_configuration_file\n",
    "find_jupytext_configuration_file('.')"
   ]
  },
  {
   "cell_type": "markdown",
   "id": "ee9df5b5",
   "metadata": {},
   "source": [
    "### 2.4. jupyter notebook 실행  "
   ]
  },
  {
   "cell_type": "markdown",
   "id": "5ccd74d3",
   "metadata": {},
   "source": [
    "## 3. execute"
   ]
  },
  {
   "cell_type": "markdown",
   "id": "f441bb49",
   "metadata": {},
   "source": [
    "``` todo::\n",
    "1. notebook 실행 후 ipynb 파일 생성\n",
    "2. pairing: `file > jupytext > Pair Notebook with Markdown` 메뉴 선택\n",
    "3. save: jupytext_01.ipynb 파일 저장하면 동시에 scripts 폴더 내 `jupytext_01.md` 파일 저장"
   ]
  },
  {
   "cell_type": "code",
   "execution_count": 5,
   "id": "dc0748cf",
   "metadata": {},
   "outputs": [
    {
     "name": "stdout",
     "output_type": "stream",
     "text": [
      "\u001b[01;34m.\u001b[0m\r\n",
      "├── \u001b[01;34m _md\u001b[0m\r\n",
      "│   ├── _jupytext_01.md\r\n",
      "│   ├── _myst.md\r\n",
      "│   ├── _sphinx_01.md\r\n",
      "│   └── _sphinx_02.md\r\n",
      "├── autodoc.md\r\n",
      "├── \u001b[01;34mjb\u001b[0m\r\n",
      "│   ├── \u001b[01;34m _md\u001b[0m\r\n",
      "│   │   └── _quickstart.md\r\n",
      "│   ├── \u001b[01;34m scripts\u001b[0m\r\n",
      "│   ├── config.md\r\n",
      "│   ├── ghp.md\r\n",
      "│   ├── \u001b[01;34mimg\u001b[0m\r\n",
      "│   │   ├── \u001b[01;35mghp_01.png\u001b[0m\r\n",
      "│   │   ├── \u001b[01;35mghp_02.png\u001b[0m\r\n",
      "│   │   ├── \u001b[01;35mghp_site_01.png\u001b[0m\r\n",
      "│   │   ├── \u001b[01;35mgit_action_02.png\u001b[0m\r\n",
      "│   │   ├── \u001b[01;35mjb_01.png\u001b[0m\r\n",
      "│   │   ├── \u001b[01;35mjb_02.png\u001b[0m\r\n",
      "│   │   └── \u001b[01;35mjb_build_01.png\u001b[0m\r\n",
      "│   ├── intro_area.md\r\n",
      "│   ├── overview.md\r\n",
      "│   ├── quick-start.md\r\n",
      "│   ├── quickstart.ipynb\r\n",
      "│   └── toc.md\r\n",
      "├── jupyter-book.md\r\n",
      "├── jupytext_01.ipynb\r\n",
      "├── markdown.md\r\n",
      "├── myst.ipynb\r\n",
      "├── sphinx.md\r\n",
      "├── sphinx_01.ipynb\r\n",
      "└── sphinx_02.ipynb\r\n",
      "\r\n",
      "5 directories, 27 files\r\n"
     ]
    }
   ],
   "source": [
    "!tree -l"
   ]
  },
  {
   "cell_type": "markdown",
   "id": "a9c75301",
   "metadata": {},
   "source": [
    "## bug"
   ]
  },
  {
   "cell_type": "markdown",
   "id": "09ad3fce",
   "metadata": {},
   "source": [
    "### 1. pairing"
   ]
  },
  {
   "cell_type": "markdown",
   "id": "bd0ff7a6",
   "metadata": {},
   "source": [
    "* paring 하는 2가지 방법\n",
    "    1. jupyter notebook에서 pairing\n",
    "        * notebook File > jupytext > Pair notebook with ~ 선택\n",
    "    2. configuration 파일에서 설정\n",
    "        * 위 config 방법으로 설정 시 notebook 에서 Pair 설정할 경우 pair 파일 중복"
   ]
  },
  {
   "cell_type": "code",
   "execution_count": null,
   "id": "99169c89",
   "metadata": {},
   "outputs": [],
   "source": []
  }
 ],
 "metadata": {
  "celltoolbar": "Tags",
  "kernelspec": {
   "display_name": "Python 3 (ipykernel)",
   "language": "python",
   "name": "python3"
  },
  "language_info": {
   "codemirror_mode": {
    "name": "ipython",
    "version": 3
   },
   "file_extension": ".py",
   "mimetype": "text/x-python",
   "name": "python",
   "nbconvert_exporter": "python",
   "pygments_lexer": "ipython3",
   "version": "3.10.6"
  }
 },
 "nbformat": 4,
 "nbformat_minor": 5
}
