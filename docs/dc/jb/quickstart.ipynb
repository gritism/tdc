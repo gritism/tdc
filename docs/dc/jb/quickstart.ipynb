{
 "cells": [
  {
   "cell_type": "markdown",
   "id": "34c6ded3",
   "metadata": {},
   "source": [
    "# quickstart\n",
    "\n",
    "```{note}\n",
    "1. **install**: jupyter-book library 설치\n",
    "2. **create**: jupyter sample book 생성\n",
    "3. **build**: html 파일 생성\n",
    "4. **browse**: 웹 브라우저로 book 확인\n",
    "```"
   ]
  },
  {
   "cell_type": "code",
   "execution_count": 5,
   "id": "4b5afa1b",
   "metadata": {},
   "outputs": [
    {
     "name": "stdout",
     "output_type": "stream",
     "text": [
      "/home/yblee/workspace/tdc\n"
     ]
    }
   ],
   "source": [
    "%cd ../../../"
   ]
  },
  {
   "cell_type": "markdown",
   "id": "d1ca08cd",
   "metadata": {},
   "source": [
    "## 1. install"
   ]
  },
  {
   "cell_type": "code",
   "execution_count": 4,
   "id": "44f51606",
   "metadata": {},
   "outputs": [
    {
     "name": "stdout",
     "output_type": "stream",
     "text": [
      "\u001b[36mName\u001b[0m:                  jupyter-book                                             \r\n",
      "\u001b[36mLatest version\u001b[0m:        0.15.1                                                   \r\n",
      "\u001b[36mLatest stable version\u001b[0m: 0.15.1                                                   \r\n",
      "\u001b[36mInstalled version\u001b[0m:     0.15.1                                                   \r\n",
      "\u001b[36mSummary\u001b[0m:               Build a book with Jupyter Notebooks and Sphinx.          \r\n",
      "\u001b[36mRequires Python:\u001b[0m       >=3.7                                                    \r\n",
      "\u001b[36mAuthor\u001b[0m:                                                                         \r\n",
      "\u001b[36mAuthor email\u001b[0m:          Executable Book Project <executablebooks@gmail.com>      \r\n",
      "\u001b[36mLicense\u001b[0m:                                                                        \r\n",
      "\u001b[36mHomepage\u001b[0m:                                                                       \r\n",
      "\u001b[36mProject URLs\u001b[0m:          Documentation: https://jupyterbook.org                   \r\n",
      "                       Funding: https://executablebooks.org                     \r\n",
      "                       Homepage: https://executablebooks.org/                   \r\n",
      "                       Source: https://github.com/executablebooks/jupyter-book/ \r\n",
      "                       Tracker:                                                 \r\n",
      "                       https://github.com/executablebooks/jupyter-book/issues   \r\n",
      "\u001b[36mPlatform\u001b[0m:                                                                       \r\n",
      "\u001b[36mKeywords\u001b[0m:              reproducible, science, environments, scholarship,        \r\n",
      "                       notebook                                                 \r\n"
     ]
    }
   ],
   "source": [
    "#!pdm add jupyter-book\n",
    "!pdm show jupyter-book"
   ]
  },
  {
   "cell_type": "markdown",
   "id": "1c89aac6",
   "metadata": {},
   "source": [
    "## 2. create"
   ]
  },
  {
   "cell_type": "markdown",
   "id": "eb459784",
   "metadata": {},
   "source": [
    "* `pdm run jb create {폴더명}`\n",
    "* {폴더명} 안에 관련 파일 생성됨(_config.yml, _toc.yml, intro.md 등)\n",
    "  * `_config.yml`: jupyter book 환경 설정 파일\n",
    "  * `_toc.yml`: 메뉴 구성 파일\n",
    "  * `intro.md`: 메인화면 구성 파일"
   ]
  },
  {
   "cell_type": "code",
   "execution_count": 3,
   "id": "0856147a",
   "metadata": {},
   "outputs": [
    {
     "name": "stdout",
     "output_type": "stream",
     "text": [
      "\u001b[01;34m./docs\u001b[0m\r\n",
      "├── \u001b[01;34m_build\u001b[0m\r\n",
      "├── _config.yml\r\n",
      "├── _toc.yml\r\n",
      "├── \u001b[01;34mcn\u001b[0m\r\n",
      "├── \u001b[01;34mdc\u001b[0m\r\n",
      "├── \u001b[01;34mdv\u001b[0m\r\n",
      "├── \u001b[01;34met\u001b[0m\r\n",
      "├── \u001b[01;34mimg\u001b[0m\r\n",
      "├── intro.md\r\n",
      "├── \u001b[01;34mjn\u001b[0m\r\n",
      "├── \u001b[01;34mpy\u001b[0m\r\n",
      "├── references.bib\r\n",
      "├── requirements.txt\r\n",
      "├── \u001b[01;34mrf\u001b[0m\r\n",
      "└── test.py\r\n",
      "\r\n",
      "9 directories, 6 files\r\n"
     ]
    }
   ],
   "source": [
    "!tree ./docs -L 1 -l "
   ]
  },
  {
   "cell_type": "markdown",
   "id": "5fce3356",
   "metadata": {},
   "source": [
    "## 3. build"
   ]
  },
  {
   "cell_type": "markdown",
   "id": "a2408bf8",
   "metadata": {},
   "source": [
    "* _build 폴더 내 html 파일 생성\n",
    "```{tip}\n",
    "* 이전 빌드되었던 내용 삭제(_build 폴더 안 내용)\n",
    "  * {bdg-info}`pdm run jb clean {폴더명}` or {bdg-info}`pdm run jb build **--all** {폴더명}`\n",
    "* clean하지 않을 경우 이전 내용이 캐쉬되어 정상적으로 보여지지 않는 경우 존재\n",
    "```"
   ]
  },
  {
   "cell_type": "code",
   "execution_count": 6,
   "id": "36adf5e9",
   "metadata": {
    "tags": [
     "output_scroll"
    ]
   },
   "outputs": [
    {
     "name": "stdout",
     "output_type": "stream",
     "text": [
      "\u001b[32m\u001b[1mRunning Jupyter-Book v0.15.1\u001b[0m\n",
      "\u001b[34m\u001b[1mSource Folder: \u001b[0m/home/yblee/workspace/tdc/docs\n",
      "\u001b[34m\u001b[1mConfig Path: \u001b[0m/home/yblee/workspace/tdc/docs/_config.yml\n",
      "\u001b[34m\u001b[1mOutput Path: \u001b[0m/home/yblee/workspace/tdc/docs/_build/html\n",
      "[sphinxcontrib-bibtex] Beware that docutils versions 0.18 and 0.19 (you are running 0.18.1) are known to generate invalid html for citations. If this issue affects you, please use docutils<0.18 (or >=0.20 once released) instead. For more details, see https://sourceforge.net/p/docutils/patches/195/\n",
      "\u001b[01mRunning Sphinx v5.0.2\u001b[39;49;00m\n",
      "[etoc] Changing master_doc to 'intro'\n",
      "\u001b[01mloading pickled environment... \u001b[39;49;00mchecking bibtex cache... up to date\n",
      "done\n",
      "\u001b[01mmyst v0.18.1:\u001b[39;49;00m MdParserConfig(commonmark_only=False, gfm_only=False, enable_extensions=['colon_fence', 'dollarmath', 'linkify', 'substitution', 'tasklist'], disable_syntax=[], all_links_external=False, url_schemes=['mailto', 'http', 'https'], ref_domains=None, highlight_code_blocks=True, number_code_blocks=[], title_to_header=False, heading_anchors=None, heading_slug_func=None, footnote_transition=True, words_per_minute=200, sub_delimiters=('{', '}'), linkify_fuzzy_links=True, dmath_allow_labels=True, dmath_allow_space=True, dmath_allow_digits=True, dmath_double_inline=False, update_mathjax=True, mathjax_classes='tex2jax_process|mathjax_process|math|output_area')\n",
      "\u001b[01mmyst-nb v0.17.2:\u001b[39;49;00m NbParserConfig(custom_formats={}, metadata_key='mystnb', cell_metadata_key='mystnb', kernel_rgx_aliases={}, execution_mode='force', execution_cache_path='', execution_excludepatterns=[], execution_timeout=30, execution_in_temp=False, execution_allow_errors=False, execution_raise_on_error=False, execution_show_tb=False, merge_streams=False, render_plugin='default', remove_code_source=False, remove_code_outputs=False, code_prompt_show='Show code cell {type}', code_prompt_hide='Hide code cell {type}', number_source_lines=False, output_stderr='show', render_text_lexer='myst-ansi', render_error_lexer='ipythontb', render_image_options={}, render_figure_options={}, render_markdown_format='commonmark', output_folder='build', append_css=True, metadata_to_fm=False)\n",
      "Using jupyter-cache at: /home/yblee/workspace/tdc/docs/_build/.jupyter_cache\n",
      "\u001b[01mbuilding [mo]: \u001b[39;49;00mtargets for 0 po files that are out of date\n",
      "\u001b[01mbuilding [html]: \u001b[39;49;00mtargets for 36 source files that are out of date\n",
      "\u001b[01mupdating environment: \u001b[39;49;00m[config changed ('author')] 38 added, 5 changed, 4 removed\n",
      "/home/yblee/workspace/tdc/docs/cn/Untitled.ipynb: Executing notebook using local CWD [mystnb]                   \n",
      "/home/yblee/workspace/tdc/docs/cn/Untitled.ipynb: Executed notebook in 1.32 seconds [mystnb]\n",
      "/home/yblee/workspace/tdc/docs/dc/jb/Untitled.ipynb: Executing notebook using local CWD [mystnb]                \n",
      "/home/yblee/workspace/tdc/docs/dc/jb/Untitled.ipynb: Executed notebook in 0.89 seconds [mystnb]\n",
      "/home/yblee/workspace/tdc/docs/dc/jb/quickstart.md: Executing notebook using local CWD [mystnb]                 \n",
      "/home/yblee/workspace/tdc/docs/dc/jupytext_01.ipynb: Executing notebook using local CWD [mystnb]                \n",
      "/home/yblee/workspace/tdc/docs/dc/jupytext_01.ipynb: Executed notebook in 3.81 seconds [mystnb]\n",
      "/home/yblee/workspace/tdc/docs/dv/bokeh_01.ipynb: Executing notebook using local CWD [mystnb]                   \n",
      "/home/yblee/workspace/tdc/docs/dv/bokeh_01.ipynb: Executed notebook in 1.81 seconds [mystnb]\n",
      "/home/yblee/workspace/tdc/docs/dv/seaborn_01.ipynb: Executing notebook using local CWD [mystnb]                 \n",
      "/home/yblee/workspace/tdc/docs/dv/seaborn_01.ipynb: Executed notebook in 2.71 seconds [mystnb]\n",
      "/home/yblee/workspace/tdc/docs/intro.md: Executing notebook using local CWD [mystnb]                            \n",
      "/home/yblee/workspace/tdc/docs/jn/is.ipynb: Executing notebook using local CWD [mystnb]                         \n",
      "/home/yblee/workspace/tdc/docs/jn/is.ipynb: Executed notebook in 1.88 seconds [mystnb]\n",
      "/home/yblee/workspace/tdc/docs/jn/notebooks.ipynb: Executing notebook using local CWD [mystnb]                  \n",
      "/home/yblee/workspace/tdc/docs/jn/notebooks.ipynb: Executed notebook in 2.11 seconds [mystnb]\n",
      "/home/yblee/workspace/tdc/docs/jn/pandas_01.ipynb: Executing notebook using local CWD [mystnb]                  \n",
      "/home/yblee/workspace/tdc/docs/jn/pandas_01.ipynb: Executed notebook in 3.58 seconds [mystnb]\n",
      "/home/yblee/workspace/tdc/docs/jn/pdm_01.ipynb: Executing notebook using local CWD [mystnb]                     \n",
      "/home/yblee/workspace/tdc/docs/jn/pdm_01.ipynb: Executed notebook in 14.49 seconds [mystnb]\n",
      "/home/yblee/workspace/tdc/docs/jn/sample.ipynb: Executing notebook using local CWD [mystnb]                     \n",
      "/home/yblee/workspace/tdc/docs/jn/sample.ipynb: Executed notebook in 5.63 seconds [mystnb]\n",
      "/home/yblee/workspace/tdc/docs/jn/test.ipynb: Executing notebook using local CWD [mystnb]                       \n",
      "/home/yblee/workspace/tdc/docs/jn/test.ipynb: Executed notebook in 3.63 seconds [mystnb]\n",
      "/home/yblee/workspace/tdc/docs/py/docstring.ipynb: Executing notebook using local CWD [mystnb]                  \n",
      "/home/yblee/workspace/tdc/docs/py/docstring.ipynb: Executed notebook in 1.98 seconds [mystnb]\n",
      "/home/yblee/workspace/tdc/docs/py/jt_test.ipynb: Executing notebook using local CWD [mystnb]                    \n",
      "/home/yblee/workspace/tdc/docs/py/jt_test.ipynb: Executed notebook in 1.53 seconds [mystnb]\n",
      "/home/yblee/workspace/tdc/docs/rf/markdown-notebooks.md: Executing notebook using local CWD [mystnb]            \n",
      "/home/yblee/workspace/tdc/docs/rf/markdown-notebooks.md: Executed notebook in 1.02 seconds [mystnb]\n",
      "\u001b[01mreading sources... \u001b[39;49;00m[100%] \u001b[35mrf/ref\u001b[39;49;00m                                                \n",
      "\u001b[91mWARNING: multiple files found for the document \"dc/jb/quickstart\": ['dc/jb/quickstart.ipynb', 'dc/jb/quickstart.md']\n",
      "Use '/home/yblee/workspace/tdc/docs/dc/jb/quickstart.md' for the build.\u001b[39;49;00m\n",
      "\u001b[91m/home/yblee/workspace/tdc/docs/dc/ scripts/jupytext_01.md:17: WARNING: duplicate label file-types:jupytext_01, other instance in /home/yblee/workspace/tdc/docs/dc/jupytext_01.ipynb\u001b[39;49;00m\n",
      "\u001b[91m/home/yblee/workspace/tdc/docs/dc/jb/ghp.md:152: WARNING: Non-consecutive header level increase; H3 to H5 [myst.header]\u001b[39;49;00m\n",
      "\u001b[91m/home/yblee/workspace/tdc/docs/dc/jb/ghp.md:28: WARNING: duplicate label example-table, other instance in /home/yblee/workspace/tdc/docs/dc/markdown.md\u001b[39;49;00m\n",
      "\u001b[91m/home/yblee/workspace/tdc/docs/dc/jb/quickstart.md: WARNING: Executing notebook failed: CellTimeoutError [mystnb.exec]\u001b[39;49;00m\n",
      "\u001b[91m/home/yblee/workspace/tdc/docs/dc/jb/quickstart.md: WARNING: Notebook exception traceback saved in: /home/yblee/workspace/tdc/docs/_build/html/reports/dc/jb/quickstart.err.log [mystnb.exec]\u001b[39;49;00m\n",
      "\u001b[91m/home/yblee/workspace/tdc/docs/dc/jupytext_01.ipynb:: WARNING: toctree contains reference to nonexisting document 'blank' [etoc.ref]\u001b[39;49;00m\n",
      "\u001b[91m/home/yblee/workspace/tdc/docs/dc/jupytext_01.ipynb:10004: WARNING: duplicate label file-types:jupytext_01, other instance in /home/yblee/workspace/tdc/docs/dc/ scripts/jupytext_01.md\u001b[39;49;00m\n",
      "\u001b[91m/home/yblee/workspace/tdc/docs/dc/markdown.md:32: WARNING: Disallowed nested header found, converting to rubric [myst.nested_header]\u001b[39;49;00m\n",
      "\u001b[31m/home/yblee/workspace/tdc/docs/dc/markdown.md:477: ERROR: Unknown directive type \"mermaid\".\u001b[39;49;00m\n",
      "\u001b[91m/home/yblee/workspace/tdc/docs/dc/markdown.md:: WARNING: image file not readable: tdc_logo_3.png\u001b[39;49;00m\n",
      "\u001b[91m/home/yblee/workspace/tdc/docs/dv/bokeh_01.ipynb:20002: WARNING: skipping unknown output mime type: application/vnd.bokehjs_load.v0+json [mystnb.unknown_mime_type]\u001b[39;49;00m\n",
      "\u001b[91m/home/yblee/workspace/tdc/docs/dv/bokeh_01.ipynb:30002: WARNING: skipping unknown output mime type: application/vnd.bokehjs_exec.v0+json [mystnb.unknown_mime_type]\u001b[39;49;00m\n",
      "\u001b[91m/home/yblee/workspace/tdc/docs/intro.md: WARNING: Executing notebook failed: CellExecutionError [mystnb.exec]\u001b[39;49;00m\n",
      "\u001b[91m/home/yblee/workspace/tdc/docs/intro.md: WARNING: Notebook exception traceback saved in: /home/yblee/workspace/tdc/docs/_build/html/reports/intro.err.log [mystnb.exec]\u001b[39;49;00m\n",
      "\u001b[91m/home/yblee/workspace/tdc/docs/jn/pandas_01.ipynb:290002: WARNING: skipping unknown output mime type: application/vnd.bokehjs_load.v0+json [mystnb.unknown_mime_type]\u001b[39;49;00m\n",
      "\u001b[91m/home/yblee/workspace/tdc/docs/jn/pandas_01.ipynb:340002: WARNING: skipping unknown output mime type: application/vnd.bokehjs_exec.v0+json [mystnb.unknown_mime_type]\u001b[39;49;00m\n"
     ]
    },
    {
     "name": "stdout",
     "output_type": "stream",
     "text": [
      "\u001b[01mlooking for now-outdated files... \u001b[39;49;00mnone found\n",
      "\u001b[01mpickling environment... \u001b[39;49;00mdone\n",
      "\u001b[01mchecking consistency... \u001b[39;49;00m\u001b[91m/home/yblee/workspace/tdc/docs/cn/ scripts/Untitled.md: WARNING: document isn't included in any toctree\u001b[39;49;00m\n",
      "\u001b[91m/home/yblee/workspace/tdc/docs/cn/Untitled.ipynb: WARNING: document isn't included in any toctree\u001b[39;49;00m\n",
      "\u001b[91m/home/yblee/workspace/tdc/docs/dc/ scripts/jupytext_01.md: WARNING: document isn't included in any toctree\u001b[39;49;00m\n",
      "\u001b[91m/home/yblee/workspace/tdc/docs/dc/jb/Untitled.ipynb: WARNING: document isn't included in any toctree\u001b[39;49;00m\n",
      "\u001b[91m/home/yblee/workspace/tdc/docs/dc/jb/overview.md: WARNING: document isn't included in any toctree\u001b[39;49;00m\n",
      "\u001b[91m/home/yblee/workspace/tdc/docs/dc/jb/quick-start.md: WARNING: document isn't included in any toctree\u001b[39;49;00m\n",
      "\u001b[91m/home/yblee/workspace/tdc/docs/dc/jupytext.md: WARNING: document isn't included in any toctree\u001b[39;49;00m\n",
      "\u001b[91m/home/yblee/workspace/tdc/docs/jn/notebook_01.md: WARNING: document isn't included in any toctree\u001b[39;49;00m\n",
      "\u001b[91m/home/yblee/workspace/tdc/docs/py/jt_test.ipynb: WARNING: document isn't included in any toctree\u001b[39;49;00m\n",
      "\u001b[91m/home/yblee/workspace/tdc/docs/rf/markdown.md: WARNING: document isn't included in any toctree\u001b[39;49;00m\n",
      "\u001b[91m/home/yblee/workspace/tdc/docs/rf/markdown-notebooks.md: WARNING: document isn't included in any toctree\u001b[39;49;00m\n",
      "done\n",
      "\u001b[01mpreparing documents... \u001b[39;49;00mdone\n",
      "\u001b[01mwriting output... \u001b[39;49;00m[100%] \u001b[32mrf/ref\u001b[39;49;00m                                                 \n",
      "\u001b[91m/home/yblee/workspace/tdc/docs/dc/ scripts/jupytext_01.md:33: WARNING: Could not lex literal_block as \"python\". Highlighting skipped.\u001b[39;49;00m\n",
      "\u001b[91m/home/yblee/workspace/tdc/docs/dc/ scripts/jupytext_01.md:78: WARNING: Could not lex literal_block as \"python\". Highlighting skipped.\u001b[39;49;00m\n",
      "\u001b[91m/home/yblee/workspace/tdc/docs/jn/sample.ipynb:10009: WARNING: 'myst' reference target not found: ./myst-notebooks.md\u001b[39;49;00m\n",
      "\u001b[91m/home/yblee/workspace/tdc/docs/jn/sample.ipynb:10014: WARNING: 'myst' reference target not found: ../ref/markdown.md\u001b[39;49;00m\n",
      "\u001b[91m/home/yblee/workspace/tdc/docs/jn/sample.ipynb:210004: WARNING: 'myst' reference target not found: content:code-outputs\u001b[39;49;00m\n",
      "\u001b[91m/home/yblee/workspace/tdc/docs/jn/sample.ipynb:60003: WARNING: undefined label: layout/sidebar\u001b[39;49;00m\n",
      "\u001b[91m/home/yblee/workspace/tdc/docs/jn/sample.ipynb:130002: WARNING: undefined label: hiding/remove-content\u001b[39;49;00m\n",
      "\u001b[01mgenerating indices... \u001b[39;49;00mgenindex done\n",
      "\u001b[01mwriting additional pages... \u001b[39;49;00msearch done\n",
      "\u001b[01mcopying images... \u001b[39;49;00m[100%] \u001b[33m_build/jupyter_execute/6ff86a1e3ba5bef08408fd7c060c2e6fb766ead87025f44f885d0649d052528c.png\u001b[39;49;00m\n",
      "\u001b[01mcopying downloadable files... \u001b[39;49;00m[100%] \u001b[33mjn/notebooks.ipynb\u001b[39;49;00m                         \n",
      "\u001b[01mcopying static files... \u001b[39;49;00mdone\n",
      "\u001b[01mcopying extra files... \u001b[39;49;00mdone\n",
      "\u001b[01mdumping search index in English (code: en)... \u001b[39;49;00mdone\n",
      "\u001b[01mdumping object inventory... \u001b[39;49;00mdone\n",
      "\u001b[01mbuild succeeded, 35 warnings.\u001b[39;49;00m\n",
      "\n",
      "The HTML pages are in docs/_build/html.\n",
      "\n",
      "\u001b[92m===============================================================================\u001b[0m\n",
      "\n",
      "Finished generating HTML for book.\n",
      "Your book's HTML pages are here:\n",
      "    docs/_build/html/\n",
      "You can look at your book by opening this file in a browser:\n",
      "    docs/_build/html/index.html\n",
      "Or paste this line directly into your browser bar:\n",
      "    file:///home/yblee/workspace/tdc/docs/_build/html/index.html            \n",
      "\n",
      "\u001b[92m===============================================================================\u001b[0m\n",
      "\n"
     ]
    }
   ],
   "source": [
    "!pdm run jb build docs/"
   ]
  },
  {
   "cell_type": "markdown",
   "id": "823db770",
   "metadata": {},
   "source": [
    "<참고: build option>"
   ]
  },
  {
   "cell_type": "code",
   "execution_count": 4,
   "id": "96eed7cc",
   "metadata": {},
   "outputs": [
    {
     "name": "stdout",
     "output_type": "stream",
     "text": [
      "Usage: jb build [OPTIONS] PATH_SOURCE\r\n",
      "\r\n",
      "  Convert your book's or page's content to HTML or a PDF.\r\n",
      "\r\n",
      "Options:\r\n",
      "  --path-output TEXT              Path to the output artifacts\r\n",
      "  --config TEXT                   Path to the YAML configuration file\r\n",
      "                                  (default: PATH_SOURCE/_config.yml)\r\n",
      "  --toc TEXT                      Path to the Table of Contents YAML file\r\n",
      "                                  (default: PATH_SOURCE/_toc.yml)\r\n",
      "  -W, --warningiserror            Error on warnings.\r\n",
      "  -n, --nitpick                   Run in nit-picky mode, to generates warnings\r\n",
      "                                  for all missing references.\r\n",
      "  --keep-going                    With -W, do not stop the build on the first\r\n",
      "                                  warning, instead error on build completion\r\n",
      "  --all                           Re-build all pages. The default is to only\r\n",
      "                                  re-build pages that are new/changed since\r\n",
      "                                  the last run.\r\n",
      "  --builder [html|dirhtml|singlehtml|pdfhtml|latex|pdflatex|linkcheck|custom]\r\n",
      "                                  Which builder to use.\r\n",
      "  --custom-builder TEXT           Specify alternative builder provided by\r\n",
      "                                  Sphinx, including text and epub. This can\r\n",
      "                                  only be used with --builder=custom. Valid\r\n",
      "                                  options listed at https://www.sphinx-\r\n",
      "                                  doc.org/en/master/man/sphinx-build.html\r\n",
      "  -v, --verbose                   increase verbosity (can be repeated)\r\n",
      "  -q, --quiet                     -q means no sphinx status, -qq also turns\r\n",
      "                                  off warnings\r\n",
      "  --individualpages               [pdflatex] Enable build of PDF files for\r\n",
      "                                  each individual page\r\n",
      "  -h, --help                      Show this message and exit.\r\n"
     ]
    }
   ],
   "source": [
    "!pdm run jb build --help"
   ]
  },
  {
   "cell_type": "markdown",
   "id": "1de5b704",
   "metadata": {},
   "source": [
    "## 4. browse"
   ]
  },
  {
   "cell_type": "markdown",
   "id": "26b6ccf1",
   "metadata": {},
   "source": [
    "- '_build/html/index.html'을 브라우저로 열면 아래 화면 실행\n",
    "```{figure} ./img/jb_02.png\n",
    "  :width: 80%\n",
    "```\n",
    "- 아래는 github pages로 호스팅"
   ]
  },
  {
   "cell_type": "code",
   "execution_count": 2,
   "id": "903e942f",
   "metadata": {},
   "outputs": [],
   "source": [
    "from IPython.display import IFrame"
   ]
  },
  {
   "cell_type": "code",
   "execution_count": 4,
   "id": "1651e6ac",
   "metadata": {},
   "outputs": [
    {
     "data": {
      "text/html": [
       "\n",
       "        <iframe\n",
       "            width=\"1000\"\n",
       "            height=\"600\"\n",
       "            src=\"https://gritism.github.io/tdc\"\n",
       "            frameborder=\"0\"\n",
       "            allowfullscreen\n",
       "            \n",
       "        ></iframe>\n",
       "        "
      ],
      "text/plain": [
       "<IPython.lib.display.IFrame at 0x7f67f8528ca0>"
      ]
     },
     "execution_count": 4,
     "metadata": {},
     "output_type": "execute_result"
    }
   ],
   "source": [
    "IFrame(src='https://gritism.github.io/tdc', width=1000, height=600)"
   ]
  },
  {
   "cell_type": "code",
   "execution_count": null,
   "id": "d86e8acc",
   "metadata": {},
   "outputs": [],
   "source": []
  }
 ],
 "metadata": {
  "celltoolbar": "Tags",
  "jupytext": {
   "formats": "ipynb,md:myst"
  },
  "kernelspec": {
   "display_name": "Python 3 (ipykernel)",
   "language": "python",
   "name": "python3"
  },
  "language_info": {
   "codemirror_mode": {
    "name": "ipython",
    "version": 3
   },
   "file_extension": ".py",
   "mimetype": "text/x-python",
   "name": "python",
   "nbconvert_exporter": "python",
   "pygments_lexer": "ipython3",
   "version": "3.10.6"
  }
 },
 "nbformat": 4,
 "nbformat_minor": 5
}
