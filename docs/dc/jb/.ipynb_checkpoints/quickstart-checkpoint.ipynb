{
 "cells": [
  {
   "cell_type": "markdown",
   "id": "34c6ded3",
   "metadata": {},
   "source": [
    "# 1. quickstart\n",
    "\n",
    "```{note}\n",
    "1. **install**: jupyter-book library 설치\n",
    "2. **create**: jupyter sample book 생성\n",
    "3. **build**: html 파일 생성\n",
    "4. **browse**: 웹 브라우저로 book 확인\n",
    "```\n"
   ]
  },
  {
   "cell_type": "code",
   "execution_count": 6,
   "id": "7067397b",
   "metadata": {},
   "outputs": [
    {
     "data": {
      "text/plain": [
       "'/home/yblee/workspace/book_demo'"
      ]
     },
     "execution_count": 6,
     "metadata": {},
     "output_type": "execute_result"
    }
   ],
   "source": [
    "import os\n",
    "\n",
    "home_dir = os.environ['HOME']\n",
    "work_dir = home_dir + \"/workspace/book_demo\"\n",
    "work_dir"
   ]
  },
  {
   "cell_type": "markdown",
   "id": "d1ca08cd",
   "metadata": {},
   "source": [
    "## 1. install"
   ]
  },
  {
   "cell_type": "code",
   "execution_count": 20,
   "id": "44f51606",
   "metadata": {
    "tags": [
     "hide-output"
    ]
   },
   "outputs": [
    {
     "name": "stdout",
     "output_type": "stream",
     "text": [
      "Adding packages to \u001b[36mdefault\u001b[0m dependencies: \u001b[1;32mjupyter-book\u001b[0m\n",
      "\u001b[2K\u001b[36m⠏\u001b[0m Fetching hashes for resolved packages...\u001b[33m2.4.1\u001b[0m0m.6\u001b[0m5.2\u001b[0m\n",
      "\u001b[1A\u001b[2K🔒 Lock successful\n",
      "Changes are written to \u001b[32mpyproject.toml\u001b[0m.\n",
      "\u001b[2K\u001b[36m⠙\u001b[0m Fetching hashes for resolved packages...\n",
      "\u001b[1A\u001b[2KAll packages are synced to date, nothing to do.\n",
      "\u001b[2K5l\n",
      "🎉 All complete!\n",
      "\u001b[2K\n",
      "\u001b[?25h"
     ]
    }
   ],
   "source": [
    "#!pdm add jupyter-book\n",
    "!pdm show jupyter-book"
   ]
  },
  {
   "cell_type": "markdown",
   "id": "1c89aac6",
   "metadata": {},
   "source": [
    "## 2. create"
   ]
  },
  {
   "cell_type": "markdown",
   "id": "eb459784",
   "metadata": {},
   "source": [
    "* `pdm run jb create {폴더명}`\n",
    "* {폴더명} 안에 관련 파일 생성됨(_config.yml, _toc.yml, intro.md 등)\n",
    "  * `_config.yml`: jupyter book 환경 설정 파일\n",
    "  * `_toc.yml`: 메뉴 구성 파일\n",
    "  * `intro.md`: 메인화면 구성 파일"
   ]
  },
  {
   "cell_type": "code",
   "execution_count": 23,
   "id": "0856147a",
   "metadata": {},
   "outputs": [
    {
     "name": "stdout",
     "output_type": "stream",
     "text": [
      "\u001b[01;34m./docs\u001b[0m\r\n",
      "├── _config.yml\r\n",
      "├── _toc.yml\r\n",
      "├── intro.md\r\n",
      "├── \u001b[01;35mlogo.png\u001b[0m\r\n",
      "├── markdown-notebooks.md\r\n",
      "├── markdown.md\r\n",
      "├── notebooks.ipynb\r\n",
      "├── references.bib\r\n",
      "└── requirements.txt\r\n",
      "\r\n",
      "0 directories, 9 files\r\n"
     ]
    }
   ],
   "source": [
    "!tree ./docs -L 1 -l "
   ]
  },
  {
   "cell_type": "markdown",
   "id": "5fce3356",
   "metadata": {},
   "source": [
    "## 3. build"
   ]
  },
  {
   "cell_type": "markdown",
   "id": "a2408bf8",
   "metadata": {},
   "source": [
    "* _build 폴더 내 html 파일 생성\n",
    "```{tip}\n",
    "* 이전 빌드되었던 내용 삭제(_build 폴더 안 내용)\n",
    "  * {bdg-info}`pdm run jb clean {폴더명}` or {bdg-info}`pdm run jb build **--all** {폴더명}`\n",
    "* clean하지 않을 경우 이전 내용이 캐쉬되어 정상적으로 보여지지 않는 경우 존재\n",
    "```"
   ]
  },
  {
   "cell_type": "code",
   "execution_count": 24,
   "id": "36adf5e9",
   "metadata": {
    "tags": [
     "output_scroll"
    ]
   },
   "outputs": [
    {
     "name": "stdout",
     "output_type": "stream",
     "text": [
      "\u001b[32m\u001b[1mRunning Jupyter-Book v0.15.1\u001b[0m\n",
      "\u001b[34m\u001b[1mSource Folder: \u001b[0m/home/yblee/workspace/book_demo/docs\n",
      "\u001b[34m\u001b[1mConfig Path: \u001b[0m/home/yblee/workspace/book_demo/docs/_config.yml\n",
      "\u001b[34m\u001b[1mOutput Path: \u001b[0m/home/yblee/workspace/book_demo/docs/_build/html\n",
      "[sphinxcontrib-bibtex] Beware that docutils versions 0.18 and 0.19 (you are running 0.18.1) are known to generate invalid html for citations. If this issue affects you, please use docutils<0.18 (or >=0.20 once released) instead. For more details, see https://sourceforge.net/p/docutils/patches/195/\n",
      "\u001b[01mRunning Sphinx v5.0.2\u001b[39;49;00m\n",
      "\u001b[01mmaking output directory... \u001b[39;49;00mdone\n",
      "[etoc] Changing master_doc to 'intro'\n",
      "checking bibtex cache... out of date\n",
      "parsing bibtex file /home/yblee/workspace/book_demo/docs/references.bib... parsed 5 entries\n",
      "\u001b[01mmyst v0.18.1:\u001b[39;49;00m MdParserConfig(commonmark_only=False, gfm_only=False, enable_extensions=['colon_fence', 'dollarmath', 'linkify', 'substitution', 'tasklist'], disable_syntax=[], all_links_external=False, url_schemes=['mailto', 'http', 'https'], ref_domains=None, highlight_code_blocks=True, number_code_blocks=[], title_to_header=False, heading_anchors=None, heading_slug_func=None, footnote_transition=True, words_per_minute=200, sub_delimiters=('{', '}'), linkify_fuzzy_links=True, dmath_allow_labels=True, dmath_allow_space=True, dmath_allow_digits=True, dmath_double_inline=False, update_mathjax=True, mathjax_classes='tex2jax_process|mathjax_process|math|output_area')\n",
      "\u001b[01mmyst-nb v0.17.2:\u001b[39;49;00m NbParserConfig(custom_formats={}, metadata_key='mystnb', cell_metadata_key='mystnb', kernel_rgx_aliases={}, execution_mode='force', execution_cache_path='', execution_excludepatterns=[], execution_timeout=30, execution_in_temp=False, execution_allow_errors=False, execution_raise_on_error=False, execution_show_tb=False, merge_streams=False, render_plugin='default', remove_code_source=False, remove_code_outputs=False, code_prompt_show='Show code cell {type}', code_prompt_hide='Hide code cell {type}', number_source_lines=False, output_stderr='show', render_text_lexer='myst-ansi', render_error_lexer='ipythontb', render_image_options={}, render_figure_options={}, render_markdown_format='commonmark', output_folder='build', append_css=True, metadata_to_fm=False)\n",
      "Using jupyter-cache at: /home/yblee/workspace/book_demo/docs/_build/.jupyter_cache\n",
      "\u001b[01mbuilding [mo]: \u001b[39;49;00mtargets for 0 po files that are out of date\n",
      "\u001b[01mbuilding [html]: \u001b[39;49;00mtargets for 4 source files that are out of date\n",
      "\u001b[01mupdating environment: \u001b[39;49;00m[new config] 4 added, 0 changed, 0 removed\n",
      "/home/yblee/workspace/book_demo/docs/markdown-notebooks.md: Executing notebook using local CWD [mystnb]         \n",
      "/home/yblee/workspace/book_demo/docs/markdown-notebooks.md: Executed notebook in 1.07 seconds [mystnb]\n",
      "/home/yblee/workspace/book_demo/docs/notebooks.ipynb: Executing notebook using local CWD [mystnb]               \n",
      "\n",
      "\u001b[91m/home/yblee/workspace/book_demo/docs/notebooks.ipynb: WARNING: Executing notebook failed: CellExecutionError [mystnb.exec]\u001b[39;49;00m\n",
      "\u001b[91m/home/yblee/workspace/book_demo/docs/notebooks.ipynb: WARNING: Notebook exception traceback saved in: /home/yblee/workspace/book_demo/docs/_build/html/reports/notebooks.err.log [mystnb.exec]\u001b[39;49;00m\n",
      "\u001b[01mlooking for now-outdated files... \u001b[39;49;00mnone found\n",
      "\u001b[01mpickling environment... \u001b[39;49;00mdone\n",
      "\u001b[01mchecking consistency... \u001b[39;49;00mdone\n",
      "\u001b[01mpreparing documents... \u001b[39;49;00mdone\n",
      "\u001b[01mwriting output... \u001b[39;49;00m[100%] \u001b[32mnotebooks\u001b[39;49;00m                                              \n",
      "\u001b[01mgenerating indices... \u001b[39;49;00mgenindex done\n",
      "\u001b[01mwriting additional pages... \u001b[39;49;00msearch done\n",
      "\u001b[01mcopying static files... \u001b[39;49;00mdone\n",
      "\u001b[01mcopying extra files... \u001b[39;49;00mdone\n",
      "\u001b[01mdumping search index in English (code: en)... \u001b[39;49;00mdone\n",
      "\u001b[01mdumping object inventory... \u001b[39;49;00mdone\n",
      "[etoc] missing index.html written as redirect to 'intro.html'\n",
      "\u001b[01mbuild succeeded, 2 warnings.\u001b[39;49;00m\n",
      "\n",
      "The HTML pages are in docs/_build/html.\n",
      "\n",
      "\u001b[92m===============================================================================\u001b[0m\n",
      "\n",
      "Finished generating HTML for book.\n",
      "Your book's HTML pages are here:\n",
      "    docs/_build/html/\n",
      "You can look at your book by opening this file in a browser:\n",
      "    docs/_build/html/index.html\n",
      "Or paste this line directly into your browser bar:\n",
      "    file:///home/yblee/workspace/book_demo/docs/_build/html/index.html            \n",
      "\n",
      "\u001b[92m===============================================================================\u001b[0m\n",
      "\n"
     ]
    }
   ],
   "source": [
    "!pdm run jb build docs/"
   ]
  },
  {
   "cell_type": "markdown",
   "id": "823db770",
   "metadata": {},
   "source": [
    "<참고: build option>"
   ]
  },
  {
   "cell_type": "code",
   "execution_count": 25,
   "id": "96eed7cc",
   "metadata": {},
   "outputs": [
    {
     "name": "stdout",
     "output_type": "stream",
     "text": [
      "Usage: jb build [OPTIONS] PATH_SOURCE\r\n",
      "\r\n",
      "  Convert your book's or page's content to HTML or a PDF.\r\n",
      "\r\n",
      "Options:\r\n",
      "  --path-output TEXT              Path to the output artifacts\r\n",
      "  --config TEXT                   Path to the YAML configuration file\r\n",
      "                                  (default: PATH_SOURCE/_config.yml)\r\n",
      "  --toc TEXT                      Path to the Table of Contents YAML file\r\n",
      "                                  (default: PATH_SOURCE/_toc.yml)\r\n",
      "  -W, --warningiserror            Error on warnings.\r\n",
      "  -n, --nitpick                   Run in nit-picky mode, to generates warnings\r\n",
      "                                  for all missing references.\r\n",
      "  --keep-going                    With -W, do not stop the build on the first\r\n",
      "                                  warning, instead error on build completion\r\n",
      "  --all                           Re-build all pages. The default is to only\r\n",
      "                                  re-build pages that are new/changed since\r\n",
      "                                  the last run.\r\n",
      "  --builder [html|dirhtml|singlehtml|pdfhtml|latex|pdflatex|linkcheck|custom]\r\n",
      "                                  Which builder to use.\r\n",
      "  --custom-builder TEXT           Specify alternative builder provided by\r\n",
      "                                  Sphinx, including text and epub. This can\r\n",
      "                                  only be used with --builder=custom. Valid\r\n",
      "                                  options listed at https://www.sphinx-\r\n",
      "                                  doc.org/en/master/man/sphinx-build.html\r\n",
      "  -v, --verbose                   increase verbosity (can be repeated)\r\n",
      "  -q, --quiet                     -q means no sphinx status, -qq also turns\r\n",
      "                                  off warnings\r\n",
      "  --individualpages               [pdflatex] Enable build of PDF files for\r\n",
      "                                  each individual page\r\n",
      "  -h, --help                      Show this message and exit.\r\n"
     ]
    }
   ],
   "source": [
    "!pdm run jb build --help"
   ]
  },
  {
   "cell_type": "markdown",
   "id": "1de5b704",
   "metadata": {},
   "source": [
    "## 4. browse"
   ]
  },
  {
   "cell_type": "markdown",
   "id": "93d43f5b",
   "metadata": {},
   "source": [
    "- '_build/html/index.html'을 브라우저로 열면 아래 화면 실행\n",
    "```{figure} ./img/jb_02.png\n",
    "  :width: 80%\n",
    "```\n",
    "- 아래는 github pages로 호스팅"
   ]
  },
  {
   "cell_type": "code",
   "execution_count": 38,
   "id": "1651e6ac",
   "metadata": {},
   "outputs": [
    {
     "data": {
      "text/html": [
       "<meta http-equiv=\"Refresh\" content=\"0; url=intro.html\" />\n"
      ],
      "text/plain": [
       "<IPython.core.display.HTML object>"
      ]
     },
     "metadata": {},
     "output_type": "display_data"
    }
   ],
   "source": [
    "from IPython.display import IFrame"
   ]
  },
  {
   "cell_type": "code",
   "execution_count": null,
   "id": "89923d58",
   "metadata": {},
   "outputs": [],
   "source": [
    "IFrame(src='https://gritism.github.io/tdc', width=1000, height=600)"
   ]
  },
  {
   "cell_type": "code",
   "execution_count": null,
   "id": "53f7ec7f",
   "metadata": {},
   "outputs": [],
   "source": []
  }
 ],
 "metadata": {
  "celltoolbar": "Tags",
  "kernelspec": {
   "display_name": "Python 3 (ipykernel)",
   "language": "python",
   "name": "python3"
  },
  "language_info": {
   "codemirror_mode": {
    "name": "ipython",
    "version": 3
   },
   "file_extension": ".py",
   "mimetype": "text/x-python",
   "name": "python",
   "nbconvert_exporter": "python",
   "pygments_lexer": "ipython3",
   "version": "3.10.6"
  }
 },
 "nbformat": 4,
 "nbformat_minor": 5
}
