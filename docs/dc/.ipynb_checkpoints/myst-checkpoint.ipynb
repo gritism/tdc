{
 "cells": [
  {
   "cell_type": "markdown",
   "id": "d61c8982",
   "metadata": {},
   "source": [
    "# myst"
   ]
  },
  {
   "cell_type": "markdown",
   "id": "7a7e070c",
   "metadata": {},
   "source": [
    "* MyST is an extension of [**CommonMark Markdown**](https://commonmark.org/)\n",
    "* MyST can integrate with **Docutils and Sphinx.**"
   ]
  },
  {
   "cell_type": "markdown",
   "id": "e3e16f59",
   "metadata": {},
   "source": [
    "```{list-table} sphinx extension\n",
    "* - extension\n",
    "  - description\n",
    "* - sphinx-design\n",
    "  - beautiful, responsive web components to your documentation\n",
    "* - sphinx-copybutton\n",
    "  - a copy button to your code blocks\n",
    "* - sphinx-rediraffe\n",
    "  - redirects to your documentation\n",
    "* - sphinx-opengraph\n",
    "  - OpenGraph metadata to your documentation\n",
    "* - sphinx-pyscript\n",
    "  - execute python code in your documentation\n",
    "* - sphinx-tippy\n",
    "  - tooltips to your documentation\n",
    "* - sphinx-autodoc2\n",
    "  - generate documentation from docstrings\n",
    "* - sphinx-togglebutton\n",
    "  - collapsible content to your documentation\n",
    "* - sphinx-mermaid\n",
    "  - generate Mermaid diagrams\n",
    "```"
   ]
  },
  {
   "cell_type": "markdown",
   "id": "53855589",
   "metadata": {},
   "source": [
    "## 1. install"
   ]
  },
  {
   "cell_type": "code",
   "execution_count": 4,
   "id": "389a569e",
   "metadata": {},
   "outputs": [
    {
     "name": "stdout",
     "output_type": "stream",
     "text": [
      "/home/yblee/tdc\n"
     ]
    }
   ],
   "source": [
    "%cd ../../"
   ]
  },
  {
   "cell_type": "code",
   "execution_count": 10,
   "id": "bc5050fd",
   "metadata": {
    "tags": [
     "output_scroll"
    ]
   },
   "outputs": [
    {
     "name": "stdout",
     "output_type": "stream",
     "text": [
      "Adding packages to \u001b[36mdefault\u001b[0m dependencies: \u001b[1;32mmyst-parser\u001b[0m\n",
      "\u001b[2K\u001b[36m⠧\u001b[0m Fetching hashes for resolved packages...m1.2.3\u001b[0m2.0\u001b[0mm\u001b[0mm0mm.1.5\u001b[0m\n",
      "\u001b[1A\u001b[2K🔒 Lock successful\n",
      "Changes are written to \u001b[32mpyproject.toml\u001b[0m.\n",
      "\u001b[2K\u001b[36m⠹\u001b[0m Fetching hashes for resolved packages...\n",
      "\u001b[1A\u001b[2KAll packages are synced to date, nothing to do.\n",
      "\u001b[2KInstalling the project as an editable package...\n",
      "\u001b[2K  \u001b[32m✔\u001b[0m Update \u001b[1;32mjb\u001b[0m \u001b[33m0.1.0+editable\u001b[0m -> \u001b[33m0.1.0\u001b[0m successful\n",
      "\u001b[2K36m⠼\u001b[0m Updating \u001b[1;32mjb\u001b[0m \u001b[33m0.1.0+editable\u001b[0m -> \u001b[33m0.1.0\u001b[0m...\n",
      "🎉 All complete!\n",
      "\u001b[2K36m⠼\u001b[0m Updating \u001b[1;32mjb\u001b[0m \u001b[33m0.1.0+editable\u001b[0m -> \u001b[33m0.1.0\u001b[0m...\n",
      "\u001b[?25h\n",
      "\u001b[34mPDM \u001b[0m\u001b[1;36m2.7\u001b[0m\u001b[36m.\u001b[0m\u001b[1;36m2\u001b[0m\u001b[34m is installed, while \u001b[0m\u001b[1;36m2.7\u001b[0m\u001b[36m.\u001b[0m\u001b[1;36m4\u001b[0m\u001b[34m is available.\u001b[0m\n",
      "\u001b[34mPlease run \u001b[0m\u001b[1;32m`pdm self update`\u001b[0m\u001b[34m to upgrade.\u001b[0m\n",
      "\u001b[34mRun \u001b[0m\u001b[1;32m`pdm config check_update false`\u001b[0m\u001b[34m to disable the check.\u001b[0m\n"
     ]
    }
   ],
   "source": [
    "!pdm add myst-parser"
   ]
  },
  {
   "cell_type": "code",
   "execution_count": 11,
   "id": "60d4ac7d",
   "metadata": {},
   "outputs": [
    {
     "name": "stdout",
     "output_type": "stream",
     "text": [
      "\u001b[36mName\u001b[0m:                  myst-parser                                              \r\n",
      "\u001b[36mLatest version\u001b[0m:        2.0.0                                                    \r\n",
      "\u001b[36mLatest stable version\u001b[0m: 2.0.0                                                    \r\n",
      "\u001b[36mInstalled version\u001b[0m:     0.18.1                                                   \r\n",
      "\u001b[36mSummary\u001b[0m:               An extended [CommonMark](https://spec.commonmark.org/)   \r\n",
      "                       compliant parser,                                        \r\n",
      "\u001b[36mRequires Python:\u001b[0m       >=3.8                                                    \r\n",
      "\u001b[36mAuthor\u001b[0m:                                                                         \r\n",
      "\u001b[36mAuthor email\u001b[0m:          Chris Sewell <chrisj_sewell@hotmail.com>                 \r\n",
      "\u001b[36mLicense\u001b[0m:                                                                        \r\n",
      "\u001b[36mHomepage\u001b[0m:                                                                       \r\n",
      "\u001b[36mProject URLs\u001b[0m:          Documentation: https://myst-parser.readthedocs.io        \r\n",
      "                       Homepage: https://github.com/executablebooks/MyST-Parser \r\n",
      "\u001b[36mPlatform\u001b[0m:                                                                       \r\n",
      "\u001b[36mKeywords\u001b[0m:              markdown, lexer, parser, development, docutils, sphinx   \r\n",
      "\r\n",
      "\u001b[34mPDM \u001b[0m\u001b[1;36m2.7\u001b[0m\u001b[36m.\u001b[0m\u001b[1;36m2\u001b[0m\u001b[34m is installed, while \u001b[0m\u001b[1;36m2.7\u001b[0m\u001b[36m.\u001b[0m\u001b[1;36m4\u001b[0m\u001b[34m is available.\u001b[0m\r\n",
      "\u001b[34mPlease run \u001b[0m\u001b[1;32m`pdm self update`\u001b[0m\u001b[34m to upgrade.\u001b[0m\r\n",
      "\u001b[34mRun \u001b[0m\u001b[1;32m`pdm config check_update false`\u001b[0m\u001b[34m to disable the check.\u001b[0m\r\n"
     ]
    }
   ],
   "source": [
    "!pdm show myst-parser"
   ]
  },
  {
   "cell_type": "markdown",
   "id": "b36cdd0a",
   "metadata": {},
   "source": [
    "## 2. markdown syntax"
   ]
  },
  {
   "cell_type": "markdown",
   "id": "43edcde6",
   "metadata": {},
   "source": [
    "### 2.1 example"
   ]
  },
  {
   "cell_type": "markdown",
   "id": "9038ce5a",
   "metadata": {},
   "source": [
    "**markdown example**\n",
    "```\n",
    "    ### header 3\n",
    "    * unordered list\n",
    "        * unordered list\n",
    "    ```{admonition} This is custom title\n",
    "    :class: dropdown\n",
    "    this is a message\n",
    "    ```\n",
    "    badge {bdg-primary}`badge`\n",
    "```"
   ]
  },
  {
   "cell_type": "markdown",
   "id": "eb90ad82",
   "metadata": {},
   "source": [
    "**result**\n",
    "\n",
    "> ### header 3\n",
    "> * unordered list\n",
    ">    * unordered list\n",
    "> ```{admonition} This is custom title\n",
    "> :class: dropdown\n",
    "> this is a message\n",
    "> ```\n",
    "> badge {bdg-primary}`badge`\n"
   ]
  },
  {
   "cell_type": "markdown",
   "id": "5352eb98",
   "metadata": {},
   "source": [
    "### 2.2 guide\n",
    "\n",
    "* [주요 가이드](./markdown.md)"
   ]
  },
  {
   "cell_type": "markdown",
   "id": "c8aa3c2b",
   "metadata": {},
   "source": [
    "## 3. use MyST in sphinx"
   ]
  },
  {
   "cell_type": "markdown",
   "id": "273b8c1e",
   "metadata": {},
   "source": [
    "### 3.1 configure (conf.py in sphinx)\n",
    "\n",
    "* sphinx가 설치되어 있지 않으면 sphinx 설치\n",
    "* sphinx 설정 파일 `conf.py`에 myst extension 추가"
   ]
  },
  {
   "cell_type": "markdown",
   "id": "c0aa619f",
   "metadata": {},
   "source": [
    "`conf.py` 파일 수정\n",
    "> ```\n",
    "> extensions = ['myst_parser']\n",
    "> ```"
   ]
  },
  {
   "cell_type": "code",
   "execution_count": null,
   "id": "8e4a7d37",
   "metadata": {},
   "outputs": [],
   "source": []
  }
 ],
 "metadata": {
  "celltoolbar": "Tags",
  "kernelspec": {
   "display_name": "Python 3 (ipykernel)",
   "language": "python",
   "name": "python3"
  },
  "language_info": {
   "codemirror_mode": {
    "name": "ipython",
    "version": 3
   },
   "file_extension": ".py",
   "mimetype": "text/x-python",
   "name": "python",
   "nbconvert_exporter": "python",
   "pygments_lexer": "ipython3",
   "version": "3.10.6"
  }
 },
 "nbformat": 4,
 "nbformat_minor": 5
}
