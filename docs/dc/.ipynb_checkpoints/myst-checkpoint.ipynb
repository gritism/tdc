{
 "cells": [
  {
   "cell_type": "markdown",
   "id": "d61c8982",
   "metadata": {},
   "source": [
    "# myst"
   ]
  },
  {
   "cell_type": "markdown",
   "id": "7a7e070c",
   "metadata": {},
   "source": [
    "* MyST is an extension of [**CommonMark Markdown**](https://commonmark.org/)\n",
    "* MyST can integrate with **Docutils and Sphinx.**"
   ]
  },
  {
   "cell_type": "markdown",
   "id": "e3e16f59",
   "metadata": {},
   "source": [
    "::::{grid} 1 1 1 1\n",
    "\n",
    ":::{grid-item}\n",
    "```{list-table} sphinx extension\n",
    "* - extension\n",
    "  - description\n",
    "* - sphinx-design\n",
    "  - beautiful, responsive web components to your documentation\n",
    "* - sphinx-copybutton\n",
    "  - a copy button to your code blocks\n",
    "* - sphinx-rediraffe\n",
    "  - redirects to your documentation\n",
    "* - sphinx-opengraph\n",
    "  - OpenGraph metadata to your documentation\n",
    "* - sphinx-pyscript\n",
    "  - execute python code in your documentation\n",
    "* - sphinx-tippy\n",
    "  - tooltips to your documentation\n",
    "* - sphinx-autodoc2\n",
    "  - generate documentation from docstrings\n",
    "* - sphinx-togglebutton\n",
    "  - collapsible content to your documentation\n",
    "* - sphinx-mermaid\n",
    "  - generate Mermaid diagrams\n",
    "```\n",
    ":::\n",
    "::::"
   ]
  },
  {
   "cell_type": "markdown",
   "id": "53855589",
   "metadata": {},
   "source": [
    "## 1. install"
   ]
  },
  {
   "cell_type": "code",
   "execution_count": 1,
   "id": "389a569e",
   "metadata": {},
   "outputs": [
    {
     "name": "stdout",
     "output_type": "stream",
     "text": [
      "/home/yblee/tdc\n"
     ]
    }
   ],
   "source": [
    "import os\n",
    "\n",
    "home_dir = os.path.expanduser('~')\n",
    "work_dir = f'{home_dir}/tdc'\n",
    "\n",
    "os.chdir(work_dir)\n",
    "!pwd"
   ]
  },
  {
   "cell_type": "code",
   "execution_count": 2,
   "id": "bc5050fd",
   "metadata": {
    "tags": [
     "hide-output"
    ]
   },
   "outputs": [],
   "source": [
    "#!pdm add myst-parser"
   ]
  },
  {
   "cell_type": "code",
   "execution_count": 3,
   "id": "60d4ac7d",
   "metadata": {},
   "outputs": [
    {
     "name": "stdout",
     "output_type": "stream",
     "text": [
      "\u001b[36mName\u001b[0m:                  myst-parser                                              \n",
      "\u001b[36mLatest version\u001b[0m:        2.0.0                                                    \n",
      "\u001b[36mLatest stable version\u001b[0m: 2.0.0                                                    \n",
      "\u001b[36mInstalled version\u001b[0m:     0.18.1                                                   \n",
      "\u001b[36mSummary\u001b[0m:               An extended [CommonMark](https://spec.commonmark.org/)   \n",
      "                       compliant parser,                                        \n",
      "\u001b[36mRequires Python:\u001b[0m       >=3.8                                                    \n",
      "\u001b[36mAuthor\u001b[0m:                                                                         \n",
      "\u001b[36mAuthor email\u001b[0m:          Chris Sewell <chrisj_sewell@hotmail.com>                 \n",
      "\u001b[36mLicense\u001b[0m:                                                                        \n",
      "\u001b[36mHomepage\u001b[0m:                                                                       \n",
      "\u001b[36mProject URLs\u001b[0m:          Documentation: https://myst-parser.readthedocs.io        \n",
      "                       Homepage: https://github.com/executablebooks/MyST-Parser \n",
      "\u001b[36mPlatform\u001b[0m:                                                                       \n",
      "\u001b[36mKeywords\u001b[0m:              markdown, lexer, parser, development, docutils, sphinx   \n"
     ]
    }
   ],
   "source": [
    "!pdm show myst-parser"
   ]
  },
  {
   "cell_type": "markdown",
   "id": "b36cdd0a",
   "metadata": {},
   "source": [
    "## 2. markdown syntax"
   ]
  },
  {
   "cell_type": "markdown",
   "id": "43edcde6",
   "metadata": {},
   "source": [
    "### 2.1 example"
   ]
  },
  {
   "cell_type": "markdown",
   "id": "9038ce5a",
   "metadata": {},
   "source": [
    "**markdown example**\n",
    "```\n",
    "    ### header 3\n",
    "    * unordered list\n",
    "        * unordered list\n",
    "    ```{admonition} This is custom title\n",
    "    :class: dropdown\n",
    "    this is a message\n",
    "    ```\n",
    "    badge {bdg-primary}`badge`\n",
    "```"
   ]
  },
  {
   "cell_type": "markdown",
   "id": "eb90ad82",
   "metadata": {},
   "source": [
    "**result**\n",
    "\n",
    "> ### header 3\n",
    "> * unordered list\n",
    ">    * unordered list\n",
    "> ```{admonition} This is custom title\n",
    "> :class: dropdown\n",
    "> this is a message\n",
    "> ```\n",
    "> badge {bdg-primary}`badge`\n"
   ]
  },
  {
   "cell_type": "markdown",
   "id": "5352eb98",
   "metadata": {},
   "source": [
    "### 2.2 guide\n",
    "\n",
    "* [주요 가이드](./markdown.md)"
   ]
  },
  {
   "cell_type": "markdown",
   "id": "c8aa3c2b",
   "metadata": {},
   "source": [
    "## 3. use MyST in sphinx"
   ]
  },
  {
   "cell_type": "markdown",
   "id": "273b8c1e",
   "metadata": {},
   "source": [
    "### 3.1 configure (conf.py in sphinx)\n",
    "\n",
    "* sphinx가 설치되어 있지 않으면 sphinx 설치\n",
    "* sphinx 설정 파일 `conf.py`에 myst extension 추가"
   ]
  },
  {
   "cell_type": "markdown",
   "id": "c0aa619f",
   "metadata": {},
   "source": [
    "`conf.py` 파일 수정\n",
    "> ```\n",
    "> extensions = ['myst_parser']\n",
    "> ```"
   ]
  },
  {
   "cell_type": "code",
   "execution_count": null,
   "id": "8e4a7d37",
   "metadata": {},
   "outputs": [],
   "source": []
  }
 ],
 "metadata": {
  "celltoolbar": "Tags",
  "kernelspec": {
   "display_name": "Python 3 (ipykernel)",
   "language": "python",
   "name": "python3"
  },
  "language_info": {
   "codemirror_mode": {
    "name": "ipython",
    "version": 3
   },
   "file_extension": ".py",
   "mimetype": "text/x-python",
   "name": "python",
   "nbconvert_exporter": "python",
   "pygments_lexer": "ipython3",
   "version": "3.10.6"
  }
 },
 "nbformat": 4,
 "nbformat_minor": 5
}
