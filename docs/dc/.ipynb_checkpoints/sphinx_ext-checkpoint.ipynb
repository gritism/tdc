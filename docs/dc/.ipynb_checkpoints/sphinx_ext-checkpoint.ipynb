{
 "cells": [
  {
   "cell_type": "markdown",
   "id": "72b5e0db",
   "metadata": {},
   "source": [
    "# sphinx extension\n",
    "* summary for developing sphinx extension\n",
    "  \n",
    "## key sphinx object\n",
    "* four key object in sphinx extension\n",
    "\n",
    "````{tab-set}\n",
    "\n",
    "```{tab-item} 1. application\n",
    "* package path: `sphinx.application.Sphinx`\n",
    "* usally called `app`\n",
    "* sphinx instance\n",
    "* controls most high-level functionality (extension setup, dispatching, production out etc)\n",
    "```\n",
    "```{tab-item} 2. environment\n",
    "* package path: `sphinx.environment.BuildEnvironment`\n",
    "* build environment object\n",
    "* responsible for **parsing the source document, stores all metadata**\n",
    "* access: `app.evn`\n",
    "```\n",
    "```{tab-item} 3. builder\n",
    "* package path: `sphinx.builders.Builder`\n",
    "* **convert the parsed documents into an output format`\n",
    "* access: `app.builder`\n",
    "```\n",
    "```{tab-item} 4. config\n",
    "* package path: `sphinx.config.Config`\n",
    "* **provides the values of configuration values set in conf.py**\n",
    "* access: `app.config` or `env.config`\n",
    "```\n",
    "````\n",
    "\n",
    "## build process\n",
    "\n",
    "````{tab-set}\n",
    "\n",
    "```{tab-item} 1. initialization\n",
    "* searching for source files in `source directory` (usally docs folder)\n",
    "* **extensions are initialized**\n",
    "```\n",
    "```{tab-item} 2. reading\n",
    "* read and parse all the source files\n",
    "* ** execute directives and roles **\n",
    "* output: **doctree for each source file**\n",
    "* the parsed doctrees are stored on disk\n",
    "```\n",
    "```{tab-item} 3. consitency check\n",
    "* some checking\n",
    "```\n",
    "```{tab-item} 4. resolving\n",
    "* transform components\n",
    "``` \n",
    "```{tab-item} 5. writing\n",
    "* **convert doctree to output format (html, latex etc)\n",
    "* docutils writer converts nodes of each doctree to output format\n",
    "```\n",
    "````"
   ]
  },
  {
   "cell_type": "markdown",
   "id": "480b9bac",
   "metadata": {},
   "source": [
    "\n",
    "## developing extension example\n",
    "### 0. preparation\n",
    "1. create extension folder\n",
    "2. update `conf.py`\n"
   ]
  },
  {
   "cell_type": "code",
   "execution_count": 22,
   "id": "29960c87",
   "metadata": {
    "tags": [
     "hide-input",
     "hide-cell"
    ]
   },
   "outputs": [
    {
     "name": "stdout",
     "output_type": "stream",
     "text": [
      "/home/yblee/sphinx_ext\n"
     ]
    }
   ],
   "source": [
    "%cd ~/sphinx_ext"
   ]
  },
  {
   "cell_type": "code",
   "execution_count": 23,
   "id": "9936aa96",
   "metadata": {},
   "outputs": [
    {
     "name": "stdout",
     "output_type": "stream",
     "text": [
      "\u001b[01;34m.\u001b[0m\r\n",
      "├── \u001b[01;34mdocs\u001b[0m\r\n",
      "│   ├── Makefile\r\n",
      "│   ├── \u001b[01;34m_build\u001b[0m\r\n",
      "│   │   └── \u001b[01;34mhtml\u001b[0m\r\n",
      "│   ├── \u001b[01;34m_static\u001b[0m\r\n",
      "│   ├── \u001b[01;34m_templates\u001b[0m\r\n",
      "│   ├── basic.md\r\n",
      "│   ├── conf.py\r\n",
      "│   ├── index.rst\r\n",
      "│   └── make.bat\r\n",
      "├── \u001b[01;34mext\u001b[0m\r\n",
      "│   ├── __init__.py\r\n",
      "│   ├── \u001b[01;34m__pycache__\u001b[0m\r\n",
      "│   │   ├── __init__.cpython-310.pyc\r\n",
      "│   │   └── ext_basic.cpython-310.pyc\r\n",
      "│   └── ext_basic.py\r\n",
      "├── pdm.lock\r\n",
      "└── pyproject.toml\r\n",
      "\r\n",
      "7 directories, 11 files\r\n"
     ]
    }
   ],
   "source": [
    "!tree . -L 3"
   ]
  },
  {
   "cell_type": "markdown",
   "id": "5cb05527",
   "metadata": {},
   "source": [
    "conf.py\n",
    "\n",
    "```python\n",
    "# ext_basic 모듈 import를 위한 path 추가\n",
    "import os\n",
    "import sys\n",
    "sys.path.insert(0, os.path.abspath('../ext/'))\n",
    "\n",
    "# ext_basic extension 추가\n",
    "extensions = [\n",
    "    'myst_parser',\n",
    "    'ext_basic'\n",
    "]\n",
    "\n",
    "```"
   ]
  },
  {
   "cell_type": "markdown",
   "id": "fb21b397",
   "metadata": {},
   "source": [
    "### 1. overall code - ext_basic.py"
   ]
  },
  {
   "cell_type": "code",
   "execution_count": 24,
   "id": "6aff7b5e",
   "metadata": {
    "tags": [
     "hide-input"
    ]
   },
   "outputs": [
    {
     "name": "stdout",
     "output_type": "stream",
     "text": [
      "from docutils import nodes\n",
      "from sphinx.util.docutils import SphinxDirective\n",
      "from sphinx.application import Sphinx\n",
      "\n",
      "class basic(SphinxDirective):\n",
      "\n",
      "    has_content = True\n",
      "\n",
      "    def run(self):\n",
      "            \n",
      "        return [\n",
      "            nodes.raw(\"\", f'{self.content}', format='html')\n",
      "        ]\n",
      "\n",
      "def setup(app: Sphinx):\n",
      "    app.add_directive('basic', basic)\n",
      "\n",
      "    return {\n",
      "        'version': '0.1',\n",
      "        'parallel_read_safe': True,\n",
      "        'parallel_write_safe': True\n",
      "    }\n",
      "\n"
     ]
    }
   ],
   "source": [
    "import ext.ext_basic\n",
    "import inspect\n",
    "\n",
    "print(inspect.getsource(ext.ext_basic))"
   ]
  },
  {
   "cell_type": "markdown",
   "id": "0581173a",
   "metadata": {},
   "source": [
    "### 2. setup()"
   ]
  },
  {
   "cell_type": "code",
   "execution_count": 25,
   "id": "0867d084",
   "metadata": {
    "tags": [
     "hide-input"
    ]
   },
   "outputs": [
    {
     "name": "stdout",
     "output_type": "stream",
     "text": [
      "    def run(self):\n",
      "            \n",
      "        return [\n",
      "            nodes.raw(\"\", f'{self.content}', format='html')\n",
      "        ]\n",
      "\n"
     ]
    }
   ],
   "source": [
    "import ext.ext_basic\n",
    "import inspect\n",
    "\n",
    "print(inspect.getsource(ext.ext_basic.setup))"
   ]
  },
  {
   "cell_type": "markdown",
   "id": "b015d5ee",
   "metadata": {},
   "source": [
    "### 3. directive"
   ]
  },
  {
   "cell_type": "code",
   "execution_count": 26,
   "id": "ea60db5d",
   "metadata": {
    "tags": [
     "hide-input"
    ]
   },
   "outputs": [
    {
     "name": "stdout",
     "output_type": "stream",
     "text": [
      "class basic(SphinxDirective):\n",
      "\n",
      "    has_content = True\n",
      "\n",
      "    def run(self):\n",
      "            \n",
      "        return [\n",
      "            nodes.raw(\"\", f'{self.content}', format='html')\n",
      "        ]\n",
      "\n"
     ]
    }
   ],
   "source": [
    "import ext.ext_basic\n",
    "import inspect\n",
    "\n",
    "print(inspect.getsource(ext.ext_basic.basic))"
   ]
  },
  {
   "cell_type": "markdown",
   "id": "26cbc07a",
   "metadata": {},
   "source": [
    "### 4. write .md"
   ]
  },
  {
   "cell_type": "markdown",
   "id": "f06635cd",
   "metadata": {},
   "source": [
    "````md\n",
    "```{basic}\n",
    "```\n",
    "````"
   ]
  },
  {
   "cell_type": "markdown",
   "id": "3b6d50b4",
   "metadata": {},
   "source": [
    "### 5. build"
   ]
  },
  {
   "cell_type": "code",
   "execution_count": 27,
   "id": "e37c61ab",
   "metadata": {
    "tags": [
     "output_scroll"
    ]
   },
   "outputs": [
    {
     "name": "stdout",
     "output_type": "stream",
     "text": [
      "\u001b[01mRunning Sphinx v7.0.1\u001b[39;49;00m\n",
      "\u001b[01mmyst v2.0.0:\u001b[39;49;00m MdParserConfig(commonmark_only=False, gfm_only=False, enable_extensions=set(), disable_syntax=[], all_links_external=False, url_schemes=('http', 'https', 'mailto', 'ftp'), ref_domains=None, fence_as_directive=set(), number_code_blocks=[], title_to_header=False, heading_anchors=0, heading_slug_func=None, html_meta={}, footnote_transition=True, words_per_minute=200, substitutions={}, linkify_fuzzy_links=True, dmath_allow_labels=True, dmath_allow_space=True, dmath_allow_digits=True, dmath_double_inline=False, update_mathjax=True, mathjax_classes='tex2jax_process|mathjax_process|math|output_area', enable_checkboxes=False, suppress_warnings=[], highlight_code_blocks=True)\n",
      "\u001b[01mbuilding [mo]: \u001b[39;49;00mall of 0 po files\n",
      "\u001b[01mwriting output... \u001b[39;49;00m\n",
      "\u001b[01mbuilding [html]: \u001b[39;49;00mall source files\n",
      "\u001b[01mupdating environment: \u001b[39;49;00m[new config] 2 added, 0 changed, 0 removed\n",
      "\u001b[01mreading sources... \u001b[39;49;00m[100%] \u001b[35mindex\u001b[39;49;00m                                                \n",
      "\u001b[01mlooking for now-outdated files... \u001b[39;49;00mnone found\n",
      "\u001b[01mpickling environment... \u001b[39;49;00mdone\n",
      "\u001b[01mchecking consistency... \u001b[39;49;00m\u001b[91m/home/yblee/sphinx_ext/docs/basic.md: WARNING: document isn't included in any toctree\u001b[39;49;00m\n",
      "done\n",
      "\u001b[01mpreparing documents... \u001b[39;49;00mdone\n",
      "\u001b[01mwriting output... \u001b[39;49;00m[100%] \u001b[32mindex\u001b[39;49;00m                                                 \n",
      "\u001b[01mgenerating indices... \u001b[39;49;00mgenindex done\n",
      "\u001b[01mwriting additional pages... \u001b[39;49;00msearch done\n",
      "\u001b[01mcopying static files... \u001b[39;49;00mdone\n",
      "\u001b[01mcopying extra files... \u001b[39;49;00mdone\n",
      "\u001b[01mdumping search index in English (code: en)... \u001b[39;49;00mdone\n",
      "\u001b[01mdumping object inventory... \u001b[39;49;00mdone\n",
      "\u001b[01mbuild succeeded, 1 warning.\u001b[39;49;00m\n",
      "\n",
      "The HTML pages are in docs/_build/html.\n"
     ]
    }
   ],
   "source": [
    "!pdm run sphinx-build -a -E docs/ docs/_build/html"
   ]
  },
  {
   "cell_type": "markdown",
   "id": "c2bced62",
   "metadata": {},
   "source": [
    "### 6. result"
   ]
  },
  {
   "cell_type": "code",
   "execution_count": 28,
   "id": "a3833a0a",
   "metadata": {
    "tags": [
     "hide-input"
    ]
   },
   "outputs": [
    {
     "data": {
      "text/html": [
       "<!DOCTYPE html>\n",
       "\n",
       "<html lang=\"en\">\n",
       "  <head>\n",
       "    <meta charset=\"utf-8\" />\n",
       "    <meta name=\"viewport\" content=\"width=device-width, initial-scale=1.0\" /><meta name=\"viewport\" content=\"width=device-width, initial-scale=1\" />\n",
       "\n",
       "    <title>basic extension &#8212; sphinx-ext  documentation</title>\n",
       "    <link rel=\"stylesheet\" type=\"text/css\" href=\"_static/pygments.css\" />\n",
       "    <link rel=\"stylesheet\" type=\"text/css\" href=\"_static/alabaster.css\" />\n",
       "    <script data-url_root=\"./\" id=\"documentation_options\" src=\"_static/documentation_options.js\"></script>\n",
       "    <script src=\"_static/doctools.js\"></script>\n",
       "    <script src=\"_static/sphinx_highlight.js\"></script>\n",
       "    <link rel=\"index\" title=\"Index\" href=\"genindex.html\" />\n",
       "    <link rel=\"search\" title=\"Search\" href=\"search.html\" />\n",
       "   \n",
       "  <link rel=\"stylesheet\" href=\"_static/custom.css\" type=\"text/css\" />\n",
       "  \n",
       "  \n",
       "  <meta name=\"viewport\" content=\"width=device-width, initial-scale=0.9, maximum-scale=0.9\" />\n",
       "\n",
       "  </head><body>\n",
       "  \n",
       "\n",
       "    <div class=\"document\">\n",
       "      <div class=\"documentwrapper\">\n",
       "        <div class=\"bodywrapper\">\n",
       "          \n",
       "\n",
       "          <div class=\"body\" role=\"main\">\n",
       "            \n",
       "  <section id=\"basic-extension\">\n",
       "<h1>basic extension<a class=\"headerlink\" href=\"#basic-extension\" title=\"Permalink to this heading\">¶</a></h1>\n",
       "<section id=\"code\">\n",
       "<h2>code<a class=\"headerlink\" href=\"#code\" title=\"Permalink to this heading\">¶</a></h2>\n",
       "<div class=\"highlight-md notranslate\"><div class=\"highlight\"><pre><span></span>```{basic}\n",
       "\n",
       "sphinx extension test\n",
       "```\n",
       "</pre></div>\n",
       "</div>\n",
       "</section>\n",
       "<section id=\"result\">\n",
       "<h2>result<a class=\"headerlink\" href=\"#result\" title=\"Permalink to this heading\">¶</a></h2>\n",
       "['sphinx extension test']</section>\n",
       "</section>\n",
       "\n",
       "\n",
       "          </div>\n",
       "          \n",
       "        </div>\n",
       "      </div>\n",
       "      <div class=\"sphinxsidebar\" role=\"navigation\" aria-label=\"main navigation\">\n",
       "        <div class=\"sphinxsidebarwrapper\">\n",
       "<h1 class=\"logo\"><a href=\"index.html\">sphinx-ext</a></h1>\n",
       "\n",
       "\n",
       "\n",
       "\n",
       "\n",
       "\n",
       "\n",
       "\n",
       "<h3>Navigation</h3>\n",
       "\n",
       "<div class=\"relations\">\n",
       "<h3>Related Topics</h3>\n",
       "<ul>\n",
       "  <li><a href=\"index.html\">Documentation overview</a><ul>\n",
       "  </ul></li>\n",
       "</ul>\n",
       "</div>\n",
       "<div id=\"searchbox\" style=\"display: none\" role=\"search\">\n",
       "  <h3 id=\"searchlabel\">Quick search</h3>\n",
       "    <div class=\"searchformwrapper\">\n",
       "    <form class=\"search\" action=\"search.html\" method=\"get\">\n",
       "      <input type=\"text\" name=\"q\" aria-labelledby=\"searchlabel\" autocomplete=\"off\" autocorrect=\"off\" autocapitalize=\"off\" spellcheck=\"false\"/>\n",
       "      <input type=\"submit\" value=\"Go\" />\n",
       "    </form>\n",
       "    </div>\n",
       "</div>\n",
       "<script>document.getElementById('searchbox').style.display = \"block\"</script>\n",
       "\n",
       "\n",
       "\n",
       "\n",
       "\n",
       "\n",
       "\n",
       "\n",
       "        </div>\n",
       "      </div>\n",
       "      <div class=\"clearer\"></div>\n",
       "    </div>\n",
       "    <div class=\"footer\">\n",
       "      &copy;2023, gritism.\n",
       "      \n",
       "      |\n",
       "      Powered by <a href=\"http://sphinx-doc.org/\">Sphinx 7.0.1</a>\n",
       "      &amp; <a href=\"https://github.com/bitprophet/alabaster\">Alabaster 0.7.13</a>\n",
       "      \n",
       "      |\n",
       "      <a href=\"_sources/basic.md.txt\"\n",
       "          rel=\"nofollow\">Page source</a>\n",
       "    </div>\n",
       "\n",
       "    \n",
       "\n",
       "    \n",
       "  </body>\n",
       "</html>"
      ],
      "text/plain": [
       "<IPython.core.display.HTML object>"
      ]
     },
     "metadata": {},
     "output_type": "display_data"
    }
   ],
   "source": [
    "from IPython.display import display, HTML\n",
    "chart = HTML('./docs/_build/html/basic.html')\n",
    "# or chart = charts.plot(...)\n",
    "display(chart)"
   ]
  },
  {
   "cell_type": "code",
   "execution_count": null,
   "id": "94255256",
   "metadata": {},
   "outputs": [],
   "source": []
  }
 ],
 "metadata": {
  "celltoolbar": "Edit Metadata",
  "jupytext": {
   "cell_metadata_filter": "-all",
   "main_language": "python",
   "notebook_metadata_filter": "-all"
  },
  "kernelspec": {
   "display_name": "Python 3 (ipykernel)",
   "language": "python",
   "name": "python3"
  },
  "language_info": {
   "codemirror_mode": {
    "name": "ipython",
    "version": 3
   },
   "file_extension": ".py",
   "mimetype": "text/x-python",
   "name": "python",
   "nbconvert_exporter": "python",
   "pygments_lexer": "ipython3",
   "version": "3.10.6"
  }
 },
 "nbformat": 4,
 "nbformat_minor": 5
}
