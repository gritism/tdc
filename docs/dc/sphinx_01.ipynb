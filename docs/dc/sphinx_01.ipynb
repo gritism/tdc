{
 "cells": [
  {
   "cell_type": "markdown",
   "id": "dce6d950",
   "metadata": {},
   "source": [
    "# sphinx"
   ]
  },
  {
   "cell_type": "markdown",
   "id": "d0d33e73",
   "metadata": {},
   "source": [
    "* sphinx는 document generation을 위한 라이브러이임\n",
    "* document 작성을 위한 언어로 rst를 기본으로 하며(markdown도 지원)\n",
    "* python docstring을 자동화하여 api document생성 지원. \n",
    "    * (공식 python document도 sphinx를 이용하여 제공하고 있음)\n",
    "    "
   ]
  },
  {
   "cell_type": "markdown",
   "id": "9f025972",
   "metadata": {},
   "source": [
    "## environment 준비"
   ]
  },
  {
   "cell_type": "code",
   "execution_count": 6,
   "id": "32550292",
   "metadata": {},
   "outputs": [
    {
     "name": "stdout",
     "output_type": "stream",
     "text": [
      "/home/yblee\n"
     ]
    }
   ],
   "source": [
    "import os\n",
    "\n",
    "home_dir = os.path.expanduser('~')\n",
    "# work_dir = f'{home_dir}/sphinx_demo'\n",
    "print(home_dir)"
   ]
  },
  {
   "cell_type": "code",
   "execution_count": 7,
   "id": "246fd266",
   "metadata": {},
   "outputs": [
    {
     "name": "stdout",
     "output_type": "stream",
     "text": [
      "Defaulting to user installation because normal site-packages is not writeable\n",
      "Requirement already satisfied: pdm in /home/yblee/.local/lib/python3.10/site-packages (2.7.2)\n",
      "Requirement already satisfied: resolvelib>=1.0.1 in /home/yblee/.local/lib/python3.10/site-packages (from pdm) (1.0.1)\n",
      "Requirement already satisfied: requests-toolbelt in /home/yblee/.local/lib/python3.10/site-packages (from pdm) (1.0.0)\n",
      "Requirement already satisfied: shellingham>=1.3.2 in /home/yblee/.local/lib/python3.10/site-packages (from pdm) (1.5.0.post1)\n",
      "Requirement already satisfied: tomli>=1.1.0 in /home/yblee/.local/lib/python3.10/site-packages (from pdm) (2.0.1)\n",
      "Requirement already satisfied: certifi in /home/yblee/.local/lib/python3.10/site-packages (from pdm) (2023.5.7)\n",
      "Requirement already satisfied: blinker in /usr/lib/python3/dist-packages (from pdm) (1.4)\n",
      "Requirement already satisfied: platformdirs in /home/yblee/.local/lib/python3.10/site-packages (from pdm) (3.5.1)\n",
      "Requirement already satisfied: pyproject-hooks in /home/yblee/.local/lib/python3.10/site-packages (from pdm) (1.0.0)\n",
      "Requirement already satisfied: tomlkit<1,>=0.11.1 in /home/yblee/.local/lib/python3.10/site-packages (from pdm) (0.11.8)\n",
      "Requirement already satisfied: python-dotenv>=0.15 in /home/yblee/.local/lib/python3.10/site-packages (from pdm) (1.0.0)\n",
      "Requirement already satisfied: packaging!=22.0,>=20.9 in /home/yblee/.local/lib/python3.10/site-packages (from pdm) (23.1)\n",
      "Requirement already satisfied: unearth>=0.9.0 in /home/yblee/.local/lib/python3.10/site-packages (from pdm) (0.9.1)\n",
      "Requirement already satisfied: installer<0.8,>=0.7 in /home/yblee/.local/lib/python3.10/site-packages (from pdm) (0.7.0)\n",
      "Requirement already satisfied: cachecontrol[filecache]>=0.13.0 in /home/yblee/.local/lib/python3.10/site-packages (from pdm) (0.13.1)\n",
      "Requirement already satisfied: virtualenv>=20 in /home/yblee/.local/lib/python3.10/site-packages (from pdm) (20.23.0)\n",
      "Requirement already satisfied: rich>=12.3.0 in /home/yblee/.local/lib/python3.10/site-packages (from pdm) (13.3.5)\n",
      "Requirement already satisfied: findpython>=0.2.2 in /home/yblee/.local/lib/python3.10/site-packages (from pdm) (0.2.5)\n",
      "Requirement already satisfied: msgpack>=0.5.2 in /home/yblee/.local/lib/python3.10/site-packages (from cachecontrol[filecache]>=0.13.0->pdm) (1.0.5)\n",
      "Requirement already satisfied: requests>=2.16.0 in /home/yblee/.local/lib/python3.10/site-packages (from cachecontrol[filecache]>=0.13.0->pdm) (2.31.0)\n",
      "Requirement already satisfied: filelock>=3.8.0 in /home/yblee/.local/lib/python3.10/site-packages (from cachecontrol[filecache]>=0.13.0->pdm) (3.12.0)\n",
      "Requirement already satisfied: markdown-it-py<3.0.0,>=2.2.0 in /home/yblee/.local/lib/python3.10/site-packages (from rich>=12.3.0->pdm) (2.2.0)\n",
      "Requirement already satisfied: pygments<3.0.0,>=2.13.0 in /home/yblee/.local/lib/python3.10/site-packages (from rich>=12.3.0->pdm) (2.15.1)\n",
      "Requirement already satisfied: distlib<1,>=0.3.6 in /home/yblee/.local/lib/python3.10/site-packages (from virtualenv>=20->pdm) (0.3.6)\n",
      "Requirement already satisfied: mdurl~=0.1 in /home/yblee/.local/lib/python3.10/site-packages (from markdown-it-py<3.0.0,>=2.2.0->rich>=12.3.0->pdm) (0.1.2)\n",
      "Requirement already satisfied: urllib3<3,>=1.21.1 in /home/yblee/.local/lib/python3.10/site-packages (from requests>=2.16.0->cachecontrol[filecache]>=0.13.0->pdm) (2.0.2)\n",
      "Requirement already satisfied: idna<4,>=2.5 in /home/yblee/.local/lib/python3.10/site-packages (from requests>=2.16.0->cachecontrol[filecache]>=0.13.0->pdm) (3.4)\n",
      "Requirement already satisfied: charset-normalizer<4,>=2 in /home/yblee/.local/lib/python3.10/site-packages (from requests>=2.16.0->cachecontrol[filecache]>=0.13.0->pdm) (3.1.0)\n"
     ]
    }
   ],
   "source": [
    "!pip install pdm"
   ]
  },
  {
   "cell_type": "code",
   "execution_count": 9,
   "id": "8d97d7dd",
   "metadata": {},
   "outputs": [
    {
     "name": "stdout",
     "output_type": "stream",
     "text": [
      "/home/yblee/sphinx_demo\n"
     ]
    }
   ],
   "source": [
    "work_dir = f'{home_dir}/sphinx_demo'\n",
    "print(work_dir)"
   ]
  },
  {
   "cell_type": "code",
   "execution_count": 10,
   "id": "62209dde",
   "metadata": {},
   "outputs": [],
   "source": [
    "if not os.path.isdir(work_dir):\n",
    "    os.mkdir(work_dir)\n",
    "else:\n",
    "    os.system(f'rm -rf '+work_dir)\n",
    "    os.mkdir(work_dir)\n",
    "    \n",
    "os.chdir(work_dir)"
   ]
  },
  {
   "cell_type": "code",
   "execution_count": 11,
   "id": "6aaabc69",
   "metadata": {},
   "outputs": [
    {
     "name": "stdout",
     "output_type": "stream",
     "text": [
      "/home/yblee/sphinx_demo\r\n"
     ]
    }
   ],
   "source": [
    "!pwd"
   ]
  },
  {
   "cell_type": "markdown",
   "id": "fde9d986",
   "metadata": {},
   "source": [
    "## install"
   ]
  },
  {
   "cell_type": "code",
   "execution_count": 12,
   "id": "890c48a1",
   "metadata": {},
   "outputs": [
    {
     "name": "stdout",
     "output_type": "stream",
     "text": [
      "\u001b[36mCreating a pyproject.toml for PDM...\u001b[0m\n",
      "Virtualenv is created successfully at \u001b[32m/home/yblee/sphinx_demo/\u001b[0m\u001b[32m.venv\u001b[0m\n",
      "Changes are written to \u001b[32mpyproject.toml\u001b[0m.\n",
      "\n",
      "\u001b[34mPDM \u001b[0m\u001b[1;36m2.7\u001b[0m\u001b[36m.\u001b[0m\u001b[1;36m2\u001b[0m\u001b[34m is installed, while \u001b[0m\u001b[1;36m2.7\u001b[0m\u001b[36m.\u001b[0m\u001b[1;36m4\u001b[0m\u001b[34m is available.\u001b[0m\n",
      "\u001b[34mPlease run \u001b[0m\u001b[1;32m`pdm self update`\u001b[0m\u001b[34m to upgrade.\u001b[0m\n",
      "\u001b[34mRun \u001b[0m\u001b[1;32m`pdm config check_update false`\u001b[0m\u001b[34m to disable the check.\u001b[0m\n"
     ]
    }
   ],
   "source": [
    "!pdm init -n"
   ]
  },
  {
   "cell_type": "code",
   "execution_count": 13,
   "id": "4f9d8e74",
   "metadata": {},
   "outputs": [
    {
     "name": "stdout",
     "output_type": "stream",
     "text": [
      "\u001b[?25l\u001b[36m⠋\u001b[0m Creating virtualenv using \u001b[32mvirtualenv\u001b[0m...\n",
      "\u001b[1A\u001b[2K\u001b[1;31m[\u001b[0m\u001b[31mVirtualenvCreateError\u001b[0m\u001b[1;31m]\u001b[0m: The location \u001b[35m/home/yblee/sphinx_demo/\u001b[0m\u001b[95m.venv\u001b[0m is not \n",
      "empty, add --force to overwrite it.\n"
     ]
    }
   ],
   "source": [
    "!pdm venv create -w virtualenv"
   ]
  },
  {
   "cell_type": "code",
   "execution_count": 14,
   "id": "9a5c314e",
   "metadata": {},
   "outputs": [
    {
     "name": "stdout",
     "output_type": "stream",
     "text": [
      "Using Python interpreter: \u001b[32m/home/yblee/sphinx_demo/.venv/bin/python\u001b[0m (3.10)\n",
      "\n",
      "\u001b[34mPDM \u001b[0m\u001b[1;36m2.7\u001b[0m\u001b[36m.\u001b[0m\u001b[1;36m2\u001b[0m\u001b[34m is installed, while \u001b[0m\u001b[1;36m2.7\u001b[0m\u001b[36m.\u001b[0m\u001b[1;36m4\u001b[0m\u001b[34m is available.\u001b[0m\n",
      "\u001b[34mPlease run \u001b[0m\u001b[1;32m`pdm self update`\u001b[0m\u001b[34m to upgrade.\u001b[0m\n",
      "\u001b[34mRun \u001b[0m\u001b[1;32m`pdm config check_update false`\u001b[0m\u001b[34m to disable the check.\u001b[0m\n"
     ]
    }
   ],
   "source": [
    "!pdm use --venv in-project"
   ]
  },
  {
   "cell_type": "code",
   "execution_count": 15,
   "id": "bd8735e8",
   "metadata": {
    "tags": [
     "hide-output"
    ]
   },
   "outputs": [
    {
     "name": "stdout",
     "output_type": "stream",
     "text": [
      "\u001b[34mAdding group \u001b[0m\u001b[32mdefault\u001b[0m\u001b[34m to lockfile\u001b[0m\n",
      "Adding packages to \u001b[36mdefault\u001b[0m dependencies: \u001b[1;32msphinx\u001b[0m\n",
      "\u001b[2K\u001b[36m⠼\u001b[0m Fetching hashes for resolved packages...[33m2.15.1\u001b[0m\n",
      "\u001b[1A\u001b[2K🔒 Lock successful\n",
      "Changes are written to \u001b[32mpyproject.toml\u001b[0m.\n",
      "\u001b[2K\u001b[36m⠋\u001b[0m Fetching hashes for resolved packages.....\n",
      "\u001b[1A\u001b[2K\u001b[1mSynchronizing working set with lock file\u001b[0m: \u001b[32m21\u001b[0m to add, \u001b[33m0\u001b[0m to update, \u001b[31m0\u001b[0m to remove\n",
      "\n",
      "\u001b[2K  \u001b[36m⠋\u001b[0m Installing \u001b[1;32malabaster\u001b[0m \u001b[33m0.7.13\u001b[0m...\n",
      "\u001b[2K\u001b[1A\u001b[2K  \u001b[36m⠋\u001b[0m Installing \u001b[1;32malabaster\u001b[0m \u001b[33m0.7.13\u001b[0m...\n",
      "  \u001b[36m⠋\u001b[0m Installing \u001b[1;32mbabel\u001b[0m \u001b[33m2.12.1\u001b[0m...    \n",
      "\u001b[2K\u001b[1A\u001b[2K\u001b[1A\u001b[2K  \u001b[36m⠋\u001b[0m Installing \u001b[1;32malabaster\u001b[0m \u001b[33m0.7.13\u001b[0m...        \n",
      "  \u001b[36m⠋\u001b[0m Installing \u001b[1;32mbabel\u001b[0m \u001b[33m2.12.1\u001b[0m...            \n",
      "  \u001b[36m⠋\u001b[0m Installing \u001b[1;32mcertifi\u001b[0m \u001b[33m2023.5.7\u001b[0m...        \n",
      "\u001b[2K\u001b[1A\u001b[2K\u001b[1A\u001b[2K\u001b[1A\u001b[2K  \u001b[36m⠋\u001b[0m Installing \u001b[1;32malabaster\u001b[0m \u001b[33m0.7.13\u001b[0m...        \n",
      "  \u001b[36m⠋\u001b[0m Installing \u001b[1;32mbabel\u001b[0m \u001b[33m2.12.1\u001b[0m...            \n",
      "  \u001b[36m⠋\u001b[0m Installing \u001b[1;32mcertifi\u001b[0m \u001b[33m2023.5.7\u001b[0m...        \n",
      "  \u001b[36m⠋\u001b[0m Installing \u001b[1;32mcharset-normalizer\u001b[0m \u001b[33m3.1.0\u001b[0m...\n",
      "\u001b[2K\u001b[1A\u001b[2K\u001b[1A\u001b[2K\u001b[1A\u001b[2K\u001b[1A\u001b[2K  \u001b[36m⠋\u001b[0m Installing \u001b[1;32malabaster\u001b[0m \u001b[33m0.7.13\u001b[0m...        \n",
      "  \u001b[36m⠋\u001b[0m Installing \u001b[1;32mbabel\u001b[0m \u001b[33m2.12.1\u001b[0m...            \n",
      "  \u001b[36m⠋\u001b[0m Installing \u001b[1;32mcertifi\u001b[0m \u001b[33m2023.5.7\u001b[0m...        \n",
      "  \u001b[36m⠋\u001b[0m Installing \u001b[1;32mcharset-normalizer\u001b[0m \u001b[33m3.1.0\u001b[0m...\n",
      "  \u001b[36m⠋\u001b[0m Installing \u001b[1;32mdocutils\u001b[0m \u001b[33m0.20.1\u001b[0m...         \n",
      "  \u001b[36m⠋\u001b[0m Installing \u001b[1;32midna\u001b[0m \u001b[33m3.4\u001b[0m...                \n",
      "\u001b[2K\u001b[1A\u001b[2K\u001b[1A\u001b[2K\u001b[1A\u001b[2K\u001b[1A\u001b[2K\u001b[1A\u001b[2K\u001b[1A\u001b[2K  \u001b[36m⠋\u001b[0m Installing \u001b[1;32malabaster\u001b[0m \u001b[33m0.7.13\u001b[0m...        \n",
      "  \u001b[36m⠋\u001b[0m Installing \u001b[1;32mbabel\u001b[0m \u001b[33m2.12.1\u001b[0m...            \n",
      "  \u001b[36m⠋\u001b[0m Installing \u001b[1;32mcertifi\u001b[0m \u001b[33m2023.5.7\u001b[0m...        \n",
      "  \u001b[36m⠋\u001b[0m Installing \u001b[1;32mcharset-normalizer\u001b[0m \u001b[33m3.1.0\u001b[0m...\n",
      "  \u001b[36m⠋\u001b[0m Installing \u001b[1;32mdocutils\u001b[0m \u001b[33m0.20.1\u001b[0m...         \n",
      "  \u001b[36m⠋\u001b[0m Installing \u001b[1;32midna\u001b[0m \u001b[33m3.4\u001b[0m...                \n",
      "\u001b[2K\u001b[1A\u001b[2K\u001b[1A\u001b[2K\u001b[1A\u001b[2K\u001b[1A\u001b[2K\u001b[1A\u001b[2K\u001b[1A\u001b[2K  \u001b[36m⠋\u001b[0m Installing \u001b[1;32malabaster\u001b[0m \u001b[33m0.7.13\u001b[0m...        \n",
      "  \u001b[36m⠋\u001b[0m Installing \u001b[1;32mbabel\u001b[0m \u001b[33m2.12.1\u001b[0m...            \n",
      "  \u001b[36m⠋\u001b[0m Installing \u001b[1;32mcertifi\u001b[0m \u001b[33m2023.5.7\u001b[0m...        \n",
      "  \u001b[36m⠋\u001b[0m Installing \u001b[1;32mcharset-normalizer\u001b[0m \u001b[33m3.1.0\u001b[0m...\n",
      "  \u001b[36m⠋\u001b[0m Installing \u001b[1;32mdocutils\u001b[0m \u001b[33m0.20.1\u001b[0m...         \n",
      "  \u001b[36m⠋\u001b[0m Installing \u001b[1;32midna\u001b[0m \u001b[33m3.4\u001b[0m...                \n",
      "  \u001b[36m⠋\u001b[0m Installing \u001b[1;32mimagesize\u001b[0m \u001b[33m1.4.1\u001b[0m...         \n",
      "\u001b[2K\u001b[1A\u001b[2K\u001b[1A\u001b[2K\u001b[1A\u001b[2K\u001b[1A\u001b[2K\u001b[1A\u001b[2K\u001b[1A\u001b[2K\u001b[1A\u001b[2K  \u001b[36m⠙\u001b[0m Installing \u001b[1;32malabaster\u001b[0m \u001b[33m0.7.13\u001b[0m...        \n",
      "  \u001b[36m⠙\u001b[0m Installing \u001b[1;32mbabel\u001b[0m \u001b[33m2.12.1\u001b[0m...            \n",
      "  \u001b[36m⠙\u001b[0m Installing \u001b[1;32mcertifi\u001b[0m \u001b[33m2023.5.7\u001b[0m...        \n",
      "  \u001b[36m⠙\u001b[0m Installing \u001b[1;32mcharset-normalizer\u001b[0m \u001b[33m3.1.0\u001b[0m...\n",
      "  \u001b[36m⠙\u001b[0m Installing \u001b[1;32mdocutils\u001b[0m \u001b[33m0.20.1\u001b[0m...         \n",
      "  \u001b[36m⠙\u001b[0m Installing \u001b[1;32midna\u001b[0m \u001b[33m3.4\u001b[0m...                \n",
      "  \u001b[36m⠙\u001b[0m Installing \u001b[1;32mimagesize\u001b[0m \u001b[33m1.4.1\u001b[0m...         \n",
      "\u001b[2K\u001b[1A\u001b[2K\u001b[1A\u001b[2K\u001b[1A\u001b[2K\u001b[1A\u001b[2K\u001b[1A\u001b[2K\u001b[1A\u001b[2K\u001b[1A\u001b[2K  \u001b[32m✔\u001b[0m Install \u001b[1;32mimagesize\u001b[0m \u001b[33m1.4.1\u001b[0m successful\n",
      "  \u001b[36m⠙\u001b[0m Installing \u001b[1;32malabaster\u001b[0m \u001b[33m0.7.13\u001b[0m...        \n",
      "  \u001b[36m⠙\u001b[0m Installing \u001b[1;32mbabel\u001b[0m \u001b[33m2.12.1\u001b[0m...            \n",
      "  \u001b[36m⠙\u001b[0m Installing \u001b[1;32mcertifi\u001b[0m \u001b[33m2023.5.7\u001b[0m...        \n",
      "  \u001b[36m⠙\u001b[0m Installing \u001b[1;32mcharset-normalizer\u001b[0m \u001b[33m3.1.0\u001b[0m...\n",
      "  \u001b[36m⠙\u001b[0m Installing \u001b[1;32mdocutils\u001b[0m \u001b[33m0.20.1\u001b[0m...         \n",
      "  \u001b[36m⠙\u001b[0m Installing \u001b[1;32midna\u001b[0m \u001b[33m3.4\u001b[0m...                \n",
      "  \u001b[36m⠙\u001b[0m Installing \u001b[1;32mimagesize\u001b[0m \u001b[33m1.4.1\u001b[0m...         \n",
      "\u001b[2K\u001b[1A\u001b[2K\u001b[1A\u001b[2K\u001b[1A\u001b[2K\u001b[1A\u001b[2K\u001b[1A\u001b[2K\u001b[1A\u001b[2K\u001b[1A\u001b[2K  \u001b[36m⠙\u001b[0m Installing \u001b[1;32malabaster\u001b[0m \u001b[33m0.7.13\u001b[0m...        \n",
      "  \u001b[36m⠙\u001b[0m Installing \u001b[1;32mbabel\u001b[0m \u001b[33m2.12.1\u001b[0m...            \n",
      "  \u001b[36m⠙\u001b[0m Installing \u001b[1;32mcertifi\u001b[0m \u001b[33m2023.5.7\u001b[0m...        \n",
      "  \u001b[36m⠙\u001b[0m Installing \u001b[1;32mcharset-normalizer\u001b[0m \u001b[33m3.1.0\u001b[0m...\n",
      "  \u001b[36m⠙\u001b[0m Installing \u001b[1;32mdocutils\u001b[0m \u001b[33m0.20.1\u001b[0m...         \n",
      "  \u001b[36m⠙\u001b[0m Installing \u001b[1;32midna\u001b[0m \u001b[33m3.4\u001b[0m...                \n",
      "  \u001b[36m⠙\u001b[0m Installing \u001b[1;32mjinja2\u001b[0m \u001b[33m3.1.2\u001b[0m...            \n",
      "\u001b[2K\u001b[1A\u001b[2K\u001b[1A\u001b[2K\u001b[1A\u001b[2K\u001b[1A\u001b[2K\u001b[1A\u001b[2K\u001b[1A\u001b[2K\u001b[1A\u001b[2K  \u001b[32m✔\u001b[0m Install \u001b[1;32mcertifi\u001b[0m \u001b[33m2023.5.7\u001b[0m successful\n",
      "  \u001b[36m⠙\u001b[0m Installing \u001b[1;32malabaster\u001b[0m \u001b[33m0.7.13\u001b[0m...        \n",
      "  \u001b[36m⠙\u001b[0m Installing \u001b[1;32mbabel\u001b[0m \u001b[33m2.12.1\u001b[0m...            \n",
      "  \u001b[36m⠙\u001b[0m Installing \u001b[1;32mcertifi\u001b[0m \u001b[33m2023.5.7\u001b[0m...        \n",
      "  \u001b[36m⠙\u001b[0m Installing \u001b[1;32mcharset-normalizer\u001b[0m \u001b[33m3.1.0\u001b[0m...\n",
      "  \u001b[36m⠙\u001b[0m Installing \u001b[1;32mdocutils\u001b[0m \u001b[33m0.20.1\u001b[0m...         \n",
      "  \u001b[36m⠙\u001b[0m Installing \u001b[1;32midna\u001b[0m \u001b[33m3.4\u001b[0m...                \n",
      "  \u001b[36m⠙\u001b[0m Installing \u001b[1;32mjinja2\u001b[0m \u001b[33m3.1.2\u001b[0m...            \n",
      "\u001b[2K\u001b[1A\u001b[2K\u001b[1A\u001b[2K\u001b[1A\u001b[2K\u001b[1A\u001b[2K\u001b[1A\u001b[2K\u001b[1A\u001b[2K\u001b[1A\u001b[2K  \u001b[36m⠹\u001b[0m Installing \u001b[1;32malabaster\u001b[0m \u001b[33m0.7.13\u001b[0m...        \n",
      "  \u001b[36m⠹\u001b[0m Installing \u001b[1;32mbabel\u001b[0m \u001b[33m2.12.1\u001b[0m...            \n",
      "  \u001b[36m⠹\u001b[0m Installing \u001b[1;32mcharset-normalizer\u001b[0m \u001b[33m3.1.0\u001b[0m...\n",
      "  \u001b[36m⠹\u001b[0m Installing \u001b[1;32mdocutils\u001b[0m \u001b[33m0.20.1\u001b[0m...         \n",
      "  \u001b[36m⠹\u001b[0m Installing \u001b[1;32midna\u001b[0m \u001b[33m3.4\u001b[0m...                \n",
      "  \u001b[36m⠹\u001b[0m Installing \u001b[1;32mjinja2\u001b[0m \u001b[33m3.1.2\u001b[0m...            \n",
      "  \u001b[36m⠹\u001b[0m Installing \u001b[1;32mmarkupsafe\u001b[0m \u001b[33m2.1.3\u001b[0m...        \n",
      "\u001b[2K\u001b[1A\u001b[2K\u001b[1A\u001b[2K\u001b[1A\u001b[2K\u001b[1A\u001b[2K\u001b[1A\u001b[2K\u001b[1A\u001b[2K\u001b[1A\u001b[2K  \u001b[32m✔\u001b[0m Install \u001b[1;32malabaster\u001b[0m \u001b[33m0.7.13\u001b[0m successful\n",
      "  \u001b[36m⠹\u001b[0m Installing \u001b[1;32malabaster\u001b[0m \u001b[33m0.7.13\u001b[0m...        \n",
      "  \u001b[36m⠹\u001b[0m Installing \u001b[1;32mbabel\u001b[0m \u001b[33m2.12.1\u001b[0m...            \n",
      "  \u001b[36m⠹\u001b[0m Installing \u001b[1;32mcharset-normalizer\u001b[0m \u001b[33m3.1.0\u001b[0m...\n",
      "  \u001b[36m⠹\u001b[0m Installing \u001b[1;32mdocutils\u001b[0m \u001b[33m0.20.1\u001b[0m...         \n",
      "  \u001b[36m⠹\u001b[0m Installing \u001b[1;32midna\u001b[0m \u001b[33m3.4\u001b[0m...                \n",
      "  \u001b[36m⠹\u001b[0m Installing \u001b[1;32mjinja2\u001b[0m \u001b[33m3.1.2\u001b[0m...            \n",
      "  \u001b[36m⠹\u001b[0m Installing \u001b[1;32mmarkupsafe\u001b[0m \u001b[33m2.1.3\u001b[0m...        \n",
      "\u001b[2K\u001b[1A\u001b[2K\u001b[1A\u001b[2K\u001b[1A\u001b[2K\u001b[1A\u001b[2K\u001b[1A\u001b[2K\u001b[1A\u001b[2K\u001b[1A\u001b[2K  \u001b[36m⠹\u001b[0m Installing \u001b[1;32mbabel\u001b[0m \u001b[33m2.12.1\u001b[0m...            \n",
      "  \u001b[36m⠹\u001b[0m Installing \u001b[1;32mcharset-normalizer\u001b[0m \u001b[33m3.1.0\u001b[0m...\n",
      "  \u001b[36m⠹\u001b[0m Installing \u001b[1;32mdocutils\u001b[0m \u001b[33m0.20.1\u001b[0m...         \n",
      "  \u001b[36m⠹\u001b[0m Installing \u001b[1;32midna\u001b[0m \u001b[33m3.4\u001b[0m...                \n",
      "  \u001b[36m⠹\u001b[0m Installing \u001b[1;32mjinja2\u001b[0m \u001b[33m3.1.2\u001b[0m...            \n",
      "  \u001b[36m⠹\u001b[0m Installing \u001b[1;32mmarkupsafe\u001b[0m \u001b[33m2.1.3\u001b[0m...        \n",
      "  \u001b[36m⠹\u001b[0m Installing \u001b[1;32mpackaging\u001b[0m \u001b[33m23.1\u001b[0m...          \n",
      "\u001b[2K\u001b[1A\u001b[2K\u001b[1A\u001b[2K\u001b[1A\u001b[2K\u001b[1A\u001b[2K\u001b[1A\u001b[2K\u001b[1A\u001b[2K\u001b[1A\u001b[2K  \u001b[36m⠹\u001b[0m Installing \u001b[1;32mbabel\u001b[0m \u001b[33m2.12.1\u001b[0m...            \n",
      "  \u001b[36m⠹\u001b[0m Installing \u001b[1;32mcharset-normalizer\u001b[0m \u001b[33m3.1.0\u001b[0m...\n",
      "  \u001b[36m⠹\u001b[0m Installing \u001b[1;32mdocutils\u001b[0m \u001b[33m0.20.1\u001b[0m...         \n",
      "  \u001b[36m⠹\u001b[0m Installing \u001b[1;32midna\u001b[0m \u001b[33m3.4\u001b[0m...                \n",
      "  \u001b[36m⠹\u001b[0m Installing \u001b[1;32mjinja2\u001b[0m \u001b[33m3.1.2\u001b[0m...            \n",
      "  \u001b[36m⠹\u001b[0m Installing \u001b[1;32mmarkupsafe\u001b[0m \u001b[33m2.1.3\u001b[0m...        \n",
      "  \u001b[36m⠹\u001b[0m Installing \u001b[1;32mpackaging\u001b[0m \u001b[33m23.1\u001b[0m...          \n",
      "\u001b[2K\u001b[1A\u001b[2K\u001b[1A\u001b[2K\u001b[1A\u001b[2K\u001b[1A\u001b[2K\u001b[1A\u001b[2K\u001b[1A\u001b[2K\u001b[1A\u001b[2K  \u001b[32m✔\u001b[0m Install \u001b[1;32midna\u001b[0m \u001b[33m3.4\u001b[0m successful\n",
      "  \u001b[36m⠹\u001b[0m Installing \u001b[1;32mbabel\u001b[0m \u001b[33m2.12.1\u001b[0m...            \n",
      "  \u001b[36m⠹\u001b[0m Installing \u001b[1;32mcharset-normalizer\u001b[0m \u001b[33m3.1.0\u001b[0m...\n",
      "  \u001b[36m⠹\u001b[0m Installing \u001b[1;32mdocutils\u001b[0m \u001b[33m0.20.1\u001b[0m...         \n",
      "  \u001b[36m⠹\u001b[0m Installing \u001b[1;32midna\u001b[0m \u001b[33m3.4\u001b[0m...                \n",
      "  \u001b[36m⠹\u001b[0m Installing \u001b[1;32mjinja2\u001b[0m \u001b[33m3.1.2\u001b[0m...            \n",
      "  \u001b[36m⠹\u001b[0m Installing \u001b[1;32mmarkupsafe\u001b[0m \u001b[33m2.1.3\u001b[0m...        \n",
      "  \u001b[36m⠹\u001b[0m Installing \u001b[1;32mpackaging\u001b[0m \u001b[33m23.1\u001b[0m...          \n",
      "\u001b[2K\u001b[1A\u001b[2K\u001b[1A\u001b[2K\u001b[1A\u001b[2K\u001b[1A\u001b[2K\u001b[1A\u001b[2K\u001b[1A\u001b[2K\u001b[1A\u001b[2K  \u001b[36m⠹\u001b[0m Installing \u001b[1;32mbabel\u001b[0m \u001b[33m2.12.1\u001b[0m...            \n",
      "  \u001b[36m⠹\u001b[0m Installing \u001b[1;32mcharset-normalizer\u001b[0m \u001b[33m3.1.0\u001b[0m...\n",
      "  \u001b[36m⠹\u001b[0m Installing \u001b[1;32mdocutils\u001b[0m \u001b[33m0.20.1\u001b[0m...         \n",
      "  \u001b[36m⠹\u001b[0m Installing \u001b[1;32mjinja2\u001b[0m \u001b[33m3.1.2\u001b[0m...            \n",
      "  \u001b[36m⠹\u001b[0m Installing \u001b[1;32mmarkupsafe\u001b[0m \u001b[33m2.1.3\u001b[0m...        \n",
      "  \u001b[36m⠹\u001b[0m Installing \u001b[1;32mpackaging\u001b[0m \u001b[33m23.1\u001b[0m...          \n",
      "  \u001b[36m⠹\u001b[0m Installing \u001b[1;32mpygments\u001b[0m \u001b[33m2.15.1\u001b[0m...         \n"
     ]
    },
    {
     "name": "stdout",
     "output_type": "stream",
     "text": [
      "\u001b[2K\u001b[1A\u001b[2K\u001b[1A\u001b[2K\u001b[1A\u001b[2K\u001b[1A\u001b[2K\u001b[1A\u001b[2K\u001b[1A\u001b[2K\u001b[1A\u001b[2K  \u001b[32m✔\u001b[0m Install \u001b[1;32mmarkupsafe\u001b[0m \u001b[33m2.1.3\u001b[0m successful\n",
      "  \u001b[36m⠹\u001b[0m Installing \u001b[1;32mbabel\u001b[0m \u001b[33m2.12.1\u001b[0m...            \n",
      "  \u001b[36m⠹\u001b[0m Installing \u001b[1;32mcharset-normalizer\u001b[0m \u001b[33m3.1.0\u001b[0m...\n",
      "  \u001b[36m⠹\u001b[0m Installing \u001b[1;32mdocutils\u001b[0m \u001b[33m0.20.1\u001b[0m...         \n",
      "  \u001b[36m⠹\u001b[0m Installing \u001b[1;32mjinja2\u001b[0m \u001b[33m3.1.2\u001b[0m...            \n",
      "  \u001b[36m⠹\u001b[0m Installing \u001b[1;32mmarkupsafe\u001b[0m \u001b[33m2.1.3\u001b[0m...        \n",
      "  \u001b[36m⠹\u001b[0m Installing \u001b[1;32mpackaging\u001b[0m \u001b[33m23.1\u001b[0m...          \n",
      "  \u001b[36m⠹\u001b[0m Installing \u001b[1;32mpygments\u001b[0m \u001b[33m2.15.1\u001b[0m...         \n",
      "\u001b[2K\u001b[1A\u001b[2K\u001b[1A\u001b[2K\u001b[1A\u001b[2K\u001b[1A\u001b[2K\u001b[1A\u001b[2K\u001b[1A\u001b[2K\u001b[1A\u001b[2K  \u001b[36m⠸\u001b[0m Installing \u001b[1;32mbabel\u001b[0m \u001b[33m2.12.1\u001b[0m...            \n",
      "  \u001b[36m⠸\u001b[0m Installing \u001b[1;32mcharset-normalizer\u001b[0m \u001b[33m3.1.0\u001b[0m...\n",
      "  \u001b[36m⠸\u001b[0m Installing \u001b[1;32mdocutils\u001b[0m \u001b[33m0.20.1\u001b[0m...         \n",
      "  \u001b[36m⠸\u001b[0m Installing \u001b[1;32mjinja2\u001b[0m \u001b[33m3.1.2\u001b[0m...            \n",
      "  \u001b[36m⠸\u001b[0m Installing \u001b[1;32mpackaging\u001b[0m \u001b[33m23.1\u001b[0m...          \n",
      "  \u001b[36m⠸\u001b[0m Installing \u001b[1;32mpygments\u001b[0m \u001b[33m2.15.1\u001b[0m...         \n",
      "  \u001b[36m⠸\u001b[0m Installing \u001b[1;32mrequests\u001b[0m \u001b[33m2.31.0\u001b[0m...         \n",
      "\u001b[2K\u001b[1A\u001b[2K\u001b[1A\u001b[2K\u001b[1A\u001b[2K\u001b[1A\u001b[2K\u001b[1A\u001b[2K\u001b[1A\u001b[2K\u001b[1A\u001b[2K  \u001b[32m✔\u001b[0m Install \u001b[1;32mcharset-normalizer\u001b[0m \u001b[33m3.1.0\u001b[0m successful\n",
      "  \u001b[36m⠸\u001b[0m Installing \u001b[1;32mbabel\u001b[0m \u001b[33m2.12.1\u001b[0m...            \n",
      "  \u001b[36m⠸\u001b[0m Installing \u001b[1;32mcharset-normalizer\u001b[0m \u001b[33m3.1.0\u001b[0m...\n",
      "  \u001b[36m⠸\u001b[0m Installing \u001b[1;32mdocutils\u001b[0m \u001b[33m0.20.1\u001b[0m...         \n",
      "  \u001b[36m⠸\u001b[0m Installing \u001b[1;32mjinja2\u001b[0m \u001b[33m3.1.2\u001b[0m...            \n",
      "  \u001b[36m⠸\u001b[0m Installing \u001b[1;32mpackaging\u001b[0m \u001b[33m23.1\u001b[0m...          \n",
      "  \u001b[36m⠸\u001b[0m Installing \u001b[1;32mpygments\u001b[0m \u001b[33m2.15.1\u001b[0m...         \n",
      "  \u001b[36m⠸\u001b[0m Installing \u001b[1;32mrequests\u001b[0m \u001b[33m2.31.0\u001b[0m...         \n",
      "\u001b[2K\u001b[1A\u001b[2K\u001b[1A\u001b[2K\u001b[1A\u001b[2K\u001b[1A\u001b[2K\u001b[1A\u001b[2K\u001b[1A\u001b[2K\u001b[1A\u001b[2K  \u001b[36m⠸\u001b[0m Installing \u001b[1;32mbabel\u001b[0m \u001b[33m2.12.1\u001b[0m...         \n",
      "  \u001b[36m⠸\u001b[0m Installing \u001b[1;32mdocutils\u001b[0m \u001b[33m0.20.1\u001b[0m...      \n",
      "  \u001b[36m⠸\u001b[0m Installing \u001b[1;32mjinja2\u001b[0m \u001b[33m3.1.2\u001b[0m...         \n",
      "  \u001b[36m⠸\u001b[0m Installing \u001b[1;32mpackaging\u001b[0m \u001b[33m23.1\u001b[0m...       \n",
      "  \u001b[36m⠸\u001b[0m Installing \u001b[1;32mpygments\u001b[0m \u001b[33m2.15.1\u001b[0m...      \n",
      "  \u001b[36m⠸\u001b[0m Installing \u001b[1;32mrequests\u001b[0m \u001b[33m2.31.0\u001b[0m...      \n",
      "  \u001b[36m⠸\u001b[0m Installing \u001b[1;32msnowballstemmer\u001b[0m \u001b[33m2.2.0\u001b[0m...\n",
      "\u001b[2K\u001b[1A\u001b[2K\u001b[1A\u001b[2K\u001b[1A\u001b[2K\u001b[1A\u001b[2K\u001b[1A\u001b[2K\u001b[1A\u001b[2K\u001b[1A\u001b[2K  \u001b[36m⠸\u001b[0m Installing \u001b[1;32mbabel\u001b[0m \u001b[33m2.12.1\u001b[0m...         \n",
      "  \u001b[36m⠸\u001b[0m Installing \u001b[1;32mdocutils\u001b[0m \u001b[33m0.20.1\u001b[0m...      \n",
      "  \u001b[36m⠸\u001b[0m Installing \u001b[1;32mjinja2\u001b[0m \u001b[33m3.1.2\u001b[0m...         \n",
      "  \u001b[36m⠸\u001b[0m Installing \u001b[1;32mpackaging\u001b[0m \u001b[33m23.1\u001b[0m...       \n",
      "  \u001b[36m⠸\u001b[0m Installing \u001b[1;32mpygments\u001b[0m \u001b[33m2.15.1\u001b[0m...      \n",
      "  \u001b[36m⠸\u001b[0m Installing \u001b[1;32mrequests\u001b[0m \u001b[33m2.31.0\u001b[0m...      \n",
      "  \u001b[36m⠸\u001b[0m Installing \u001b[1;32msnowballstemmer\u001b[0m \u001b[33m2.2.0\u001b[0m...\n",
      "\u001b[2K\u001b[1A\u001b[2K\u001b[1A\u001b[2K\u001b[1A\u001b[2K\u001b[1A\u001b[2K\u001b[1A\u001b[2K\u001b[1A\u001b[2K\u001b[1A\u001b[2K  \u001b[32m✔\u001b[0m Install \u001b[1;32mjinja2\u001b[0m \u001b[33m3.1.2\u001b[0m successful\n",
      "  \u001b[36m⠸\u001b[0m Installing \u001b[1;32mbabel\u001b[0m \u001b[33m2.12.1\u001b[0m...         \n",
      "  \u001b[36m⠸\u001b[0m Installing \u001b[1;32mdocutils\u001b[0m \u001b[33m0.20.1\u001b[0m...      \n",
      "  \u001b[36m⠸\u001b[0m Installing \u001b[1;32mjinja2\u001b[0m \u001b[33m3.1.2\u001b[0m...         \n",
      "  \u001b[36m⠸\u001b[0m Installing \u001b[1;32mpackaging\u001b[0m \u001b[33m23.1\u001b[0m...       \n",
      "  \u001b[36m⠸\u001b[0m Installing \u001b[1;32mpygments\u001b[0m \u001b[33m2.15.1\u001b[0m...      \n",
      "  \u001b[36m⠸\u001b[0m Installing \u001b[1;32mrequests\u001b[0m \u001b[33m2.31.0\u001b[0m...      \n",
      "  \u001b[36m⠸\u001b[0m Installing \u001b[1;32msnowballstemmer\u001b[0m \u001b[33m2.2.0\u001b[0m...\n",
      "\u001b[2K\u001b[1A\u001b[2K\u001b[1A\u001b[2K\u001b[1A\u001b[2K\u001b[1A\u001b[2K\u001b[1A\u001b[2K\u001b[1A\u001b[2K\u001b[1A\u001b[2K  \u001b[36m⠼\u001b[0m Installing \u001b[1;32mbabel\u001b[0m \u001b[33m2.12.1\u001b[0m...                 \n",
      "  \u001b[36m⠼\u001b[0m Installing \u001b[1;32mdocutils\u001b[0m \u001b[33m0.20.1\u001b[0m...              \n",
      "  \u001b[36m⠼\u001b[0m Installing \u001b[1;32mpackaging\u001b[0m \u001b[33m23.1\u001b[0m...               \n",
      "  \u001b[36m⠼\u001b[0m Installing \u001b[1;32mpygments\u001b[0m \u001b[33m2.15.1\u001b[0m...              \n",
      "  \u001b[36m⠼\u001b[0m Installing \u001b[1;32mrequests\u001b[0m \u001b[33m2.31.0\u001b[0m...              \n",
      "  \u001b[36m⠼\u001b[0m Installing \u001b[1;32msnowballstemmer\u001b[0m \u001b[33m2.2.0\u001b[0m...        \n",
      "  \u001b[36m⠼\u001b[0m Installing \u001b[1;32msphinx\u001b[0m \u001b[33m7.0.1\u001b[0m...                 \n",
      "\u001b[2K\u001b[1A\u001b[2K\u001b[1A\u001b[2K\u001b[1A\u001b[2K\u001b[1A\u001b[2K\u001b[1A\u001b[2K\u001b[1A\u001b[2K\u001b[1A\u001b[2K  \u001b[32m✔\u001b[0m Install \u001b[1;32mpackaging\u001b[0m \u001b[33m23.1\u001b[0m successful\n",
      "  \u001b[36m⠼\u001b[0m Installing \u001b[1;32mbabel\u001b[0m \u001b[33m2.12.1\u001b[0m...                 \n",
      "  \u001b[36m⠼\u001b[0m Installing \u001b[1;32mdocutils\u001b[0m \u001b[33m0.20.1\u001b[0m...              \n",
      "  \u001b[36m⠼\u001b[0m Installing \u001b[1;32mpackaging\u001b[0m \u001b[33m23.1\u001b[0m...               \n",
      "  \u001b[36m⠼\u001b[0m Installing \u001b[1;32mpygments\u001b[0m \u001b[33m2.15.1\u001b[0m...              \n",
      "  \u001b[36m⠼\u001b[0m Installing \u001b[1;32mrequests\u001b[0m \u001b[33m2.31.0\u001b[0m...              \n",
      "  \u001b[36m⠼\u001b[0m Installing \u001b[1;32msnowballstemmer\u001b[0m \u001b[33m2.2.0\u001b[0m...        \n",
      "  \u001b[36m⠼\u001b[0m Installing \u001b[1;32msphinx\u001b[0m \u001b[33m7.0.1\u001b[0m...                 \n",
      "\u001b[2K\u001b[1A\u001b[2K\u001b[1A\u001b[2K\u001b[1A\u001b[2K\u001b[1A\u001b[2K\u001b[1A\u001b[2K\u001b[1A\u001b[2K\u001b[1A\u001b[2K  \u001b[36m⠼\u001b[0m Installing \u001b[1;32mbabel\u001b[0m \u001b[33m2.12.1\u001b[0m...                 \n",
      "  \u001b[36m⠼\u001b[0m Installing \u001b[1;32mdocutils\u001b[0m \u001b[33m0.20.1\u001b[0m...              \n",
      "  \u001b[36m⠼\u001b[0m Installing \u001b[1;32mpygments\u001b[0m \u001b[33m2.15.1\u001b[0m...              \n",
      "  \u001b[36m⠼\u001b[0m Installing \u001b[1;32mrequests\u001b[0m \u001b[33m2.31.0\u001b[0m...              \n",
      "  \u001b[36m⠼\u001b[0m Installing \u001b[1;32msnowballstemmer\u001b[0m \u001b[33m2.2.0\u001b[0m...        \n",
      "  \u001b[36m⠼\u001b[0m Installing \u001b[1;32msphinx\u001b[0m \u001b[33m7.0.1\u001b[0m...                 \n",
      "  \u001b[36m⠼\u001b[0m Installing \u001b[1;32msphinxcontrib-applehelp\u001b[0m \u001b[33m1.0.4\u001b[0m...\n",
      "\u001b[2K\u001b[1A\u001b[2K\u001b[1A\u001b[2K\u001b[1A\u001b[2K\u001b[1A\u001b[2K\u001b[1A\u001b[2K\u001b[1A\u001b[2K\u001b[1A\u001b[2K  \u001b[36m⠴\u001b[0m Installing \u001b[1;32mbabel\u001b[0m \u001b[33m2.12.1\u001b[0m...                 \n",
      "  \u001b[36m⠴\u001b[0m Installing \u001b[1;32mdocutils\u001b[0m \u001b[33m0.20.1\u001b[0m...              \n",
      "  \u001b[36m⠴\u001b[0m Installing \u001b[1;32mpygments\u001b[0m \u001b[33m2.15.1\u001b[0m...              \n",
      "  \u001b[36m⠴\u001b[0m Installing \u001b[1;32mrequests\u001b[0m \u001b[33m2.31.0\u001b[0m...              \n",
      "  \u001b[36m⠴\u001b[0m Installing \u001b[1;32msnowballstemmer\u001b[0m \u001b[33m2.2.0\u001b[0m...        \n",
      "  \u001b[36m⠴\u001b[0m Installing \u001b[1;32msphinx\u001b[0m \u001b[33m7.0.1\u001b[0m...                 \n",
      "  \u001b[36m⠴\u001b[0m Installing \u001b[1;32msphinxcontrib-applehelp\u001b[0m \u001b[33m1.0.4\u001b[0m...\n",
      "\u001b[2K\u001b[1A\u001b[2K\u001b[1A\u001b[2K\u001b[1A\u001b[2K\u001b[1A\u001b[2K\u001b[1A\u001b[2K\u001b[1A\u001b[2K\u001b[1A\u001b[2K  \u001b[32m✔\u001b[0m Install \u001b[1;32mrequests\u001b[0m \u001b[33m2.31.0\u001b[0m successful\n",
      "  \u001b[36m⠴\u001b[0m Installing \u001b[1;32mbabel\u001b[0m \u001b[33m2.12.1\u001b[0m...                 \n",
      "  \u001b[36m⠴\u001b[0m Installing \u001b[1;32mdocutils\u001b[0m \u001b[33m0.20.1\u001b[0m...              \n",
      "  \u001b[36m⠴\u001b[0m Installing \u001b[1;32mpygments\u001b[0m \u001b[33m2.15.1\u001b[0m...              \n",
      "  \u001b[36m⠴\u001b[0m Installing \u001b[1;32mrequests\u001b[0m \u001b[33m2.31.0\u001b[0m...              \n",
      "  \u001b[36m⠴\u001b[0m Installing \u001b[1;32msnowballstemmer\u001b[0m \u001b[33m2.2.0\u001b[0m...        \n",
      "  \u001b[36m⠴\u001b[0m Installing \u001b[1;32msphinx\u001b[0m \u001b[33m7.0.1\u001b[0m...                 \n",
      "  \u001b[36m⠴\u001b[0m Installing \u001b[1;32msphinxcontrib-applehelp\u001b[0m \u001b[33m1.0.4\u001b[0m...\n",
      "\u001b[2K\u001b[1A\u001b[2K\u001b[1A\u001b[2K\u001b[1A\u001b[2K\u001b[1A\u001b[2K\u001b[1A\u001b[2K\u001b[1A\u001b[2K\u001b[1A\u001b[2K  \u001b[36m⠴\u001b[0m Installing \u001b[1;32mbabel\u001b[0m \u001b[33m2.12.1\u001b[0m...                 \n",
      "  \u001b[36m⠴\u001b[0m Installing \u001b[1;32mdocutils\u001b[0m \u001b[33m0.20.1\u001b[0m...              \n",
      "  \u001b[36m⠴\u001b[0m Installing \u001b[1;32mpygments\u001b[0m \u001b[33m2.15.1\u001b[0m...              \n",
      "  \u001b[36m⠴\u001b[0m Installing \u001b[1;32msnowballstemmer\u001b[0m \u001b[33m2.2.0\u001b[0m...        \n",
      "  \u001b[36m⠴\u001b[0m Installing \u001b[1;32msphinx\u001b[0m \u001b[33m7.0.1\u001b[0m...                 \n",
      "  \u001b[36m⠴\u001b[0m Installing \u001b[1;32msphinxcontrib-applehelp\u001b[0m \u001b[33m1.0.4\u001b[0m...\n",
      "  \u001b[36m⠴\u001b[0m Installing \u001b[1;32msphinxcontrib-devhelp\u001b[0m \u001b[33m1.0.2\u001b[0m...  \n",
      "\u001b[2K\u001b[1A\u001b[2K\u001b[1A\u001b[2K\u001b[1A\u001b[2K\u001b[1A\u001b[2K\u001b[1A\u001b[2K\u001b[1A\u001b[2K\u001b[1A\u001b[2K  \u001b[36m⠦\u001b[0m Installing \u001b[1;32mbabel\u001b[0m \u001b[33m2.12.1\u001b[0m...                 \n",
      "  \u001b[36m⠦\u001b[0m Installing \u001b[1;32mdocutils\u001b[0m \u001b[33m0.20.1\u001b[0m...              \n",
      "  \u001b[36m⠦\u001b[0m Installing \u001b[1;32mpygments\u001b[0m \u001b[33m2.15.1\u001b[0m...              \n",
      "  \u001b[36m⠦\u001b[0m Installing \u001b[1;32msnowballstemmer\u001b[0m \u001b[33m2.2.0\u001b[0m...        \n",
      "  \u001b[36m⠦\u001b[0m Installing \u001b[1;32msphinx\u001b[0m \u001b[33m7.0.1\u001b[0m...                 \n",
      "  \u001b[36m⠦\u001b[0m Installing \u001b[1;32msphinxcontrib-applehelp\u001b[0m \u001b[33m1.0.4\u001b[0m...\n",
      "  \u001b[36m⠦\u001b[0m Installing \u001b[1;32msphinxcontrib-devhelp\u001b[0m \u001b[33m1.0.2\u001b[0m...  \n",
      "\u001b[2K\u001b[1A\u001b[2K\u001b[1A\u001b[2K\u001b[1A\u001b[2K\u001b[1A\u001b[2K\u001b[1A\u001b[2K\u001b[1A\u001b[2K\u001b[1A\u001b[2K  \u001b[32m✔\u001b[0m Install \u001b[1;32msnowballstemmer\u001b[0m \u001b[33m2.2.0\u001b[0m successful\n",
      "  \u001b[36m⠦\u001b[0m Installing \u001b[1;32mbabel\u001b[0m \u001b[33m2.12.1\u001b[0m...                 \n",
      "  \u001b[36m⠦\u001b[0m Installing \u001b[1;32mdocutils\u001b[0m \u001b[33m0.20.1\u001b[0m...              \n",
      "  \u001b[36m⠦\u001b[0m Installing \u001b[1;32mpygments\u001b[0m \u001b[33m2.15.1\u001b[0m...              \n",
      "  \u001b[36m⠦\u001b[0m Installing \u001b[1;32msnowballstemmer\u001b[0m \u001b[33m2.2.0\u001b[0m...        \n",
      "  \u001b[36m⠦\u001b[0m Installing \u001b[1;32msphinx\u001b[0m \u001b[33m7.0.1\u001b[0m...                 \n",
      "  \u001b[36m⠦\u001b[0m Installing \u001b[1;32msphinxcontrib-applehelp\u001b[0m \u001b[33m1.0.4\u001b[0m...\n",
      "  \u001b[36m⠦\u001b[0m Installing \u001b[1;32msphinxcontrib-devhelp\u001b[0m \u001b[33m1.0.2\u001b[0m...  \n",
      "\u001b[2K\u001b[1A\u001b[2K\u001b[1A\u001b[2K\u001b[1A\u001b[2K\u001b[1A\u001b[2K\u001b[1A\u001b[2K\u001b[1A\u001b[2K\u001b[1A\u001b[2K  \u001b[36m⠧\u001b[0m Installing \u001b[1;32mbabel\u001b[0m \u001b[33m2.12.1\u001b[0m...                 \n",
      "  \u001b[36m⠧\u001b[0m Installing \u001b[1;32mdocutils\u001b[0m \u001b[33m0.20.1\u001b[0m...              \n",
      "  \u001b[36m⠧\u001b[0m Installing \u001b[1;32mpygments\u001b[0m \u001b[33m2.15.1\u001b[0m...              \n",
      "  \u001b[36m⠧\u001b[0m Installing \u001b[1;32msphinx\u001b[0m \u001b[33m7.0.1\u001b[0m...                 \n",
      "  \u001b[36m⠧\u001b[0m Installing \u001b[1;32msphinxcontrib-applehelp\u001b[0m \u001b[33m1.0.4\u001b[0m...\n",
      "  \u001b[36m⠧\u001b[0m Installing \u001b[1;32msphinxcontrib-devhelp\u001b[0m \u001b[33m1.0.2\u001b[0m...  \n",
      "  \u001b[36m⠧\u001b[0m Installing \u001b[1;32msphinxcontrib-htmlhelp\u001b[0m \u001b[33m2.0.1\u001b[0m... \n"
     ]
    },
    {
     "name": "stdout",
     "output_type": "stream",
     "text": [
      "\u001b[2K\u001b[1A\u001b[2K\u001b[1A\u001b[2K\u001b[1A\u001b[2K\u001b[1A\u001b[2K\u001b[1A\u001b[2K\u001b[1A\u001b[2K\u001b[1A\u001b[2K  \u001b[36m⠧\u001b[0m Installing \u001b[1;32mbabel\u001b[0m \u001b[33m2.12.1\u001b[0m...                 \n",
      "  \u001b[36m⠧\u001b[0m Installing \u001b[1;32mdocutils\u001b[0m \u001b[33m0.20.1\u001b[0m...              \n",
      "  \u001b[36m⠧\u001b[0m Installing \u001b[1;32mpygments\u001b[0m \u001b[33m2.15.1\u001b[0m...              \n",
      "  \u001b[36m⠧\u001b[0m Installing \u001b[1;32msphinx\u001b[0m \u001b[33m7.0.1\u001b[0m...                 \n",
      "  \u001b[36m⠧\u001b[0m Installing \u001b[1;32msphinxcontrib-applehelp\u001b[0m \u001b[33m1.0.4\u001b[0m...\n",
      "  \u001b[36m⠧\u001b[0m Installing \u001b[1;32msphinxcontrib-devhelp\u001b[0m \u001b[33m1.0.2\u001b[0m...  \n",
      "  \u001b[36m⠧\u001b[0m Installing \u001b[1;32msphinxcontrib-htmlhelp\u001b[0m \u001b[33m2.0.1\u001b[0m... \n",
      "\u001b[2K\u001b[1A\u001b[2K\u001b[1A\u001b[2K\u001b[1A\u001b[2K\u001b[1A\u001b[2K\u001b[1A\u001b[2K\u001b[1A\u001b[2K\u001b[1A\u001b[2K  \u001b[32m✔\u001b[0m Install \u001b[1;32msphinxcontrib-jsmath\u001b[0m \u001b[33m1.0.1\u001b[0m successful\n",
      "  \u001b[36m⠧\u001b[0m Installing \u001b[1;32mbabel\u001b[0m \u001b[33m2.12.1\u001b[0m...                 \n",
      "  \u001b[36m⠧\u001b[0m Installing \u001b[1;32mdocutils\u001b[0m \u001b[33m0.20.1\u001b[0m...              \n",
      "  \u001b[36m⠧\u001b[0m Installing \u001b[1;32mpygments\u001b[0m \u001b[33m2.15.1\u001b[0m...              \n",
      "  \u001b[36m⠧\u001b[0m Installing \u001b[1;32msphinx\u001b[0m \u001b[33m7.0.1\u001b[0m...                 \n",
      "  \u001b[36m⠧\u001b[0m Installing \u001b[1;32msphinxcontrib-applehelp\u001b[0m \u001b[33m1.0.4\u001b[0m...\n",
      "  \u001b[36m⠧\u001b[0m Installing \u001b[1;32msphinxcontrib-devhelp\u001b[0m \u001b[33m1.0.2\u001b[0m...  \n",
      "  \u001b[36m⠧\u001b[0m Installing \u001b[1;32msphinxcontrib-htmlhelp\u001b[0m \u001b[33m2.0.1\u001b[0m... \n",
      "\u001b[2K\u001b[1A\u001b[2K\u001b[1A\u001b[2K\u001b[1A\u001b[2K\u001b[1A\u001b[2K\u001b[1A\u001b[2K\u001b[1A\u001b[2K\u001b[1A\u001b[2K  \u001b[36m⠇\u001b[0m Installing \u001b[1;32mbabel\u001b[0m \u001b[33m2.12.1\u001b[0m...                 \n",
      "  \u001b[36m⠇\u001b[0m Installing \u001b[1;32mdocutils\u001b[0m \u001b[33m0.20.1\u001b[0m...              \n",
      "  \u001b[36m⠇\u001b[0m Installing \u001b[1;32mpygments\u001b[0m \u001b[33m2.15.1\u001b[0m...              \n",
      "  \u001b[36m⠇\u001b[0m Installing \u001b[1;32msphinx\u001b[0m \u001b[33m7.0.1\u001b[0m...                 \n",
      "  \u001b[36m⠇\u001b[0m Installing \u001b[1;32msphinxcontrib-applehelp\u001b[0m \u001b[33m1.0.4\u001b[0m...\n",
      "  \u001b[36m⠇\u001b[0m Installing \u001b[1;32msphinxcontrib-devhelp\u001b[0m \u001b[33m1.0.2\u001b[0m...  \n",
      "  \u001b[36m⠇\u001b[0m Installing \u001b[1;32msphinxcontrib-htmlhelp\u001b[0m \u001b[33m2.0.1\u001b[0m... \n",
      "\u001b[2K\u001b[1A\u001b[2K\u001b[1A\u001b[2K\u001b[1A\u001b[2K\u001b[1A\u001b[2K\u001b[1A\u001b[2K\u001b[1A\u001b[2K\u001b[1A\u001b[2K  \u001b[36m⠏\u001b[0m Installing \u001b[1;32mbabel\u001b[0m \u001b[33m2.12.1\u001b[0m...                 \n",
      "  \u001b[36m⠏\u001b[0m Installing \u001b[1;32mdocutils\u001b[0m \u001b[33m0.20.1\u001b[0m...              \n",
      "  \u001b[36m⠏\u001b[0m Installing \u001b[1;32mpygments\u001b[0m \u001b[33m2.15.1\u001b[0m...              \n",
      "  \u001b[36m⠏\u001b[0m Installing \u001b[1;32msphinx\u001b[0m \u001b[33m7.0.1\u001b[0m...                 \n",
      "  \u001b[36m⠏\u001b[0m Installing \u001b[1;32msphinxcontrib-applehelp\u001b[0m \u001b[33m1.0.4\u001b[0m...\n",
      "  \u001b[36m⠏\u001b[0m Installing \u001b[1;32msphinxcontrib-devhelp\u001b[0m \u001b[33m1.0.2\u001b[0m...  \n",
      "  \u001b[36m⠏\u001b[0m Installing \u001b[1;32msphinxcontrib-htmlhelp\u001b[0m \u001b[33m2.0.1\u001b[0m... \n",
      "\u001b[2K\u001b[1A\u001b[2K\u001b[1A\u001b[2K\u001b[1A\u001b[2K\u001b[1A\u001b[2K\u001b[1A\u001b[2K\u001b[1A\u001b[2K\u001b[1A\u001b[2K  \u001b[36m⠋\u001b[0m Installing \u001b[1;32mbabel\u001b[0m \u001b[33m2.12.1\u001b[0m...                 \n",
      "  \u001b[36m⠋\u001b[0m Installing \u001b[1;32mdocutils\u001b[0m \u001b[33m0.20.1\u001b[0m...              \n",
      "  \u001b[36m⠋\u001b[0m Installing \u001b[1;32mpygments\u001b[0m \u001b[33m2.15.1\u001b[0m...              \n",
      "  \u001b[36m⠋\u001b[0m Installing \u001b[1;32msphinx\u001b[0m \u001b[33m7.0.1\u001b[0m...                 \n",
      "  \u001b[36m⠋\u001b[0m Installing \u001b[1;32msphinxcontrib-applehelp\u001b[0m \u001b[33m1.0.4\u001b[0m...\n",
      "  \u001b[36m⠋\u001b[0m Installing \u001b[1;32msphinxcontrib-devhelp\u001b[0m \u001b[33m1.0.2\u001b[0m...  \n",
      "  \u001b[36m⠋\u001b[0m Installing \u001b[1;32msphinxcontrib-htmlhelp\u001b[0m \u001b[33m2.0.1\u001b[0m... \n",
      "\u001b[2K\u001b[1A\u001b[2K\u001b[1A\u001b[2K\u001b[1A\u001b[2K\u001b[1A\u001b[2K\u001b[1A\u001b[2K\u001b[1A\u001b[2K\u001b[1A\u001b[2K  \u001b[36m⠙\u001b[0m Installing \u001b[1;32mbabel\u001b[0m \u001b[33m2.12.1\u001b[0m...                 \n",
      "  \u001b[36m⠙\u001b[0m Installing \u001b[1;32mdocutils\u001b[0m \u001b[33m0.20.1\u001b[0m...              \n",
      "  \u001b[36m⠙\u001b[0m Installing \u001b[1;32mpygments\u001b[0m \u001b[33m2.15.1\u001b[0m...              \n",
      "  \u001b[36m⠙\u001b[0m Installing \u001b[1;32msphinx\u001b[0m \u001b[33m7.0.1\u001b[0m...                 \n",
      "  \u001b[36m⠙\u001b[0m Installing \u001b[1;32msphinxcontrib-applehelp\u001b[0m \u001b[33m1.0.4\u001b[0m...\n",
      "  \u001b[36m⠙\u001b[0m Installing \u001b[1;32msphinxcontrib-devhelp\u001b[0m \u001b[33m1.0.2\u001b[0m...  \n",
      "  \u001b[36m⠙\u001b[0m Installing \u001b[1;32msphinxcontrib-htmlhelp\u001b[0m \u001b[33m2.0.1\u001b[0m... \n",
      "\u001b[2K\u001b[1A\u001b[2K\u001b[1A\u001b[2K\u001b[1A\u001b[2K\u001b[1A\u001b[2K\u001b[1A\u001b[2K\u001b[1A\u001b[2K\u001b[1A\u001b[2K  \u001b[32m✔\u001b[0m Install \u001b[1;32msphinxcontrib-devhelp\u001b[0m \u001b[33m1.0.2\u001b[0m successful\n",
      "  \u001b[36m⠙\u001b[0m Installing \u001b[1;32mbabel\u001b[0m \u001b[33m2.12.1\u001b[0m...                 \n",
      "  \u001b[36m⠙\u001b[0m Installing \u001b[1;32mdocutils\u001b[0m \u001b[33m0.20.1\u001b[0m...              \n",
      "  \u001b[36m⠙\u001b[0m Installing \u001b[1;32mpygments\u001b[0m \u001b[33m2.15.1\u001b[0m...              \n",
      "  \u001b[36m⠙\u001b[0m Installing \u001b[1;32msphinx\u001b[0m \u001b[33m7.0.1\u001b[0m...                 \n",
      "  \u001b[36m⠙\u001b[0m Installing \u001b[1;32msphinxcontrib-applehelp\u001b[0m \u001b[33m1.0.4\u001b[0m...\n",
      "  \u001b[36m⠙\u001b[0m Installing \u001b[1;32msphinxcontrib-devhelp\u001b[0m \u001b[33m1.0.2\u001b[0m...  \n",
      "  \u001b[36m⠙\u001b[0m Installing \u001b[1;32msphinxcontrib-htmlhelp\u001b[0m \u001b[33m2.0.1\u001b[0m... \n",
      "\u001b[2K\u001b[1A\u001b[2K\u001b[1A\u001b[2K\u001b[1A\u001b[2K\u001b[1A\u001b[2K\u001b[1A\u001b[2K\u001b[1A\u001b[2K\u001b[1A\u001b[2K  \u001b[36m⠹\u001b[0m Installing \u001b[1;32mbabel\u001b[0m \u001b[33m2.12.1\u001b[0m...                       \n",
      "  \u001b[36m⠹\u001b[0m Installing \u001b[1;32mdocutils\u001b[0m \u001b[33m0.20.1\u001b[0m...                    \n",
      "  \u001b[36m⠹\u001b[0m Installing \u001b[1;32mpygments\u001b[0m \u001b[33m2.15.1\u001b[0m...                    \n",
      "  \u001b[36m⠹\u001b[0m Installing \u001b[1;32msphinx\u001b[0m \u001b[33m7.0.1\u001b[0m...                       \n",
      "  \u001b[36m⠹\u001b[0m Installing \u001b[1;32msphinxcontrib-applehelp\u001b[0m \u001b[33m1.0.4\u001b[0m...      \n",
      "  \u001b[36m⠹\u001b[0m Installing \u001b[1;32msphinxcontrib-htmlhelp\u001b[0m \u001b[33m2.0.1\u001b[0m...       \n",
      "  \u001b[36m⠹\u001b[0m Installing \u001b[1;32msphinxcontrib-qthelp\u001b[0m \u001b[33m1.0.3\u001b[0m...         \n",
      "\u001b[2K\u001b[1A\u001b[2K\u001b[1A\u001b[2K\u001b[1A\u001b[2K\u001b[1A\u001b[2K\u001b[1A\u001b[2K\u001b[1A\u001b[2K\u001b[1A\u001b[2K  \u001b[32m✔\u001b[0m Install \u001b[1;32msphinxcontrib-applehelp\u001b[0m \u001b[33m1.0.4\u001b[0m successful\n",
      "  \u001b[36m⠹\u001b[0m Installing \u001b[1;32mbabel\u001b[0m \u001b[33m2.12.1\u001b[0m...                       \n",
      "  \u001b[36m⠹\u001b[0m Installing \u001b[1;32mdocutils\u001b[0m \u001b[33m0.20.1\u001b[0m...                    \n",
      "  \u001b[36m⠹\u001b[0m Installing \u001b[1;32mpygments\u001b[0m \u001b[33m2.15.1\u001b[0m...                    \n",
      "  \u001b[36m⠹\u001b[0m Installing \u001b[1;32msphinx\u001b[0m \u001b[33m7.0.1\u001b[0m...                       \n",
      "  \u001b[36m⠹\u001b[0m Installing \u001b[1;32msphinxcontrib-applehelp\u001b[0m \u001b[33m1.0.4\u001b[0m...      \n",
      "  \u001b[36m⠹\u001b[0m Installing \u001b[1;32msphinxcontrib-htmlhelp\u001b[0m \u001b[33m2.0.1\u001b[0m...       \n",
      "  \u001b[36m⠹\u001b[0m Installing \u001b[1;32msphinxcontrib-qthelp\u001b[0m \u001b[33m1.0.3\u001b[0m...         \n",
      "\u001b[2K\u001b[1A\u001b[2K\u001b[1A\u001b[2K\u001b[1A\u001b[2K\u001b[1A\u001b[2K\u001b[1A\u001b[2K\u001b[1A\u001b[2K\u001b[1A\u001b[2K  \u001b[36m⠹\u001b[0m Installing \u001b[1;32mbabel\u001b[0m \u001b[33m2.12.1\u001b[0m...                       \n",
      "  \u001b[36m⠹\u001b[0m Installing \u001b[1;32mdocutils\u001b[0m \u001b[33m0.20.1\u001b[0m...                    \n",
      "  \u001b[36m⠹\u001b[0m Installing \u001b[1;32mpygments\u001b[0m \u001b[33m2.15.1\u001b[0m...                    \n",
      "  \u001b[36m⠹\u001b[0m Installing \u001b[1;32msphinx\u001b[0m \u001b[33m7.0.1\u001b[0m...                       \n",
      "  \u001b[36m⠹\u001b[0m Installing \u001b[1;32msphinxcontrib-htmlhelp\u001b[0m \u001b[33m2.0.1\u001b[0m...       \n",
      "  \u001b[36m⠹\u001b[0m Installing \u001b[1;32msphinxcontrib-qthelp\u001b[0m \u001b[33m1.0.3\u001b[0m...         \n",
      "  \u001b[36m⠹\u001b[0m Installing \u001b[1;32msphinxcontrib-serializinghtml\u001b[0m \u001b[33m1.1.5\u001b[0m...\n",
      "\u001b[2K\u001b[1A\u001b[2K\u001b[1A\u001b[2K\u001b[1A\u001b[2K\u001b[1A\u001b[2K\u001b[1A\u001b[2K\u001b[1A\u001b[2K\u001b[1A\u001b[2K  \u001b[36m⠸\u001b[0m Installing \u001b[1;32mbabel\u001b[0m \u001b[33m2.12.1\u001b[0m...                       \n",
      "  \u001b[36m⠸\u001b[0m Installing \u001b[1;32mdocutils\u001b[0m \u001b[33m0.20.1\u001b[0m...                    \n",
      "  \u001b[36m⠸\u001b[0m Installing \u001b[1;32mpygments\u001b[0m \u001b[33m2.15.1\u001b[0m...                    \n",
      "  \u001b[36m⠸\u001b[0m Installing \u001b[1;32msphinx\u001b[0m \u001b[33m7.0.1\u001b[0m...                       \n",
      "  \u001b[36m⠸\u001b[0m Installing \u001b[1;32msphinxcontrib-htmlhelp\u001b[0m \u001b[33m2.0.1\u001b[0m...       \n",
      "  \u001b[36m⠸\u001b[0m Installing \u001b[1;32msphinxcontrib-qthelp\u001b[0m \u001b[33m1.0.3\u001b[0m...         \n",
      "  \u001b[36m⠸\u001b[0m Installing \u001b[1;32msphinxcontrib-serializinghtml\u001b[0m \u001b[33m1.1.5\u001b[0m...\n",
      "\u001b[2K\u001b[1A\u001b[2K\u001b[1A\u001b[2K\u001b[1A\u001b[2K\u001b[1A\u001b[2K\u001b[1A\u001b[2K\u001b[1A\u001b[2K\u001b[1A\u001b[2K  \u001b[32m✔\u001b[0m Install \u001b[1;32msphinxcontrib-htmlhelp\u001b[0m \u001b[33m2.0.1\u001b[0m successful\n",
      "  \u001b[36m⠸\u001b[0m Installing \u001b[1;32mbabel\u001b[0m \u001b[33m2.12.1\u001b[0m...                       \n",
      "  \u001b[36m⠸\u001b[0m Installing \u001b[1;32mdocutils\u001b[0m \u001b[33m0.20.1\u001b[0m...                    \n",
      "  \u001b[36m⠸\u001b[0m Installing \u001b[1;32mpygments\u001b[0m \u001b[33m2.15.1\u001b[0m...                    \n",
      "  \u001b[36m⠸\u001b[0m Installing \u001b[1;32msphinx\u001b[0m \u001b[33m7.0.1\u001b[0m...                       \n",
      "  \u001b[36m⠸\u001b[0m Installing \u001b[1;32msphinxcontrib-htmlhelp\u001b[0m \u001b[33m2.0.1\u001b[0m...       \n",
      "  \u001b[36m⠸\u001b[0m Installing \u001b[1;32msphinxcontrib-qthelp\u001b[0m \u001b[33m1.0.3\u001b[0m...         \n",
      "  \u001b[36m⠸\u001b[0m Installing \u001b[1;32msphinxcontrib-serializinghtml\u001b[0m \u001b[33m1.1.5\u001b[0m...\n",
      "\u001b[2K\u001b[1A\u001b[2K\u001b[1A\u001b[2K\u001b[1A\u001b[2K\u001b[1A\u001b[2K\u001b[1A\u001b[2K\u001b[1A\u001b[2K\u001b[1A\u001b[2K  \u001b[36m⠼\u001b[0m Installing \u001b[1;32mbabel\u001b[0m \u001b[33m2.12.1\u001b[0m...                       \n",
      "  \u001b[36m⠼\u001b[0m Installing \u001b[1;32mdocutils\u001b[0m \u001b[33m0.20.1\u001b[0m...                    \n",
      "  \u001b[36m⠼\u001b[0m Installing \u001b[1;32mpygments\u001b[0m \u001b[33m2.15.1\u001b[0m...                    \n",
      "  \u001b[36m⠼\u001b[0m Installing \u001b[1;32msphinx\u001b[0m \u001b[33m7.0.1\u001b[0m...                       \n",
      "  \u001b[36m⠼\u001b[0m Installing \u001b[1;32msphinxcontrib-qthelp\u001b[0m \u001b[33m1.0.3\u001b[0m...         \n",
      "  \u001b[36m⠼\u001b[0m Installing \u001b[1;32msphinxcontrib-serializinghtml\u001b[0m \u001b[33m1.1.5\u001b[0m...\n"
     ]
    },
    {
     "name": "stdout",
     "output_type": "stream",
     "text": [
      "\u001b[2K\u001b[1A\u001b[2K\u001b[1A\u001b[2K\u001b[1A\u001b[2K\u001b[1A\u001b[2K\u001b[1A\u001b[2K\u001b[1A\u001b[2K  \u001b[36m⠴\u001b[0m Installing \u001b[1;32mbabel\u001b[0m \u001b[33m2.12.1\u001b[0m...                       \n",
      "  \u001b[36m⠴\u001b[0m Installing \u001b[1;32mdocutils\u001b[0m \u001b[33m0.20.1\u001b[0m...                    \n",
      "  \u001b[36m⠴\u001b[0m Installing \u001b[1;32mpygments\u001b[0m \u001b[33m2.15.1\u001b[0m...                    \n",
      "  \u001b[36m⠴\u001b[0m Installing \u001b[1;32msphinx\u001b[0m \u001b[33m7.0.1\u001b[0m...                       \n",
      "  \u001b[36m⠴\u001b[0m Installing \u001b[1;32msphinxcontrib-qthelp\u001b[0m \u001b[33m1.0.3\u001b[0m...         \n",
      "  \u001b[36m⠴\u001b[0m Installing \u001b[1;32msphinxcontrib-serializinghtml\u001b[0m \u001b[33m1.1.5\u001b[0m...\n",
      "\u001b[2K\u001b[1A\u001b[2K\u001b[1A\u001b[2K\u001b[1A\u001b[2K\u001b[1A\u001b[2K\u001b[1A\u001b[2K\u001b[1A\u001b[2K  \u001b[32m✔\u001b[0m Install \u001b[1;32murllib3\u001b[0m \u001b[33m2.0.3\u001b[0m successful\n",
      "  \u001b[36m⠴\u001b[0m Installing \u001b[1;32mbabel\u001b[0m \u001b[33m2.12.1\u001b[0m...                       \n",
      "  \u001b[36m⠴\u001b[0m Installing \u001b[1;32mdocutils\u001b[0m \u001b[33m0.20.1\u001b[0m...                    \n",
      "  \u001b[36m⠴\u001b[0m Installing \u001b[1;32mpygments\u001b[0m \u001b[33m2.15.1\u001b[0m...                    \n",
      "  \u001b[36m⠴\u001b[0m Installing \u001b[1;32msphinx\u001b[0m \u001b[33m7.0.1\u001b[0m...                       \n",
      "  \u001b[36m⠴\u001b[0m Installing \u001b[1;32msphinxcontrib-qthelp\u001b[0m \u001b[33m1.0.3\u001b[0m...         \n",
      "  \u001b[36m⠴\u001b[0m Installing \u001b[1;32msphinxcontrib-serializinghtml\u001b[0m \u001b[33m1.1.5\u001b[0m...\n",
      "\u001b[2K\u001b[1A\u001b[2K\u001b[1A\u001b[2K\u001b[1A\u001b[2K\u001b[1A\u001b[2K\u001b[1A\u001b[2K\u001b[1A\u001b[2K  \u001b[32m✔\u001b[0m Install \u001b[1;32msphinxcontrib-qthelp\u001b[0m \u001b[33m1.0.3\u001b[0m successful\n",
      "  \u001b[36m⠴\u001b[0m Installing \u001b[1;32mbabel\u001b[0m \u001b[33m2.12.1\u001b[0m...                       \n",
      "  \u001b[36m⠴\u001b[0m Installing \u001b[1;32mdocutils\u001b[0m \u001b[33m0.20.1\u001b[0m...                    \n",
      "  \u001b[36m⠴\u001b[0m Installing \u001b[1;32mpygments\u001b[0m \u001b[33m2.15.1\u001b[0m...                    \n",
      "  \u001b[36m⠴\u001b[0m Installing \u001b[1;32msphinx\u001b[0m \u001b[33m7.0.1\u001b[0m...                       \n",
      "  \u001b[36m⠴\u001b[0m Installing \u001b[1;32msphinxcontrib-qthelp\u001b[0m \u001b[33m1.0.3\u001b[0m...         \n",
      "  \u001b[36m⠴\u001b[0m Installing \u001b[1;32msphinxcontrib-serializinghtml\u001b[0m \u001b[33m1.1.5\u001b[0m...\n",
      "\u001b[2K\u001b[1A\u001b[2K\u001b[1A\u001b[2K\u001b[1A\u001b[2K\u001b[1A\u001b[2K\u001b[1A\u001b[2K\u001b[1A\u001b[2K  \u001b[32m✔\u001b[0m Install \u001b[1;32mdocutils\u001b[0m \u001b[33m0.20.1\u001b[0m successful\n",
      "  \u001b[36m⠴\u001b[0m Installing \u001b[1;32mbabel\u001b[0m \u001b[33m2.12.1\u001b[0m...                       \n",
      "  \u001b[36m⠴\u001b[0m Installing \u001b[1;32mdocutils\u001b[0m \u001b[33m0.20.1\u001b[0m...                    \n",
      "  \u001b[36m⠴\u001b[0m Installing \u001b[1;32mpygments\u001b[0m \u001b[33m2.15.1\u001b[0m...                    \n",
      "  \u001b[36m⠴\u001b[0m Installing \u001b[1;32msphinx\u001b[0m \u001b[33m7.0.1\u001b[0m...                       \n",
      "  \u001b[36m⠴\u001b[0m Installing \u001b[1;32msphinxcontrib-qthelp\u001b[0m \u001b[33m1.0.3\u001b[0m...         \n",
      "  \u001b[36m⠴\u001b[0m Installing \u001b[1;32msphinxcontrib-serializinghtml\u001b[0m \u001b[33m1.1.5\u001b[0m...\n",
      "\u001b[2K\u001b[1A\u001b[2K\u001b[1A\u001b[2K\u001b[1A\u001b[2K\u001b[1A\u001b[2K\u001b[1A\u001b[2K\u001b[1A\u001b[2K  \u001b[36m⠧\u001b[0m Installing \u001b[1;32mbabel\u001b[0m \u001b[33m2.12.1\u001b[0m...                       \n",
      "  \u001b[36m⠧\u001b[0m Installing \u001b[1;32mpygments\u001b[0m \u001b[33m2.15.1\u001b[0m...                    \n",
      "  \u001b[36m⠧\u001b[0m Installing \u001b[1;32msphinx\u001b[0m \u001b[33m7.0.1\u001b[0m...                       \n",
      "\u001b[2K\u001b[1A\u001b[2K\u001b[1A\u001b[2K\u001b[1A\u001b[2K  \u001b[36m⠇\u001b[0m Installing \u001b[1;32mbabel\u001b[0m \u001b[33m2.12.1\u001b[0m...                       \n",
      "  \u001b[36m⠇\u001b[0m Installing \u001b[1;32mpygments\u001b[0m \u001b[33m2.15.1\u001b[0m...                    \n",
      "  \u001b[36m⠇\u001b[0m Installing \u001b[1;32msphinx\u001b[0m \u001b[33m7.0.1\u001b[0m...                       \n",
      "\u001b[2K\u001b[1A\u001b[2K\u001b[1A\u001b[2K\u001b[1A\u001b[2K  \u001b[32m✔\u001b[0m Install \u001b[1;32msphinxcontrib-serializinghtml\u001b[0m \u001b[33m1.1.5\u001b[0m successful\n",
      "  \u001b[36m⠇\u001b[0m Installing \u001b[1;32mbabel\u001b[0m \u001b[33m2.12.1\u001b[0m...                       \n",
      "  \u001b[36m⠇\u001b[0m Installing \u001b[1;32mpygments\u001b[0m \u001b[33m2.15.1\u001b[0m...                    \n",
      "  \u001b[36m⠇\u001b[0m Installing \u001b[1;32msphinx\u001b[0m \u001b[33m7.0.1\u001b[0m...                       \n",
      "\u001b[2K\u001b[1A\u001b[2K\u001b[1A\u001b[2K\u001b[1A\u001b[2K  \u001b[36m⠏\u001b[0m Installing \u001b[1;32mbabel\u001b[0m \u001b[33m2.12.1\u001b[0m...   \n",
      "  \u001b[36m⠏\u001b[0m Installing \u001b[1;32mpygments\u001b[0m \u001b[33m2.15.1\u001b[0m...\n",
      "\u001b[2K\u001b[1A\u001b[2K\u001b[1A\u001b[2K  \u001b[32m✔\u001b[0m Install \u001b[1;32mpygments\u001b[0m \u001b[33m2.15.1\u001b[0m successful\n",
      "  \u001b[36m⠏\u001b[0m Installing \u001b[1;32mbabel\u001b[0m \u001b[33m2.12.1\u001b[0m...   \n",
      "  \u001b[36m⠏\u001b[0m Installing \u001b[1;32mpygments\u001b[0m \u001b[33m2.15.1\u001b[0m...\n",
      "\u001b[2K\u001b[1A\u001b[2K\u001b[1A\u001b[2K  \u001b[36m⠋\u001b[0m Installing \u001b[1;32mbabel\u001b[0m \u001b[33m2.12.1\u001b[0m...\n",
      "\u001b[2K\u001b[1A\u001b[2K  \u001b[36m⠹\u001b[0m Installing \u001b[1;32mbabel\u001b[0m \u001b[33m2.12.1\u001b[0m...\n",
      "\u001b[2K\u001b[1A\u001b[2K  \u001b[32m✔\u001b[0m Install \u001b[1;32msphinx\u001b[0m \u001b[33m7.0.1\u001b[0m successful\n",
      "  \u001b[36m⠹\u001b[0m Installing \u001b[1;32mbabel\u001b[0m \u001b[33m2.12.1\u001b[0m...\n",
      "\u001b[2K  \u001b[32m✔\u001b[0m Install \u001b[1;32mbabel\u001b[0m \u001b[33m2.12.1\u001b[0m successful...\n",
      "\u001b[2K36m⠼\u001b[0m Installing \u001b[1;32mbabel\u001b[0m \u001b[33m2.12.1\u001b[0m...\n",
      "🎉 All complete!\n",
      "\u001b[2K36m⠼\u001b[0m Installing \u001b[1;32mbabel\u001b[0m \u001b[33m2.12.1\u001b[0m...\n",
      "\u001b[?25h"
     ]
    }
   ],
   "source": [
    "!pdm add sphinx"
   ]
  },
  {
   "cell_type": "code",
   "execution_count": 16,
   "id": "2ff787be",
   "metadata": {},
   "outputs": [
    {
     "name": "stdout",
     "output_type": "stream",
     "text": [
      "\u001b[1;32msphinx\u001b[0m \u001b[33m7.0.1\u001b[0m [ required: >=7.0.1 ]\r\n",
      "├── \u001b[1;32malabaster\u001b[0m \u001b[33m0.7.13\u001b[0m [ required: <0.8,>=0.7 ]\r\n",
      "├── \u001b[1;32mbabel\u001b[0m \u001b[33m2.12.1\u001b[0m [ required: >=2.9 ]\r\n",
      "├── \u001b[1;32mdocutils\u001b[0m \u001b[33m0.20.1\u001b[0m [ required: <0.21,>=0.18.1 ]\r\n",
      "├── \u001b[1;32mimagesize\u001b[0m \u001b[33m1.4.1\u001b[0m [ required: >=1.3 ]\r\n",
      "├── \u001b[1;32mjinja2\u001b[0m \u001b[33m3.1.2\u001b[0m [ required: >=3.0 ]\r\n",
      "│   └── \u001b[1;32mmarkupsafe\u001b[0m \u001b[33m2.1.3\u001b[0m [ required: >=2.0 ]\r\n",
      "├── \u001b[1;32mpackaging\u001b[0m \u001b[33m23.1\u001b[0m [ required: >=21.0 ]\r\n",
      "├── \u001b[1;32mpygments\u001b[0m \u001b[33m2.15.1\u001b[0m [ required: >=2.13 ]\r\n",
      "├── \u001b[1;32mrequests\u001b[0m \u001b[33m2.31.0\u001b[0m [ required: >=2.25.0 ]\r\n",
      "│   ├── \u001b[1;32mcertifi\u001b[0m \u001b[33m2023.5.7\u001b[0m [ required: >=2017.4.17 ]\r\n",
      "│   ├── \u001b[1;32mcharset-normalizer\u001b[0m \u001b[33m3.1.0\u001b[0m [ required: <4,>=2 ]\r\n",
      "│   ├── \u001b[1;32midna\u001b[0m \u001b[33m3.4\u001b[0m [ required: <4,>=2.5 ]\r\n",
      "│   └── \u001b[1;32murllib3\u001b[0m \u001b[33m2.0.3\u001b[0m [ required: <3,>=1.21.1 ]\r\n",
      "├── \u001b[1;32msnowballstemmer\u001b[0m \u001b[33m2.2.0\u001b[0m [ required: >=2.0 ]\r\n",
      "├── \u001b[1;32msphinxcontrib-applehelp\u001b[0m \u001b[33m1.0.4\u001b[0m [ required: Any ]\r\n",
      "├── \u001b[1;32msphinxcontrib-devhelp\u001b[0m \u001b[33m1.0.2\u001b[0m [ required: Any ]\r\n",
      "├── \u001b[1;32msphinxcontrib-htmlhelp\u001b[0m \u001b[33m2.0.1\u001b[0m [ required: >=2.0.0 ]\r\n",
      "├── \u001b[1;32msphinxcontrib-jsmath\u001b[0m \u001b[33m1.0.1\u001b[0m [ required: Any ]\r\n",
      "├── \u001b[1;32msphinxcontrib-qthelp\u001b[0m \u001b[33m1.0.3\u001b[0m [ required: Any ]\r\n",
      "└── \u001b[1;32msphinxcontrib-serializinghtml\u001b[0m \u001b[33m1.1.5\u001b[0m [ required: >=1.1.5 ]\r\n"
     ]
    }
   ],
   "source": [
    "!pdm list --graph"
   ]
  },
  {
   "cell_type": "markdown",
   "id": "1e00036d",
   "metadata": {},
   "source": [
    "## create book"
   ]
  },
  {
   "cell_type": "code",
   "execution_count": 17,
   "id": "632a6a59",
   "metadata": {},
   "outputs": [
    {
     "name": "stdout",
     "output_type": "stream",
     "text": [
      "\r\n",
      "\u001b[01mFinished: An initial directory structure has been created.\u001b[39;49;00m\r\n",
      "\r\n",
      "You should now populate your master file /home/yblee/workspace/sphinx_demo/docs/index.rst and create other documentation\r\n",
      "source files. Use the Makefile to build the docs, like so:\r\n",
      "   make builder\r\n",
      "where \"builder\" is one of the supported builders, e.g. html, latex or linkcheck.\r\n",
      "\r\n"
     ]
    }
   ],
   "source": [
    "!pdm run sphinx-quickstart docs -q -p sph_test -a YB"
   ]
  },
  {
   "cell_type": "code",
   "execution_count": 18,
   "id": "e8b2f899",
   "metadata": {},
   "outputs": [
    {
     "name": "stdout",
     "output_type": "stream",
     "text": [
      "\u001b[01;34m.\u001b[0m\r\n",
      "├── \u001b[01;34mdocs\u001b[0m\r\n",
      "│   ├── Makefile\r\n",
      "│   ├── \u001b[01;34m_build\u001b[0m\r\n",
      "│   ├── \u001b[01;34m_static\u001b[0m\r\n",
      "│   ├── \u001b[01;34m_templates\u001b[0m\r\n",
      "│   ├── conf.py\r\n",
      "│   ├── index.rst\r\n",
      "│   └── make.bat\r\n",
      "├── pdm.lock\r\n",
      "└── pyproject.toml\r\n",
      "\r\n",
      "4 directories, 6 files\r\n"
     ]
    }
   ],
   "source": [
    "!tree ."
   ]
  },
  {
   "cell_type": "markdown",
   "id": "e731819a",
   "metadata": {},
   "source": [
    "## build"
   ]
  },
  {
   "cell_type": "code",
   "execution_count": 19,
   "id": "7eb6dc6c",
   "metadata": {},
   "outputs": [
    {
     "name": "stdout",
     "output_type": "stream",
     "text": [
      "\u001b[01mRunning Sphinx v7.0.1\u001b[39;49;00m\n",
      "\u001b[01mmaking output directory... \u001b[39;49;00mdone\n",
      "\u001b[01mbuilding [mo]: \u001b[39;49;00mtargets for 0 po files that are out of date\n",
      "\u001b[01mwriting output... \u001b[39;49;00m\n",
      "\u001b[01mbuilding [html]: \u001b[39;49;00mtargets for 1 source files that are out of date\n",
      "\u001b[01mupdating environment: \u001b[39;49;00m[new config] 1 added, 0 changed, 0 removed\n",
      "\u001b[01mreading sources... \u001b[39;49;00m[100%] \u001b[35mindex\u001b[39;49;00m                                                \n",
      "\u001b[01mlooking for now-outdated files... \u001b[39;49;00mnone found\n",
      "\u001b[01mpickling environment... \u001b[39;49;00mdone\n",
      "\u001b[01mchecking consistency... \u001b[39;49;00mdone\n",
      "\u001b[01mpreparing documents... \u001b[39;49;00mdone\n",
      "\u001b[01mwriting output... \u001b[39;49;00m[100%] \u001b[32mindex\u001b[39;49;00m                                                 \n",
      "\u001b[01mgenerating indices... \u001b[39;49;00mgenindex done\n",
      "\u001b[01mwriting additional pages... \u001b[39;49;00msearch done\n",
      "\u001b[01mcopying static files... \u001b[39;49;00mdone\n",
      "\u001b[01mcopying extra files... \u001b[39;49;00mdone\n",
      "\u001b[01mdumping search index in English (code: en)... \u001b[39;49;00mdone\n",
      "\u001b[01mdumping object inventory... \u001b[39;49;00mdone\n",
      "\u001b[01mbuild succeeded.\u001b[39;49;00m\n",
      "\n",
      "The HTML pages are in docs/_build/html.\n"
     ]
    }
   ],
   "source": [
    "!pdm run sphinx-build docs/ docs/_build/html"
   ]
  },
  {
   "cell_type": "markdown",
   "id": "fb536d80",
   "metadata": {},
   "source": [
    "## browse"
   ]
  },
  {
   "cell_type": "code",
   "execution_count": 20,
   "id": "4489e86e",
   "metadata": {},
   "outputs": [
    {
     "data": {
      "text/html": [
       "<!DOCTYPE html>\n",
       "\n",
       "<html lang=\"en\">\n",
       "  <head>\n",
       "    <meta charset=\"utf-8\" />\n",
       "    <meta name=\"viewport\" content=\"width=device-width, initial-scale=1.0\" /><meta name=\"viewport\" content=\"width=device-width, initial-scale=1\" />\n",
       "\n",
       "    <title>Welcome to sph_test’s documentation! &#8212; sph_test  documentation</title>\n",
       "    <link rel=\"stylesheet\" type=\"text/css\" href=\"_static/pygments.css\" />\n",
       "    <link rel=\"stylesheet\" type=\"text/css\" href=\"_static/alabaster.css\" />\n",
       "    <script data-url_root=\"./\" id=\"documentation_options\" src=\"_static/documentation_options.js\"></script>\n",
       "    <script src=\"_static/doctools.js\"></script>\n",
       "    <script src=\"_static/sphinx_highlight.js\"></script>\n",
       "    <link rel=\"index\" title=\"Index\" href=\"genindex.html\" />\n",
       "    <link rel=\"search\" title=\"Search\" href=\"search.html\" />\n",
       "   \n",
       "  <link rel=\"stylesheet\" href=\"_static/custom.css\" type=\"text/css\" />\n",
       "  \n",
       "  \n",
       "  <meta name=\"viewport\" content=\"width=device-width, initial-scale=0.9, maximum-scale=0.9\" />\n",
       "\n",
       "  </head><body>\n",
       "  \n",
       "\n",
       "    <div class=\"document\">\n",
       "      <div class=\"documentwrapper\">\n",
       "        <div class=\"bodywrapper\">\n",
       "          \n",
       "\n",
       "          <div class=\"body\" role=\"main\">\n",
       "            \n",
       "  <section id=\"welcome-to-sph-test-s-documentation\">\n",
       "<h1>Welcome to sph_test’s documentation!<a class=\"headerlink\" href=\"#welcome-to-sph-test-s-documentation\" title=\"Permalink to this heading\">¶</a></h1>\n",
       "<div class=\"toctree-wrapper compound\">\n",
       "</div>\n",
       "</section>\n",
       "<section id=\"indices-and-tables\">\n",
       "<h1>Indices and tables<a class=\"headerlink\" href=\"#indices-and-tables\" title=\"Permalink to this heading\">¶</a></h1>\n",
       "<ul class=\"simple\">\n",
       "<li><p><a class=\"reference internal\" href=\"genindex.html\"><span class=\"std std-ref\">Index</span></a></p></li>\n",
       "<li><p><a class=\"reference internal\" href=\"py-modindex.html\"><span class=\"std std-ref\">Module Index</span></a></p></li>\n",
       "<li><p><a class=\"reference internal\" href=\"search.html\"><span class=\"std std-ref\">Search Page</span></a></p></li>\n",
       "</ul>\n",
       "</section>\n",
       "\n",
       "\n",
       "          </div>\n",
       "          \n",
       "        </div>\n",
       "      </div>\n",
       "      <div class=\"sphinxsidebar\" role=\"navigation\" aria-label=\"main navigation\">\n",
       "        <div class=\"sphinxsidebarwrapper\">\n",
       "<h1 class=\"logo\"><a href=\"#\">sph_test</a></h1>\n",
       "\n",
       "\n",
       "\n",
       "\n",
       "\n",
       "\n",
       "\n",
       "\n",
       "<h3>Navigation</h3>\n",
       "\n",
       "<div class=\"relations\">\n",
       "<h3>Related Topics</h3>\n",
       "<ul>\n",
       "  <li><a href=\"#\">Documentation overview</a><ul>\n",
       "  </ul></li>\n",
       "</ul>\n",
       "</div>\n",
       "<div id=\"searchbox\" style=\"display: none\" role=\"search\">\n",
       "  <h3 id=\"searchlabel\">Quick search</h3>\n",
       "    <div class=\"searchformwrapper\">\n",
       "    <form class=\"search\" action=\"search.html\" method=\"get\">\n",
       "      <input type=\"text\" name=\"q\" aria-labelledby=\"searchlabel\" autocomplete=\"off\" autocorrect=\"off\" autocapitalize=\"off\" spellcheck=\"false\"/>\n",
       "      <input type=\"submit\" value=\"Go\" />\n",
       "    </form>\n",
       "    </div>\n",
       "</div>\n",
       "<script>document.getElementById('searchbox').style.display = \"block\"</script>\n",
       "\n",
       "\n",
       "\n",
       "\n",
       "\n",
       "\n",
       "\n",
       "\n",
       "        </div>\n",
       "      </div>\n",
       "      <div class=\"clearer\"></div>\n",
       "    </div>\n",
       "    <div class=\"footer\">\n",
       "      &copy;2023, YB.\n",
       "      \n",
       "      |\n",
       "      Powered by <a href=\"http://sphinx-doc.org/\">Sphinx 7.0.1</a>\n",
       "      &amp; <a href=\"https://github.com/bitprophet/alabaster\">Alabaster 0.7.13</a>\n",
       "      \n",
       "      |\n",
       "      <a href=\"_sources/index.rst.txt\"\n",
       "          rel=\"nofollow\">Page source</a>\n",
       "    </div>\n",
       "\n",
       "    \n",
       "\n",
       "    \n",
       "  </body>\n",
       "</html>"
      ],
      "text/plain": [
       "<IPython.core.display.HTML object>"
      ]
     },
     "metadata": {},
     "output_type": "display_data"
    }
   ],
   "source": [
    "from IPython.display import display, HTML\n",
    "chart = HTML('./docs/_build/html/index.html')\n",
    "# or chart = charts.plot(...)\n",
    "display(chart)"
   ]
  },
  {
   "cell_type": "code",
   "execution_count": null,
   "id": "99cdc18e",
   "metadata": {},
   "outputs": [],
   "source": []
  }
 ],
 "metadata": {
  "celltoolbar": "Tags",
  "kernelspec": {
   "display_name": "Python 3 (ipykernel)",
   "language": "python",
   "name": "python3"
  },
  "language_info": {
   "codemirror_mode": {
    "name": "ipython",
    "version": 3
   },
   "file_extension": ".py",
   "mimetype": "text/x-python",
   "name": "python",
   "nbconvert_exporter": "python",
   "pygments_lexer": "ipython3",
   "version": "3.10.6"
  }
 },
 "nbformat": 4,
 "nbformat_minor": 5
}
