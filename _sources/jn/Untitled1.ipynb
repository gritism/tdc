{
 "cells": [
  {
   "cell_type": "code",
   "execution_count": 12,
   "id": "7c08893c",
   "metadata": {},
   "outputs": [],
   "source": [
    "%mkdir pdm_test"
   ]
  },
  {
   "cell_type": "code",
   "execution_count": 13,
   "id": "ae66eedb",
   "metadata": {},
   "outputs": [
    {
     "name": "stdout",
     "output_type": "stream",
     "text": [
      "/home/yblee/pdm_test\n"
     ]
    }
   ],
   "source": [
    "%cd pdm_test"
   ]
  },
  {
   "cell_type": "markdown",
   "id": "e1ee6c3d",
   "metadata": {},
   "source": [
    "# pdm"
   ]
  },
  {
   "cell_type": "markdown",
   "id": "e1071f25",
   "metadata": {},
   "source": [
    "## pdm 초기화"
   ]
  },
  {
   "cell_type": "code",
   "execution_count": 23,
   "id": "5195598d",
   "metadata": {},
   "outputs": [
    {
     "name": "stdout",
     "output_type": "stream",
     "text": [
      "\u001b[36mCreating a pyproject.toml for PDM...\u001b[0m\n",
      "Virtualenv is created successfully at \u001b[32m/home/yblee/pdm_test/\u001b[0m\u001b[32m.venv\u001b[0m\n",
      "Changes are written to \u001b[32mpyproject.toml\u001b[0m.\n",
      "\n",
      "\u001b[34mPDM \u001b[0m\u001b[1;36m2.6\u001b[0m\u001b[36m.\u001b[0m\u001b[1;36m1\u001b[0m\u001b[34m is installed, while \u001b[0m\u001b[1;36m2.7\u001b[0m\u001b[36m.\u001b[0m\u001b[1;36m2\u001b[0m\u001b[34m is available.\u001b[0m\n",
      "\u001b[34mPlease run \u001b[0m\u001b[1;32m`pdm self update`\u001b[0m\u001b[34m to upgrade.\u001b[0m\n",
      "\u001b[34mRun \u001b[0m\u001b[1;32m`pdm config check_update false`\u001b[0m\u001b[34m to disable the check.\u001b[0m\n"
     ]
    }
   ],
   "source": [
    "!pdm init -n"
   ]
  },
  {
   "cell_type": "code",
   "execution_count": 24,
   "id": "e4e499a9",
   "metadata": {},
   "outputs": [
    {
     "name": "stdout",
     "output_type": "stream",
     "text": [
      "\u001b[33mUsage: \u001b[0mpdm init [-h] [-v] [-g] [-p PROJECT_PATH] [-k SKIP] [-n]\r\n",
      "                [--python PYTHON]\r\n",
      "                [--backend {pdm-backend,setuptools,flit-core,hatchling,pdm-pep517}]\r\n",
      "                [--lib]\r\n",
      "\r\n",
      "Initialize a pyproject.toml for PDM\r\n",
      "\r\n",
      "\u001b[33mOptions\u001b[0m:\r\n",
      "\u001b[36m  -h, --help            \u001b[0mShow this help message and exit.\r\n",
      "\u001b[36m  -v, --verbose         \u001b[0mUse `-v` for detailed output and `-vv` for more\r\n",
      "                        detailed\r\n",
      "\u001b[36m  -g, --global          \u001b[0mUse the global project, supply the project root with\r\n",
      "                        `-p` option\r\n",
      "\u001b[36m  -p PROJECT_PATH, --project PROJECT_PATH\u001b[0m\r\n",
      "                        Specify another path as the project root, which\r\n",
      "                        changes the base of pyproject.toml and __pypackages__\r\n",
      "\u001b[36m  -k SKIP, --skip SKIP  \u001b[0mSkip some tasks and/or hooks by their comma-separated\r\n",
      "                        names. Can be supplied multiple times. Use \":all\" to\r\n",
      "                        skip all hooks. Use \":pre\" and \":post\" to skip all pre\r\n",
      "                        or post hooks.\r\n",
      "\u001b[36m  -n, --non-interactive\u001b[0m\r\n",
      "                        Don't ask questions but use default values\r\n",
      "\u001b[36m  --python PYTHON       \u001b[0mSpecify the Python version/path to use\r\n",
      "\u001b[36m  --backend {pdm-backend,setuptools,flit-core,hatchling,pdm-pep517}\u001b[0m\r\n",
      "                        Specify the build backend\r\n",
      "\u001b[36m  --lib                 \u001b[0mCreate a library project\r\n"
     ]
    }
   ],
   "source": [
    "!pdm init -h"
   ]
  },
  {
   "cell_type": "code",
   "execution_count": null,
   "id": "d0164272",
   "metadata": {},
   "outputs": [],
   "source": []
  }
 ],
 "metadata": {
  "kernelspec": {
   "display_name": "Python 3 (ipykernel)",
   "language": "python",
   "name": "python3"
  },
  "language_info": {
   "codemirror_mode": {
    "name": "ipython",
    "version": 3
   },
   "file_extension": ".py",
   "mimetype": "text/x-python",
   "name": "python",
   "nbconvert_exporter": "python",
   "pygments_lexer": "ipython3",
   "version": "3.10.6"
  }
 },
 "nbformat": 4,
 "nbformat_minor": 5
}
