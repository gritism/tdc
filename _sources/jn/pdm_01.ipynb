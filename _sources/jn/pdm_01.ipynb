{
 "cells": [
  {
   "cell_type": "markdown",
   "id": "53f7a7f5",
   "metadata": {},
   "source": [
    "# pdm"
   ]
  },
  {
   "cell_type": "markdown",
   "id": "53c3eb5b",
   "metadata": {},
   "source": [
    "## pdm 설치를 위한 pdm_test 폴더 생성"
   ]
  },
  {
   "cell_type": "code",
   "execution_count": 8,
   "id": "d234a8d7",
   "metadata": {},
   "outputs": [
    {
     "name": "stdout",
     "output_type": "stream",
     "text": [
      "/home/yblee\n",
      "/home/yblee/pdm_test\n"
     ]
    }
   ],
   "source": [
    "%cd ~/\n",
    "%rm -r -d pdm_test\n",
    "%mkdir pdm_test\n",
    "%cd pdm_test"
   ]
  },
  {
   "cell_type": "markdown",
   "id": "0dc64fb5",
   "metadata": {},
   "source": [
    "## pdm 초기화"
   ]
  },
  {
   "cell_type": "code",
   "execution_count": 9,
   "id": "c0cfeb47",
   "metadata": {},
   "outputs": [
    {
     "name": "stdout",
     "output_type": "stream",
     "text": [
      "\u001b[36mCreating a pyproject.toml for PDM...\u001b[0m\n",
      "Virtualenv is created successfully at \u001b[32m/home/yblee/pdm_test/\u001b[0m\u001b[32m.venv\u001b[0m\n",
      "Changes are written to \u001b[32mpyproject.toml\u001b[0m.\n",
      "\n",
      "\u001b[34mPDM \u001b[0m\u001b[1;36m2.6\u001b[0m\u001b[36m.\u001b[0m\u001b[1;36m1\u001b[0m\u001b[34m is installed, while \u001b[0m\u001b[1;36m2.7\u001b[0m\u001b[36m.\u001b[0m\u001b[1;36m2\u001b[0m\u001b[34m is available.\u001b[0m\n",
      "\u001b[34mPlease run \u001b[0m\u001b[1;32m`pdm self update`\u001b[0m\u001b[34m to upgrade.\u001b[0m\n",
      "\u001b[34mRun \u001b[0m\u001b[1;32m`pdm config check_update false`\u001b[0m\u001b[34m to disable the check.\u001b[0m\n"
     ]
    }
   ],
   "source": [
    "!pdm init -n"
   ]
  },
  {
   "cell_type": "markdown",
   "id": "beaec38e",
   "metadata": {},
   "source": [
    "**<pdm init usage>**  \n",
    "\n",
    "```\n",
    "    Usage: pdm init [-h] [-v] [-g] [-p PROJECT_PATH] [-k SKIP] [-n]\n",
    "                    [--python PYTHON]\n",
    "                    [--backend {pdm-backend,setuptools,flit-core,hatchling,pdm-pep517}]\n",
    "                    [--lib]\n",
    "\n",
    "    Initialize a pyproject.toml for PDM\n",
    "\n",
    "    Options:\n",
    "      -h, --help            Show this help message and exit.\n",
    "      -v, --verbose         Use `-v` for detailed output and `-vv` for more\n",
    "                            detailed\n",
    "      -g, --global          Use the global project, supply the project root with\n",
    "                            `-p` option\n",
    "      -p PROJECT_PATH, --project PROJECT_PATH\n",
    "                            Specify another path as the project root, which\n",
    "                            changes the base of pyproject.toml and __pypackages__\n",
    "      -k SKIP, --skip SKIP  Skip some tasks and/or hooks by their comma-separated\n",
    "                            names. Can be supplied multiple times. Use \":all\" to\n",
    "                            skip all hooks. Use \":pre\" and \":post\" to skip all pre\n",
    "                            or post hooks.\n",
    "      -n, --non-interactive\n",
    "                            Don't ask questions but use default values\n",
    "      --python PYTHON       Specify the Python version/path to use\n",
    "      --backend {pdm-backend,setuptools,flit-core,hatchling,pdm-pep517}\n",
    "                            Specify the build backend\n",
    "      --lib                 Create a library project\n",
    "```"
   ]
  },
  {
   "cell_type": "code",
   "execution_count": 17,
   "id": "e813a6e8",
   "metadata": {},
   "outputs": [
    {
     "name": "stdout",
     "output_type": "stream",
     "text": [
      "Virtualenvs created with this project:\r\n",
      "\r\n",
      "*  \u001b[32min-project\u001b[0m: /home/yblee/pdm_test/.venv\r\n",
      "\r\n",
      "\u001b[34mPDM \u001b[0m\u001b[1;36m2.6\u001b[0m\u001b[36m.\u001b[0m\u001b[1;36m1\u001b[0m\u001b[34m is installed, while \u001b[0m\u001b[1;36m2.7\u001b[0m\u001b[36m.\u001b[0m\u001b[1;36m2\u001b[0m\u001b[34m is available.\u001b[0m\r\n",
      "\u001b[34mPlease run \u001b[0m\u001b[1;32m`pdm self update`\u001b[0m\u001b[34m to upgrade.\u001b[0m\r\n",
      "\u001b[34mRun \u001b[0m\u001b[1;32m`pdm config check_update false`\u001b[0m\u001b[34m to disable the check.\u001b[0m\r\n"
     ]
    }
   ],
   "source": [
    "!pdm venv list"
   ]
  },
  {
   "cell_type": "markdown",
   "id": "00a58192",
   "metadata": {},
   "source": [
    "## library 설치"
   ]
  },
  {
   "cell_type": "code",
   "execution_count": 18,
   "id": "fd70bf9d",
   "metadata": {},
   "outputs": [
    {
     "name": "stdout",
     "output_type": "stream",
     "text": [
      "\u001b[34mAdding group \u001b[0m\u001b[32mdefault\u001b[0m\u001b[34m to lockfile\u001b[0m\n",
      "Adding packages to \u001b[36mdefault\u001b[0m dependencies: \u001b[1;32mpandas\u001b[0m\n",
      "\u001b[2K\u001b[36m⠏\u001b[0m Fetching hashes for resolved packages...m1.24.3\u001b[0m\n",
      "\u001b[1A\u001b[2K🔒 Lock successful\n",
      "Changes are written to \u001b[32mpyproject.toml\u001b[0m.\n",
      "\u001b[?25l\u001b[36m⠋\u001b[0m Fetching hashes for resolved packages...\n",
      "\u001b[1A\u001b[2K\u001b[1mSynchronizing working set with lock file\u001b[0m: \u001b[32m6\u001b[0m to add, \u001b[33m0\u001b[0m to update, \u001b[31m0\u001b[0m to remove\n",
      "\n",
      "\u001b[2K  \u001b[36m⠋\u001b[0m Installing \u001b[1;32mnumpy\u001b[0m \u001b[33m1.24.3\u001b[0m...\n",
      "\u001b[2K\u001b[1A\u001b[2K  \u001b[36m⠋\u001b[0m Installing \u001b[1;32mnumpy\u001b[0m \u001b[33m1.24.3\u001b[0m...         \n",
      "  \u001b[36m⠋\u001b[0m Installing \u001b[1;32mpandas\u001b[0m \u001b[33m2.0.2\u001b[0m...         \n",
      "\u001b[2K\u001b[1A\u001b[2K\u001b[1A\u001b[2K  \u001b[36m⠋\u001b[0m Installing \u001b[1;32mnumpy\u001b[0m \u001b[33m1.24.3\u001b[0m...         \n",
      "  \u001b[36m⠋\u001b[0m Installing \u001b[1;32mpandas\u001b[0m \u001b[33m2.0.2\u001b[0m...         \n",
      "  \u001b[36m⠋\u001b[0m Installing \u001b[1;32mpython-dateutil\u001b[0m \u001b[33m2.8.2\u001b[0m...\n",
      "\u001b[2K\u001b[1A\u001b[2K\u001b[1A\u001b[2K\u001b[1A\u001b[2K  \u001b[36m⠙\u001b[0m Installing \u001b[1;32mnumpy\u001b[0m \u001b[33m1.24.3\u001b[0m...         \n",
      "  \u001b[36m⠙\u001b[0m Installing \u001b[1;32mpandas\u001b[0m \u001b[33m2.0.2\u001b[0m...         \n",
      "  \u001b[36m⠙\u001b[0m Installing \u001b[1;32mpython-dateutil\u001b[0m \u001b[33m2.8.2\u001b[0m...\n",
      "\u001b[2K\u001b[1A\u001b[2K\u001b[1A\u001b[2K\u001b[1A\u001b[2K  \u001b[32m✔\u001b[0m Install \u001b[1;32mpython-dateutil\u001b[0m \u001b[33m2.8.2\u001b[0m successful\n",
      "  \u001b[36m⠙\u001b[0m Installing \u001b[1;32mnumpy\u001b[0m \u001b[33m1.24.3\u001b[0m...         \n",
      "  \u001b[36m⠙\u001b[0m Installing \u001b[1;32mpandas\u001b[0m \u001b[33m2.0.2\u001b[0m...         \n",
      "  \u001b[36m⠙\u001b[0m Installing \u001b[1;32mpython-dateutil\u001b[0m \u001b[33m2.8.2\u001b[0m...\n",
      "\u001b[2K\u001b[1A\u001b[2K\u001b[1A\u001b[2K\u001b[1A\u001b[2K  \u001b[36m⠹\u001b[0m Installing \u001b[1;32mnumpy\u001b[0m \u001b[33m1.24.3\u001b[0m...\n",
      "  \u001b[36m⠹\u001b[0m Installing \u001b[1;32mpandas\u001b[0m \u001b[33m2.0.2\u001b[0m...\n",
      "  \u001b[36m⠹\u001b[0m Installing \u001b[1;32mpytz\u001b[0m \u001b[33m2023.3\u001b[0m... \n",
      "\u001b[2K\u001b[1A\u001b[2K\u001b[1A\u001b[2K\u001b[1A\u001b[2K  \u001b[36m⠹\u001b[0m Installing \u001b[1;32mnumpy\u001b[0m \u001b[33m1.24.3\u001b[0m...\n",
      "  \u001b[36m⠹\u001b[0m Installing \u001b[1;32mpandas\u001b[0m \u001b[33m2.0.2\u001b[0m...\n",
      "  \u001b[36m⠹\u001b[0m Installing \u001b[1;32mpytz\u001b[0m \u001b[33m2023.3\u001b[0m... \n",
      "\u001b[2K\u001b[1A\u001b[2K\u001b[1A\u001b[2K\u001b[1A\u001b[2K  \u001b[32m✔\u001b[0m Install \u001b[1;32msix\u001b[0m \u001b[33m1.16.0\u001b[0m successful\n",
      "  \u001b[36m⠹\u001b[0m Installing \u001b[1;32mnumpy\u001b[0m \u001b[33m1.24.3\u001b[0m...\n",
      "  \u001b[36m⠹\u001b[0m Installing \u001b[1;32mpandas\u001b[0m \u001b[33m2.0.2\u001b[0m...\n",
      "  \u001b[36m⠹\u001b[0m Installing \u001b[1;32mpytz\u001b[0m \u001b[33m2023.3\u001b[0m... \n",
      "\u001b[2K\u001b[1A\u001b[2K\u001b[1A\u001b[2K\u001b[1A\u001b[2K  \u001b[36m⠸\u001b[0m Installing \u001b[1;32mnumpy\u001b[0m \u001b[33m1.24.3\u001b[0m... \n",
      "  \u001b[36m⠸\u001b[0m Installing \u001b[1;32mpandas\u001b[0m \u001b[33m2.0.2\u001b[0m... \n",
      "  \u001b[36m⠸\u001b[0m Installing \u001b[1;32mpytz\u001b[0m \u001b[33m2023.3\u001b[0m...  \n",
      "\u001b[2K\u001b[1A\u001b[2K\u001b[1A\u001b[2K\u001b[1A\u001b[2K  \u001b[36m⠸\u001b[0m Installing \u001b[1;32mnumpy\u001b[0m \u001b[33m1.24.3\u001b[0m... \n",
      "  \u001b[36m⠸\u001b[0m Installing \u001b[1;32mpandas\u001b[0m \u001b[33m2.0.2\u001b[0m... \n",
      "  \u001b[36m⠸\u001b[0m Installing \u001b[1;32mpytz\u001b[0m \u001b[33m2023.3\u001b[0m...  \n",
      "\u001b[2K\u001b[1A\u001b[2K\u001b[1A\u001b[2K\u001b[1A\u001b[2K  \u001b[36m⠴\u001b[0m Installing \u001b[1;32mnumpy\u001b[0m \u001b[33m1.24.3\u001b[0m... \n",
      "  \u001b[36m⠴\u001b[0m Installing \u001b[1;32mpandas\u001b[0m \u001b[33m2.0.2\u001b[0m... \n",
      "  \u001b[36m⠴\u001b[0m Installing \u001b[1;32mpytz\u001b[0m \u001b[33m2023.3\u001b[0m...  \n",
      "\u001b[2K\u001b[1A\u001b[2K\u001b[1A\u001b[2K\u001b[1A\u001b[2K  \u001b[36m⠦\u001b[0m Installing \u001b[1;32mnumpy\u001b[0m \u001b[33m1.24.3\u001b[0m... \n",
      "  \u001b[36m⠦\u001b[0m Installing \u001b[1;32mpandas\u001b[0m \u001b[33m2.0.2\u001b[0m... \n",
      "  \u001b[36m⠦\u001b[0m Installing \u001b[1;32mpytz\u001b[0m \u001b[33m2023.3\u001b[0m...  \n",
      "\u001b[2K\u001b[1A\u001b[2K\u001b[1A\u001b[2K\u001b[1A\u001b[2K  \u001b[36m⠧\u001b[0m Installing \u001b[1;32mnumpy\u001b[0m \u001b[33m1.24.3\u001b[0m... \n",
      "  \u001b[36m⠧\u001b[0m Installing \u001b[1;32mpandas\u001b[0m \u001b[33m2.0.2\u001b[0m... \n",
      "  \u001b[36m⠧\u001b[0m Installing \u001b[1;32mpytz\u001b[0m \u001b[33m2023.3\u001b[0m...  \n",
      "\u001b[2K\u001b[1A\u001b[2K\u001b[1A\u001b[2K\u001b[1A\u001b[2K  \u001b[36m⠏\u001b[0m Installing \u001b[1;32mnumpy\u001b[0m \u001b[33m1.24.3\u001b[0m... \n",
      "  \u001b[36m⠏\u001b[0m Installing \u001b[1;32mpandas\u001b[0m \u001b[33m2.0.2\u001b[0m... \n",
      "  \u001b[36m⠏\u001b[0m Installing \u001b[1;32mpytz\u001b[0m \u001b[33m2023.3\u001b[0m...  \n",
      "\u001b[2K\u001b[1A\u001b[2K\u001b[1A\u001b[2K\u001b[1A\u001b[2K  \u001b[36m⠋\u001b[0m Installing \u001b[1;32mnumpy\u001b[0m \u001b[33m1.24.3\u001b[0m... \n",
      "  \u001b[36m⠋\u001b[0m Installing \u001b[1;32mpandas\u001b[0m \u001b[33m2.0.2\u001b[0m... \n",
      "  \u001b[36m⠋\u001b[0m Installing \u001b[1;32mpytz\u001b[0m \u001b[33m2023.3\u001b[0m...  \n",
      "\u001b[2K\u001b[1A\u001b[2K\u001b[1A\u001b[2K\u001b[1A\u001b[2K  \u001b[36m⠙\u001b[0m Installing \u001b[1;32mnumpy\u001b[0m \u001b[33m1.24.3\u001b[0m... \n",
      "  \u001b[36m⠙\u001b[0m Installing \u001b[1;32mpandas\u001b[0m \u001b[33m2.0.2\u001b[0m... \n",
      "  \u001b[36m⠙\u001b[0m Installing \u001b[1;32mpytz\u001b[0m \u001b[33m2023.3\u001b[0m...  \n",
      "\u001b[2K\u001b[1A\u001b[2K\u001b[1A\u001b[2K\u001b[1A\u001b[2K  \u001b[36m⠸\u001b[0m Installing \u001b[1;32mnumpy\u001b[0m \u001b[33m1.24.3\u001b[0m... \n",
      "  \u001b[36m⠸\u001b[0m Installing \u001b[1;32mpandas\u001b[0m \u001b[33m2.0.2\u001b[0m... \n",
      "  \u001b[36m⠸\u001b[0m Installing \u001b[1;32mpytz\u001b[0m \u001b[33m2023.3\u001b[0m...  \n",
      "\u001b[2K\u001b[1A\u001b[2K\u001b[1A\u001b[2K\u001b[1A\u001b[2K  \u001b[36m⠼\u001b[0m Installing \u001b[1;32mnumpy\u001b[0m \u001b[33m1.24.3\u001b[0m... \n",
      "  \u001b[36m⠼\u001b[0m Installing \u001b[1;32mpandas\u001b[0m \u001b[33m2.0.2\u001b[0m... \n",
      "  \u001b[36m⠼\u001b[0m Installing \u001b[1;32mpytz\u001b[0m \u001b[33m2023.3\u001b[0m...  \n",
      "\u001b[2K\u001b[1A\u001b[2K\u001b[1A\u001b[2K\u001b[1A\u001b[2K  \u001b[36m⠴\u001b[0m Installing \u001b[1;32mnumpy\u001b[0m \u001b[33m1.24.3\u001b[0m... \n",
      "  \u001b[36m⠴\u001b[0m Installing \u001b[1;32mpandas\u001b[0m \u001b[33m2.0.2\u001b[0m... \n",
      "  \u001b[36m⠴\u001b[0m Installing \u001b[1;32mpytz\u001b[0m \u001b[33m2023.3\u001b[0m...  \n",
      "\u001b[2K\u001b[1A\u001b[2K\u001b[1A\u001b[2K\u001b[1A\u001b[2K  \u001b[36m⠦\u001b[0m Installing \u001b[1;32mnumpy\u001b[0m \u001b[33m1.24.3\u001b[0m... \n",
      "  \u001b[36m⠦\u001b[0m Installing \u001b[1;32mpandas\u001b[0m \u001b[33m2.0.2\u001b[0m... \n",
      "  \u001b[36m⠦\u001b[0m Installing \u001b[1;32mpytz\u001b[0m \u001b[33m2023.3\u001b[0m...  \n",
      "\u001b[2K\u001b[1A\u001b[2K\u001b[1A\u001b[2K\u001b[1A\u001b[2K  \u001b[36m⠇\u001b[0m Installing \u001b[1;32mnumpy\u001b[0m \u001b[33m1.24.3\u001b[0m... \n",
      "  \u001b[36m⠇\u001b[0m Installing \u001b[1;32mpandas\u001b[0m \u001b[33m2.0.2\u001b[0m... \n",
      "  \u001b[36m⠇\u001b[0m Installing \u001b[1;32mpytz\u001b[0m \u001b[33m2023.3\u001b[0m...  \n",
      "\u001b[2K\u001b[1A\u001b[2K\u001b[1A\u001b[2K\u001b[1A\u001b[2K  \u001b[32m✔\u001b[0m Install \u001b[1;32mpytz\u001b[0m \u001b[33m2023.3\u001b[0m successful\n",
      "  \u001b[36m⠇\u001b[0m Installing \u001b[1;32mnumpy\u001b[0m \u001b[33m1.24.3\u001b[0m... \n",
      "  \u001b[36m⠇\u001b[0m Installing \u001b[1;32mpandas\u001b[0m \u001b[33m2.0.2\u001b[0m... \n",
      "  \u001b[36m⠇\u001b[0m Installing \u001b[1;32mpytz\u001b[0m \u001b[33m2023.3\u001b[0m...  \n",
      "\u001b[2K\u001b[1A\u001b[2K\u001b[1A\u001b[2K\u001b[1A\u001b[2K  \u001b[36m⠏\u001b[0m Installing \u001b[1;32mnumpy\u001b[0m \u001b[33m1.24.3\u001b[0m... \n",
      "  \u001b[36m⠏\u001b[0m Installing \u001b[1;32mpandas\u001b[0m \u001b[33m2.0.2\u001b[0m... \n",
      "\u001b[2K\u001b[1A\u001b[2K\u001b[1A\u001b[2K  \u001b[32m✔\u001b[0m Install \u001b[1;32mtzdata\u001b[0m \u001b[33m2023.3\u001b[0m successful\n",
      "  \u001b[36m⠏\u001b[0m Installing \u001b[1;32mnumpy\u001b[0m \u001b[33m1.24.3\u001b[0m... \n",
      "  \u001b[36m⠏\u001b[0m Installing \u001b[1;32mpandas\u001b[0m \u001b[33m2.0.2\u001b[0m... \n",
      "\u001b[2K\u001b[1A\u001b[2K\u001b[1A\u001b[2K  \u001b[36m⠋\u001b[0m Installing \u001b[1;32mnumpy\u001b[0m \u001b[33m1.24.3\u001b[0m...\n",
      "\u001b[2K\u001b[1A\u001b[2K  \u001b[36m⠹\u001b[0m Installing \u001b[1;32mnumpy\u001b[0m \u001b[33m1.24.3\u001b[0m...\n",
      "\u001b[2K\u001b[1A\u001b[2K  \u001b[36m⠸\u001b[0m Installing \u001b[1;32mnumpy\u001b[0m \u001b[33m1.24.3\u001b[0m...\n",
      "\u001b[2K\u001b[1A\u001b[2K  \u001b[36m⠼\u001b[0m Installing \u001b[1;32mnumpy\u001b[0m \u001b[33m1.24.3\u001b[0m...\n",
      "\u001b[2K\u001b[1A\u001b[2K  \u001b[36m⠴\u001b[0m Installing \u001b[1;32mnumpy\u001b[0m \u001b[33m1.24.3\u001b[0m...\n",
      "\u001b[2K\u001b[1A\u001b[2K  \u001b[36m⠧\u001b[0m Installing \u001b[1;32mnumpy\u001b[0m \u001b[33m1.24.3\u001b[0m...\n",
      "\u001b[2K\u001b[1A\u001b[2K  \u001b[36m⠇\u001b[0m Installing \u001b[1;32mnumpy\u001b[0m \u001b[33m1.24.3\u001b[0m...\n",
      "\u001b[2K\u001b[1A\u001b[2K  \u001b[36m⠏\u001b[0m Installing \u001b[1;32mnumpy\u001b[0m \u001b[33m1.24.3\u001b[0m...\n",
      "\u001b[2K\u001b[1A\u001b[2K  \u001b[36m⠋\u001b[0m Installing \u001b[1;32mnumpy\u001b[0m \u001b[33m1.24.3\u001b[0m...\n",
      "\u001b[2K\u001b[1A\u001b[2K  \u001b[36m⠹\u001b[0m Installing \u001b[1;32mnumpy\u001b[0m \u001b[33m1.24.3\u001b[0m...\n",
      "\u001b[2K\u001b[1A\u001b[2K  \u001b[36m⠸\u001b[0m Installing \u001b[1;32mnumpy\u001b[0m \u001b[33m1.24.3\u001b[0m...\n",
      "\u001b[2K\u001b[1A\u001b[2K  \u001b[36m⠼\u001b[0m Installing \u001b[1;32mnumpy\u001b[0m \u001b[33m1.24.3\u001b[0m...\n",
      "\u001b[2K\u001b[1A\u001b[2K  \u001b[36m⠦\u001b[0m Installing \u001b[1;32mnumpy\u001b[0m \u001b[33m1.24.3\u001b[0m...\n",
      "\u001b[2K\u001b[1A\u001b[2K  \u001b[36m⠧\u001b[0m Installing \u001b[1;32mnumpy\u001b[0m \u001b[33m1.24.3\u001b[0m...\n",
      "\u001b[2K\u001b[1A\u001b[2K  \u001b[32m✔\u001b[0m Install \u001b[1;32mpandas\u001b[0m \u001b[33m2.0.2\u001b[0m successful\n",
      "  \u001b[36m⠧\u001b[0m Installing \u001b[1;32mnumpy\u001b[0m \u001b[33m1.24.3\u001b[0m...\n",
      "\u001b[2K  \u001b[32m✔\u001b[0m Install \u001b[1;32mnumpy\u001b[0m \u001b[33m1.24.3\u001b[0m successful...\n",
      "\u001b[2K36m⠏\u001b[0m Installing \u001b[1;32mnumpy\u001b[0m \u001b[33m1.24.3\u001b[0m...\n",
      "🎉 All complete!\n",
      "\u001b[2K36m⠏\u001b[0m Installing \u001b[1;32mnumpy\u001b[0m \u001b[33m1.24.3\u001b[0m...\n",
      "\u001b[?25h"
     ]
    }
   ],
   "source": [
    "!pdm add numpy"
   ]
  },
  {
   "cell_type": "code",
   "execution_count": 20,
   "id": "6d4987d3",
   "metadata": {},
   "outputs": [
    {
     "name": "stdout",
     "output_type": "stream",
     "text": [
      "\u001b[1;32mpandas\u001b[0m \u001b[33m2.0.2\u001b[0m [ required: >=2.0.2 ]\r\n",
      "├── \u001b[1;32mnumpy\u001b[0m \u001b[33m1.24.3\u001b[0m [ required: >=1.21.0 ]\r\n",
      "├── \u001b[1;32mpython-dateutil\u001b[0m \u001b[33m2.8.2\u001b[0m [ required: >=2.8.2 ]\r\n",
      "│   └── \u001b[1;32msix\u001b[0m \u001b[33m1.16.0\u001b[0m [ required: >=1.5 ]\r\n",
      "├── \u001b[1;32mpytz\u001b[0m \u001b[33m2023.3\u001b[0m [ required: >=2020.1 ]\r\n",
      "└── \u001b[1;32mtzdata\u001b[0m \u001b[33m2023.3\u001b[0m [ required: >=2022.1 ]\r\n"
     ]
    }
   ],
   "source": [
    "!pdm list --graph"
   ]
  },
  {
   "cell_type": "code",
   "execution_count": 21,
   "id": "e5511b8d",
   "metadata": {},
   "outputs": [
    {
     "name": "stdout",
     "output_type": "stream",
     "text": [
      "\u001b[01;34m.\u001b[0m\r\n",
      "├── pdm.lock\r\n",
      "└── pyproject.toml\r\n",
      "\r\n",
      "0 directories, 2 files\r\n"
     ]
    }
   ],
   "source": [
    "!tree ."
   ]
  },
  {
   "cell_type": "code",
   "execution_count": null,
   "id": "78460d34",
   "metadata": {},
   "outputs": [],
   "source": []
  }
 ],
 "metadata": {
  "kernelspec": {
   "display_name": "Python 3 (ipykernel)",
   "language": "python",
   "name": "python3"
  },
  "language_info": {
   "codemirror_mode": {
    "name": "ipython",
    "version": 3
   },
   "file_extension": ".py",
   "mimetype": "text/x-python",
   "name": "python",
   "nbconvert_exporter": "python",
   "pygments_lexer": "ipython3",
   "version": "3.10.6"
  }
 },
 "nbformat": 4,
 "nbformat_minor": 5
}
